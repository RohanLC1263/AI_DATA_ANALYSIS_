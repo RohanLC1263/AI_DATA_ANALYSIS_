{
 "cells": [
  {
   "cell_type": "code",
   "execution_count": null,
   "metadata": {},
   "outputs": [],
   "source": [
    "# Question: Combining Multiple Outlier Detection Methods\n",
    "# Description: Combine Z-score, IQR, and Boxplot methods to detect and compare outliers in adataset.\n",
    "\n",
    "\n"
   ]
  },
  {
   "cell_type": "code",
   "execution_count": 2,
   "metadata": {},
   "outputs": [
    {
     "data": {
      "image/png": "[encoded data removed]",
      "text/plain": [
       "<Figure size 800x500 with 1 Axes>"
      ]
     },
     "metadata": {},
     "output_type": "display_data"
    },
    {
     "name": "stdout",
     "output_type": "stream",
     "text": [
      "\n",
      "Outliers detected by Z-score:\n",
      "     Value   Z_Score  Outlier_Z  Outlier_IQR  Outlier_Boxplot  \\\n",
      "100  120.0  4.203638       True         True             True   \n",
      "101  130.0  4.815716       True         True             True   \n",
      "102  140.0  5.427794       True         True             True   \n",
      "\n",
      "     Outlier_Combined  \n",
      "100              True  \n",
      "101              True  \n",
      "102              True  \n",
      "\n",
      "Outliers detected by IQR:\n",
      "          Value   Z_Score  Outlier_Z  Outlier_IQR  Outlier_Boxplot  \\\n",
      "74    23.802549 -1.684398      False         True             True   \n",
      "100  120.000000  4.203638       True         True             True   \n",
      "101  130.000000  4.815716       True         True             True   \n",
      "102  140.000000  5.427794       True         True             True   \n",
      "\n",
      "     Outlier_Combined  \n",
      "74               True  \n",
      "100              True  \n",
      "101              True  \n",
      "102              True  \n",
      "\n",
      "Outliers detected by any method (combined):\n",
      "          Value   Z_Score  Outlier_Z  Outlier_IQR  Outlier_Boxplot  \\\n",
      "74    23.802549 -1.684398      False         True             True   \n",
      "100  120.000000  4.203638       True         True             True   \n",
      "101  130.000000  4.815716       True         True             True   \n",
      "102  140.000000  5.427794       True         True             True   \n",
      "\n",
      "     Outlier_Combined  \n",
      "74               True  \n",
      "100              True  \n",
      "101              True  \n",
      "102              True  \n"
     ]
    }
   ],
   "source": [
    "import pandas as pd\n",
    "import numpy as np\n",
    "import matplotlib.pyplot as plt\n",
    "import seaborn as sns\n",
    "from scipy.stats import zscore\n",
    "\n",
    "# Step 1: Generate or load sample data\n",
    "np.random.seed(42)\n",
    "data = np.random.normal(50, 10, 100).tolist() + [120, 130, 140]  # Add outliers\n",
    "df = pd.DataFrame(data, columns=['Value'])\n",
    "\n",
    "# Step 2: Z-score method\n",
    "df['Z_Score'] = zscore(df['Value'])\n",
    "df['Outlier_Z'] = df['Z_Score'].abs() > 3\n",
    "\n",
    "# Step 3: IQR method\n",
    "Q1 = df['Value'].quantile(0.25)\n",
    "Q3 = df['Value'].quantile(0.75)\n",
    "IQR = Q3 - Q1\n",
    "lower_bound = Q1 - 1.5 * IQR\n",
    "upper_bound = Q3 + 1.5 * IQR\n",
    "\n",
    "df['Outlier_IQR'] = (df['Value'] < lower_bound) | (df['Value'] > upper_bound)\n",
    "\n",
    "# Step 4: Boxplot visualization\n",
    "plt.figure(figsize=(8, 5))\n",
    "sns.boxplot(x=df['Value'])\n",
    "plt.title('Boxplot for Visual Outlier Detection')\n",
    "plt.show()\n",
    "\n",
    "# Step 5: Compare all detection methods\n",
    "df['Outlier_Boxplot'] = df['Outlier_IQR']  # Boxplot visually reflects IQR-based outliers\n",
    "df['Outlier_Combined'] = df[['Outlier_Z', 'Outlier_IQR']].any(axis=1)\n",
    "\n",
    "# Step 6: View outliers detected by each method\n",
    "print(\"\\nOutliers detected by Z-score:\")\n",
    "print(df[df['Outlier_Z']])\n",
    "\n",
    "print(\"\\nOutliers detected by IQR:\")\n",
    "print(df[df['Outlier_IQR']])\n",
    "\n",
    "print(\"\\nOutliers detected by any method (combined):\")\n",
    "print(df[df['Outlier_Combined']])\n"
   ]
  }
 ],
 "metadata": {
  "kernelspec": {
   "display_name": "Python 3",
   "language": "python",
   "name": "python3"
  },
  "language_info": {
   "codemirror_mode": {
    "name": "ipython",
    "version": 3
   },
   "file_extension": ".py",
   "mimetype": "text/x-python",
   "name": "python",
   "nbconvert_exporter": "python",
   "pygments_lexer": "ipython3",
   "version": "3.10.12"
  }
 },
 "nbformat": 4,
 "nbformat_minor": 2
}

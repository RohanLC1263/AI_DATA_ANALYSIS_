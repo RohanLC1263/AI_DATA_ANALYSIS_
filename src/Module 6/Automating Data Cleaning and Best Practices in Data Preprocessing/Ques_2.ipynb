{
 "cells": [
  {
   "cell_type": "markdown",
   "metadata": {},
   "source": [
    "    Task: Complete Pipeline for a Dataset\n",
    "1. Objective: Build a complex pipeline with multiple transformations.\n",
    "2. Steps:\n",
    "    - Load a sample dataset.\n",
    "    - Define a transformation pipeline with both imputation and scaling."
   ]
  },
  {
   "cell_type": "code",
   "execution_count": 1,
   "metadata": {},
   "outputs": [
    {
     "name": "stdout",
     "output_type": "stream",
     "text": [
      "📦 Original Dataset with Missing Values:\n",
      "\n",
      "    Age   Income\n",
      "0  25.0  50000.0\n",
      "1  30.0  60000.0\n",
      "2   NaN  55000.0\n",
      "3  45.0      NaN\n",
      "4  50.0  75000.0\n",
      "\n",
      "⚙️ Processed Dataset after Imputation and Scaling:\n",
      "\n",
      "        Age    Income\n",
      "0 -1.355815 -1.195229\n",
      "1 -0.813489  0.000000\n",
      "2  0.000000 -0.597614\n",
      "3  0.813489  0.000000\n",
      "4  1.355815  1.792843\n"
     ]
    }
   ],
   "source": [
    "# Write your code from here\n",
    "import pandas as pd\n",
    "import numpy as np\n",
    "from sklearn.pipeline import Pipeline\n",
    "from sklearn.impute import SimpleImputer\n",
    "from sklearn.preprocessing import StandardScaler\n",
    "\n",
    "# Step 1: Create a sample dataset with missing values\n",
    "data = {\n",
    "    'Age': [25, 30, np.nan, 45, 50],\n",
    "    'Income': [50000, 60000, 55000, np.nan, 75000]\n",
    "}\n",
    "df = pd.DataFrame(data)\n",
    "print(\"📦 Original Dataset with Missing Values:\\n\")\n",
    "print(df)\n",
    "\n",
    "# Step 2: Define the transformation pipeline\n",
    "pipeline = Pipeline([\n",
    "    ('imputer', SimpleImputer(strategy='mean')),   # Step 1: Impute missing values with mean\n",
    "    ('scaler', StandardScaler())                   # Step 2: Standardize features\n",
    "])\n",
    "\n",
    "# Step 3: Fit and transform the dataset\n",
    "processed_data = pipeline.fit_transform(df)\n",
    "\n",
    "# Convert the result back to a DataFrame\n",
    "processed_df = pd.DataFrame(processed_data, columns=df.columns)\n",
    "print(\"\\n⚙️ Processed Dataset after Imputation and Scaling:\\n\")\n",
    "print(processed_df)\n"
   ]
  },
  {
   "cell_type": "code",
   "execution_count": null,
   "metadata": {},
   "outputs": [],
   "source": [
    "# Task: Imputation Function\n",
    "\n",
    "\n",
    "\n",
    "\n",
    "\n",
    "\n",
    "\n",
    "\n",
    "# Scaling Function\n",
    "\n",
    "\n",
    "\n",
    "\n",
    "\n",
    "\n",
    "\n",
    "\n",
    "\n",
    "# Combined Transformation Function\n",
    "\n",
    "\n",
    "\n",
    "\n",
    "\n",
    "\n",
    "\n"
   ]
  }
 ],
 "metadata": {
  "kernelspec": {
   "display_name": "Python 3",
   "language": "python",
   "name": "python3"
  },
  "language_info": {
   "codemirror_mode": {
    "name": "ipython",
    "version": 3
   },
   "file_extension": ".py",
   "mimetype": "text/x-python",
   "name": "python",
   "nbconvert_exporter": "python",
   "pygments_lexer": "ipython3",
   "version": "3.10.12"
  }
 },
 "nbformat": 4,
 "nbformat_minor": 2
}

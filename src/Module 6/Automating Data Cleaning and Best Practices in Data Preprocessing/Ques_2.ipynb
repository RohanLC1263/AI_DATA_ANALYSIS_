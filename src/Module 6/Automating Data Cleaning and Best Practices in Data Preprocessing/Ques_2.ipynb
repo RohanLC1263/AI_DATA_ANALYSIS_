{
 "cells": [
  {
   "cell_type": "markdown",
   "metadata": {},
   "source": [
    "    Task: Complete Pipeline for a Dataset\n",
    "1. Objective: Build a complex pipeline with multiple transformations.\n",
    "2. Steps:\n",
    "    - Load a sample dataset.\n",
    "    - Define a transformation pipeline with both imputation and scaling."
   ]
  },
  {
   "cell_type": "code",
   "execution_count": null,
   "metadata": {},
   "outputs": [
    {
     "name": "stderr",
     "output_type": "stream",
     "text": [
      "...\n",
      "----------------------------------------------------------------------\n",
      "Ran 3 tests in 0.008s\n",
      "\n",
      "OK\n"
     ]
    },
    {
     "name": "stdout",
     "output_type": "stream",
     "text": [
      "✅ Cleaned and Scaled Data:\n",
      "         Age    Income\n",
      "0 -1.265924 -1.304743\n",
      "1  0.000000 -0.878704\n",
      "2 -0.506370  0.000000\n",
      "3  1.772294  1.357998\n",
      "4  0.000000  0.825450\n"
     ]
    },
    {
     "data": {
      "text/plain": [
       "<unittest.runner.TextTestResult run=3 errors=0 failures=0>"
      ]
     },
     "execution_count": 2,
     "metadata": {},
     "output_type": "execute_result"
    }
   ],
   "source": [
    "# Write your code from here\n"
   ]
  },
  {
   "cell_type": "code",
   "execution_count": 3,
   "metadata": {},
   "outputs": [
    {
     "name": "stderr",
     "output_type": "stream",
     "text": [
      "...F\n",
      "======================================================================\n",
      "FAIL: test_valid_pipeline (__main__.TestPipeline)\n",
      "----------------------------------------------------------------------\n",
      "Traceback (most recent call last):\n",
      "  File \"/tmp/ipykernel_18783/3113358262.py\", line 91, in test_valid_pipeline\n",
      "    np.testing.assert_almost_equal(result[0], expected_first_row, decimal=5)\n",
      "  File \"/usr/local/lib/python3.10/contextlib.py\", line 79, in inner\n",
      "    return func(*args, **kwds)\n",
      "  File \"/home/vscode/.local/lib/python3.10/site-packages/numpy/testing/_private/utils.py\", line 521, in assert_almost_equal\n",
      "    return assert_array_almost_equal(actual, desired, decimal, err_msg)\n",
      "  File \"/usr/local/lib/python3.10/contextlib.py\", line 79, in inner\n",
      "    return func(*args, **kwds)\n",
      "  File \"/home/vscode/.local/lib/python3.10/site-packages/numpy/testing/_private/utils.py\", line 1034, in assert_array_almost_equal\n",
      "    assert_array_compare(compare, x, y, err_msg=err_msg, verbose=verbose,\n",
      "  File \"/usr/local/lib/python3.10/contextlib.py\", line 79, in inner\n",
      "    return func(*args, **kwds)\n",
      "  File \"/home/vscode/.local/lib/python3.10/site-packages/numpy/testing/_private/utils.py\", line 797, in assert_array_compare\n",
      "    raise AssertionError(msg)\n",
      "AssertionError: \n",
      "Arrays are not almost equal to 5 decimals\n",
      "\n",
      "Mismatched elements: 1 / 2 (50%)\n",
      "Max absolute difference: 0.22474487\n",
      "Max relative difference: 0.22474487\n",
      " x: array([-1.22474, -1.22474])\n",
      " y: array([-1.     , -1.22474])\n",
      "\n",
      "----------------------------------------------------------------------\n",
      "Ran 4 tests in 0.032s\n",
      "\n",
      "FAILED (failures=1)\n"
     ]
    },
    {
     "name": "stdout",
     "output_type": "stream",
     "text": [
      "✅ Cleaned and Scaled Data:\n",
      "         Age    Income\n",
      "0 -1.265924 -1.304743\n",
      "1  0.000000 -0.878704\n",
      "2 -0.506370  0.000000\n",
      "3  1.772294  1.357998\n",
      "4  0.000000  0.825450\n"
     ]
    },
    {
     "data": {
      "text/plain": [
       "<unittest.runner.TextTestResult run=4 errors=0 failures=1>"
      ]
     },
     "execution_count": 3,
     "metadata": {},
     "output_type": "execute_result"
    }
   ],
   "source": [
    "import pandas as pd\n",
    "import numpy as np\n",
    "from sklearn.pipeline import Pipeline\n",
    "from sklearn.impute import SimpleImputer\n",
    "from sklearn.preprocessing import StandardScaler\n",
    "from sklearn.exceptions import NotFittedError\n",
    "import unittest\n",
    "\n",
    "# -----------------------\n",
    "# Function: Data Validator\n",
    "# -----------------------\n",
    "def validate_data(df):\n",
    "    \"\"\"\n",
    "    Validates input DataFrame:\n",
    "    - Ensures it's not empty.\n",
    "    - Ensures all columns are numeric.\n",
    "    - Ensures no negative or suspicious values for age/income.\n",
    "    \"\"\"\n",
    "    if df.empty:\n",
    "        raise ValueError(\"Dataset is empty.\")\n",
    "    if not all(df.dtypes.apply(lambda dt: np.issubdtype(dt, np.number))):\n",
    "        raise TypeError(\"All columns must be numeric.\")\n",
    "    if (df < 0).any().any():\n",
    "        raise ValueError(\"Dataset contains negative values, which may be invalid.\")\n",
    "\n",
    "# ---------------------\n",
    "# Step 1: Load Dataset\n",
    "# ---------------------\n",
    "data = {\n",
    "    'Age': [25, np.nan, 30, 45, np.nan],\n",
    "    'Income': [50000, 54000, np.nan, 75000, 70000]\n",
    "}\n",
    "df = pd.DataFrame(data)\n",
    "\n",
    "# ---------------------\n",
    "# Step 2: Validate Data\n",
    "# ---------------------\n",
    "try:\n",
    "    validate_data(df)\n",
    "\n",
    "    # ---------------------\n",
    "    # Step 3: Define Pipeline\n",
    "    # ---------------------\n",
    "    pipeline = Pipeline([\n",
    "        ('imputer', SimpleImputer(strategy='mean')),\n",
    "        ('scaler', StandardScaler())\n",
    "    ])\n",
    "\n",
    "    # ---------------------\n",
    "    # Step 4: Transform Data\n",
    "    # ---------------------\n",
    "    processed_data = pipeline.fit_transform(df)\n",
    "    processed_df = pd.DataFrame(processed_data, columns=df.columns)\n",
    "    print(\"✅ Cleaned and Scaled Data:\\n\", processed_df)\n",
    "\n",
    "except (ValueError, TypeError) as e:\n",
    "    print(\"⚠️ Error:\", e)\n",
    "\n",
    "# ---------------------\n",
    "# Step 5: Unit Tests\n",
    "# ---------------------\n",
    "class TestPipeline(unittest.TestCase):\n",
    "\n",
    "    def setUp(self):\n",
    "        # Valid DataFrame\n",
    "        self.valid_df = pd.DataFrame({\n",
    "            'Feature1': [1, 2, np.nan],\n",
    "            'Feature2': [4, 5, 6]\n",
    "        })\n",
    "        # Empty DataFrame\n",
    "        self.empty_df = pd.DataFrame()\n",
    "        # Non-numeric DataFrame\n",
    "        self.invalid_df = pd.DataFrame({\n",
    "            'Name': ['Alice', 'Bob', 'Charlie'],\n",
    "            'Age': [25, 30, 35]\n",
    "        })\n",
    "        # DataFrame with negative values\n",
    "        self.negative_df = pd.DataFrame({\n",
    "            'Age': [20, -5, 30],\n",
    "            'Income': [40000, 50000, 60000]\n",
    "        })\n",
    "\n",
    "    def test_valid_pipeline(self):\n",
    "        validate_data(self.valid_df)\n",
    "        result = pipeline.fit_transform(self.valid_df)\n",
    "        self.assertEqual(result.shape, (3, 2))\n",
    "        # Assert specific transformation result\n",
    "        expected_mean = np.nanmean(self.valid_df['Feature1'])\n",
    "        expected_first_row = [(1 - expected_mean) / np.nanstd(self.valid_df['Feature1']), \n",
    "                              (4 - 5) / np.std([4, 5, 6])]\n",
    "        np.testing.assert_almost_equal(result[0], expected_first_row, decimal=5)\n",
    "\n",
    "    def test_empty_dataframe(self):\n",
    "        with self.assertRaises(ValueError):\n",
    "            validate_data(self.empty_df)\n",
    "\n",
    "    def test_non_numeric_data(self):\n",
    "        with self.assertRaises(TypeError):\n",
    "            validate_data(self.invalid_df)\n",
    "\n",
    "    def test_negative_values(self):\n",
    "        with self.assertRaises(ValueError):\n",
    "            validate_data(self.negative_df)\n",
    "\n",
    "unittest.TextTestRunner().run(unittest.TestLoader().loadTestsFromTestCase(TestPipeline))\n"
   ]
  },
  {
   "cell_type": "code",
   "execution_count": null,
   "metadata": {},
   "outputs": [],
   "source": [
    "# Task: Imputation Function\n",
    "\n",
    "\n",
    "\n",
    "\n",
    "\n",
    "\n",
    "\n",
    "\n",
    "# Scaling Function\n",
    "\n",
    "\n",
    "\n",
    "\n",
    "\n",
    "\n",
    "\n",
    "\n",
    "\n",
    "# Combined Transformation Function\n",
    "\n",
    "\n",
    "\n",
    "\n",
    "\n",
    "\n",
    "\n"
   ]
  }
 ],
 "metadata": {
  "kernelspec": {
   "display_name": "Python 3",
   "language": "python",
   "name": "python3"
  },
  "language_info": {
   "codemirror_mode": {
    "name": "ipython",
    "version": 3
   },
   "file_extension": ".py",
   "mimetype": "text/x-python",
   "name": "python",
   "nbconvert_exporter": "python",
   "pygments_lexer": "ipython3",
   "version": "3.10.12"
  }
 },
 "nbformat": 4,
 "nbformat_minor": 2
}

{
 "cells": [
  {
   "cell_type": "markdown",
   "metadata": {},
   "source": [
    "    Task: Complete Pipeline for a Dataset\n",
    "1. Objective: Build a complex pipeline with multiple transformations.\n",
    "2. Steps:\n",
    "    - Load a sample dataset.\n",
    "    - Define a transformation pipeline with both imputation and scaling."
   ]
  },
  {
   "cell_type": "code",
   "execution_count": 2,
   "metadata": {},
   "outputs": [
    {
     "name": "stderr",
     "output_type": "stream",
     "text": [
      "...\n",
      "----------------------------------------------------------------------\n",
      "Ran 3 tests in 0.008s\n",
      "\n",
      "OK\n"
     ]
    },
    {
     "name": "stdout",
     "output_type": "stream",
     "text": [
      "✅ Cleaned and Scaled Data:\n",
      "         Age    Income\n",
      "0 -1.265924 -1.304743\n",
      "1  0.000000 -0.878704\n",
      "2 -0.506370  0.000000\n",
      "3  1.772294  1.357998\n",
      "4  0.000000  0.825450\n"
     ]
    },
    {
     "data": {
      "text/plain": [
       "<unittest.runner.TextTestResult run=3 errors=0 failures=0>"
      ]
     },
     "execution_count": 2,
     "metadata": {},
     "output_type": "execute_result"
    }
   ],
   "source": [
    "# Write your code from here\n",
    "import pandas as pd\n",
    "import numpy as np\n",
    "from sklearn.pipeline import Pipeline\n",
    "from sklearn.impute import SimpleImputer\n",
    "from sklearn.preprocessing import StandardScaler\n",
    "from sklearn.exceptions import NotFittedError\n",
    "import unittest\n",
    "\n",
    "# Function to validate data\n",
    "def validate_data(df):\n",
    "    if df.empty:\n",
    "        raise ValueError(\"Dataset is empty.\")\n",
    "    if not all(df.dtypes.apply(lambda dt: np.issubdtype(dt, np.number))):\n",
    "        raise TypeError(\"All columns must be numeric for this pipeline.\")\n",
    "\n",
    "# Sample data\n",
    "data = {\n",
    "    'Age': [25, np.nan, 30, 45, np.nan],\n",
    "    'Income': [50000, 54000, np.nan, 75000, 70000]\n",
    "}\n",
    "df = pd.DataFrame(data)\n",
    "\n",
    "# Validate before processing\n",
    "try:\n",
    "    validate_data(df)\n",
    "\n",
    "    # Pipeline\n",
    "    pipeline = Pipeline([\n",
    "        ('imputer', SimpleImputer(strategy='mean')),\n",
    "        ('scaler', StandardScaler())\n",
    "    ])\n",
    "\n",
    "    # Fit and transform\n",
    "    processed_data = pipeline.fit_transform(df)\n",
    "    processed_df = pd.DataFrame(processed_data, columns=df.columns)\n",
    "    print(\"✅ Cleaned and Scaled Data:\\n\", processed_df)\n",
    "\n",
    "except (ValueError, TypeError) as e:\n",
    "    print(\"⚠️ Error:\", e)\n",
    "\n",
    "# ========== Unit Tests ==========\n",
    "\n",
    "class TestPipeline(unittest.TestCase):\n",
    "    def setUp(self):\n",
    "        self.valid_df = pd.DataFrame({\n",
    "            'Feature1': [1, 2, np.nan],\n",
    "            'Feature2': [4, 5, 6]\n",
    "        })\n",
    "        self.empty_df = pd.DataFrame()\n",
    "        self.invalid_df = pd.DataFrame({\n",
    "            'Name': ['Alice', 'Bob', 'Charlie'],\n",
    "            'Age': [25, 30, 35]\n",
    "        })\n",
    "\n",
    "    def test_valid_pipeline(self):\n",
    "        validate_data(self.valid_df)\n",
    "        result = pipeline.fit_transform(self.valid_df)\n",
    "        self.assertEqual(result.shape, (3, 2))\n",
    "\n",
    "    def test_empty_dataframe(self):\n",
    "        with self.assertRaises(ValueError):\n",
    "            validate_data(self.empty_df)\n",
    "\n",
    "    def test_non_numeric_data(self):\n",
    "        with self.assertRaises(TypeError):\n",
    "            validate_data(self.invalid_df)\n",
    "\n",
    "unittest.TextTestRunner().run(unittest.TestLoader().loadTestsFromTestCase(TestPipeline))\n"
   ]
  },
  {
   "cell_type": "code",
   "execution_count": null,
   "metadata": {},
   "outputs": [],
   "source": []
  },
  {
   "cell_type": "code",
   "execution_count": null,
   "metadata": {},
   "outputs": [],
   "source": [
    "# Task: Imputation Function\n",
    "\n",
    "\n",
    "\n",
    "\n",
    "\n",
    "\n",
    "\n",
    "\n",
    "# Scaling Function\n",
    "\n",
    "\n",
    "\n",
    "\n",
    "\n",
    "\n",
    "\n",
    "\n",
    "\n",
    "# Combined Transformation Function\n",
    "\n",
    "\n",
    "\n",
    "\n",
    "\n",
    "\n",
    "\n"
   ]
  }
 ],
 "metadata": {
  "kernelspec": {
   "display_name": "Python 3",
   "language": "python",
   "name": "python3"
  },
  "language_info": {
   "codemirror_mode": {
    "name": "ipython",
    "version": 3
   },
   "file_extension": ".py",
   "mimetype": "text/x-python",
   "name": "python",
   "nbconvert_exporter": "python",
   "pygments_lexer": "ipython3",
   "version": "3.10.12"
  }
 },
 "nbformat": 4,
 "nbformat_minor": 2
}

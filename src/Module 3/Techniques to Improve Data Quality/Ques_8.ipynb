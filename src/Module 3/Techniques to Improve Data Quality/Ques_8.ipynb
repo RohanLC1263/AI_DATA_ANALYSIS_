{
 "cells": [
  {
   "cell_type": "code",
   "execution_count": null,
   "metadata": {},
   "outputs": [],
   "source": [
    "# Question: Data Quality Automation Tools - Introduction to Great Expectations\n",
    "# Description: Set up a simple Great Expectations check for missing values in a numeric column.\n",
    "\n"
   ]
  },
  {
   "cell_type": "code",
   "execution_count": 4,
   "metadata": {},
   "outputs": [
    {
     "ename": "AttributeError",
     "evalue": "module 'great_expectations' has no attribute 'from_pandas'",
     "output_type": "error",
     "traceback": [
      "\u001b[0;31m---------------------------------------------------------------------------\u001b[0m",
      "\u001b[0;31mAttributeError\u001b[0m                            Traceback (most recent call last)",
      "Cell \u001b[0;32mIn[4], line 14\u001b[0m\n\u001b[1;32m     11\u001b[0m df \u001b[38;5;241m=\u001b[39m pd\u001b[38;5;241m.\u001b[39mDataFrame(data)\n\u001b[1;32m     13\u001b[0m \u001b[38;5;66;03m# Convert pandas DataFrame to a Great Expectations DataFrame\u001b[39;00m\n\u001b[0;32m---> 14\u001b[0m ge_df \u001b[38;5;241m=\u001b[39m \u001b[43mge\u001b[49m\u001b[38;5;241;43m.\u001b[39;49m\u001b[43mfrom_pandas\u001b[49m(df)\n\u001b[1;32m     16\u001b[0m \u001b[38;5;66;03m# Define expectation: no missing values in 'numeric_column'\u001b[39;00m\n\u001b[1;32m     17\u001b[0m expectation_result \u001b[38;5;241m=\u001b[39m ge_df\u001b[38;5;241m.\u001b[39mexpect_column_values_to_not_be_null(\u001b[38;5;124m'\u001b[39m\u001b[38;5;124mnumeric_column\u001b[39m\u001b[38;5;124m'\u001b[39m)\n",
      "\u001b[0;31mAttributeError\u001b[0m: module 'great_expectations' has no attribute 'from_pandas'"
     ]
    }
   ],
   "source": [
    "# First, install Great Expectations if not already installed:\n",
    "# !pip install great_expectations\n",
    "\n",
    "import great_expectations as ge\n",
    "import pandas as pd\n",
    "\n",
    "# Sample DataFrame with some missing values\n",
    "data = {\n",
    "    'numeric_column': [10, 20, None, 40, 50, None, 70]\n",
    "}\n",
    "df = pd.DataFrame(data)\n",
    "\n",
    "# Convert pandas DataFrame to a Great Expectations DataFrame\n",
    "ge_df = ge.from_pandas(df)\n",
    "\n",
    "# Define expectation: no missing values in 'numeric_column'\n",
    "expectation_result = ge_df.expect_column_values_to_not_be_null('numeric_column')\n",
    "\n",
    "# Print the result\n",
    "print(\"Expectation result:\")\n",
    "print(expectation_result)\n",
    "\n",
    "# Check if expectation was successful\n",
    "if expectation_result['success']:\n",
    "    print(\"Data quality check passed: No missing values in 'numeric_column'.\")\n",
    "else:\n",
    "    print(\"Data quality check failed: Missing values detected in 'numeric_column'.\")\n"
   ]
  },
  {
   "cell_type": "code",
   "execution_count": null,
   "metadata": {},
   "outputs": [
    {
     "ename": "AttributeError",
     "evalue": "module 'great_expectations' has no attribute 'dataset'",
     "output_type": "error",
     "traceback": [
      "\u001b[0;31m---------------------------------------------------------------------------\u001b[0m",
      "\u001b[0;31mAttributeError\u001b[0m                            Traceback (most recent call last)",
      "Cell \u001b[0;32mIn[5], line 14\u001b[0m\n\u001b[1;32m     11\u001b[0m df \u001b[38;5;241m=\u001b[39m pd\u001b[38;5;241m.\u001b[39mDataFrame(data)\n\u001b[1;32m     13\u001b[0m \u001b[38;5;66;03m# Wrap DataFrame with Great Expectations PandasDataset\u001b[39;00m\n\u001b[0;32m---> 14\u001b[0m ge_df \u001b[38;5;241m=\u001b[39m \u001b[43mge\u001b[49m\u001b[38;5;241;43m.\u001b[39;49m\u001b[43mdataset\u001b[49m\u001b[38;5;241m.\u001b[39mPandasDataset(df)\n\u001b[1;32m     16\u001b[0m \u001b[38;5;66;03m# Define expectation: no missing values in 'numeric_column'\u001b[39;00m\n\u001b[1;32m     17\u001b[0m expectation_result \u001b[38;5;241m=\u001b[39m ge_df\u001b[38;5;241m.\u001b[39mexpect_column_values_to_not_be_null(\u001b[38;5;124m'\u001b[39m\u001b[38;5;124mnumeric_column\u001b[39m\u001b[38;5;124m'\u001b[39m)\n",
      "\u001b[0;31mAttributeError\u001b[0m: module 'great_expectations' has no attribute 'dataset'"
     ]
    }
   ],
   "source": []
  },
  {
   "cell_type": "code",
   "execution_count": 7,
   "metadata": {},
   "outputs": [
    {
     "ename": "DataContextError",
     "evalue": "Datasource is not a FluentDatasource",
     "output_type": "error",
     "traceback": [
      "\u001b[0;31m---------------------------------------------------------------------------\u001b[0m",
      "\u001b[0;31mDataContextError\u001b[0m                          Traceback (most recent call last)",
      "Cell \u001b[0;32mIn[7], line 18\u001b[0m\n\u001b[1;32m     16\u001b[0m \u001b[38;5;66;03m# Add a PandasDatasource using the Fluent API\u001b[39;00m\n\u001b[1;32m     17\u001b[0m datasource \u001b[38;5;241m=\u001b[39m PandasDatasource(name\u001b[38;5;241m=\u001b[39m\u001b[38;5;124m\"\u001b[39m\u001b[38;5;124mmy_pandas_datasource\u001b[39m\u001b[38;5;124m\"\u001b[39m)\n\u001b[0;32m---> 18\u001b[0m \u001b[43mcontext\u001b[49m\u001b[38;5;241;43m.\u001b[39;49m\u001b[43madd_datasource\u001b[49m\u001b[43m(\u001b[49m\u001b[43mdatasource\u001b[49m\u001b[43m)\u001b[49m\n\u001b[1;32m     20\u001b[0m \u001b[38;5;66;03m# Create a batch from the pandas DataFrame\u001b[39;00m\n\u001b[1;32m     21\u001b[0m batch \u001b[38;5;241m=\u001b[39m datasource\u001b[38;5;241m.\u001b[39mget_batch(batch_definition\u001b[38;5;241m=\u001b[39m{\n\u001b[1;32m     22\u001b[0m     \u001b[38;5;124m\"\u001b[39m\u001b[38;5;124mbatch_identifiers\u001b[39m\u001b[38;5;124m\"\u001b[39m: {\u001b[38;5;124m\"\u001b[39m\u001b[38;5;124mdefault_identifier\u001b[39m\u001b[38;5;124m\"\u001b[39m: \u001b[38;5;124m\"\u001b[39m\u001b[38;5;124mdefault\u001b[39m\u001b[38;5;124m\"\u001b[39m},\n\u001b[1;32m     23\u001b[0m     \u001b[38;5;124m\"\u001b[39m\u001b[38;5;124mbatch_data\u001b[39m\u001b[38;5;124m\"\u001b[39m: df\n\u001b[1;32m     24\u001b[0m })\n",
      "File \u001b[0;32m~/.local/lib/python3.10/site-packages/great_expectations/data_context/data_context/abstract_data_context.py:718\u001b[0m, in \u001b[0;36mAbstractDataContext.add_datasource\u001b[0;34m(self, name, initialize, datasource, **kwargs)\u001b[0m\n\u001b[1;32m    691\u001b[0m \u001b[38;5;129m@new_argument\u001b[39m(\n\u001b[1;32m    692\u001b[0m     argument_name\u001b[38;5;241m=\u001b[39m\u001b[38;5;124m\"\u001b[39m\u001b[38;5;124mdatasource\u001b[39m\u001b[38;5;124m\"\u001b[39m,\n\u001b[1;32m    693\u001b[0m     version\u001b[38;5;241m=\u001b[39m\u001b[38;5;124m\"\u001b[39m\u001b[38;5;124m0.15.49\u001b[39m\u001b[38;5;124m\"\u001b[39m,\n\u001b[0;32m   (...)\u001b[0m\n\u001b[1;32m    701\u001b[0m     \u001b[38;5;241m*\u001b[39m\u001b[38;5;241m*\u001b[39mkwargs,\n\u001b[1;32m    702\u001b[0m ) \u001b[38;5;241m-\u001b[39m\u001b[38;5;241m>\u001b[39m FluentDatasource \u001b[38;5;241m|\u001b[39m \u001b[38;5;28;01mNone\u001b[39;00m:\n\u001b[1;32m    703\u001b[0m \u001b[38;5;250m    \u001b[39m\u001b[38;5;124;03m\"\"\"Add a new Datasource to the data context, with configuration provided as kwargs.\u001b[39;00m\n\u001b[1;32m    704\u001b[0m \n\u001b[1;32m    705\u001b[0m \u001b[38;5;124;03m    --Documentation--\u001b[39;00m\n\u001b[0;32m   (...)\u001b[0m\n\u001b[1;32m    716\u001b[0m \u001b[38;5;124;03m        Datasource instance added.\u001b[39;00m\n\u001b[1;32m    717\u001b[0m \u001b[38;5;124;03m    \"\"\"\u001b[39;00m\n\u001b[0;32m--> 718\u001b[0m     \u001b[38;5;28;01mreturn\u001b[39;00m \u001b[38;5;28;43mself\u001b[39;49m\u001b[38;5;241;43m.\u001b[39;49m\u001b[43m_add_datasource\u001b[49m\u001b[43m(\u001b[49m\n\u001b[1;32m    719\u001b[0m \u001b[43m        \u001b[49m\u001b[43mname\u001b[49m\u001b[38;5;241;43m=\u001b[39;49m\u001b[43mname\u001b[49m\u001b[43m,\u001b[49m\n\u001b[1;32m    720\u001b[0m \u001b[43m        \u001b[49m\u001b[43minitialize\u001b[49m\u001b[38;5;241;43m=\u001b[39;49m\u001b[43minitialize\u001b[49m\u001b[43m,\u001b[49m\n\u001b[1;32m    721\u001b[0m \u001b[43m        \u001b[49m\u001b[43mdatasource\u001b[49m\u001b[38;5;241;43m=\u001b[39;49m\u001b[43mdatasource\u001b[49m\u001b[43m,\u001b[49m\n\u001b[1;32m    722\u001b[0m \u001b[43m        \u001b[49m\u001b[38;5;241;43m*\u001b[39;49m\u001b[38;5;241;43m*\u001b[39;49m\u001b[43mkwargs\u001b[49m\u001b[43m,\u001b[49m\n\u001b[1;32m    723\u001b[0m \u001b[43m    \u001b[49m\u001b[43m)\u001b[49m\n",
      "File \u001b[0;32m~/.local/lib/python3.10/site-packages/great_expectations/data_context/data_context/abstract_data_context.py:758\u001b[0m, in \u001b[0;36mAbstractDataContext._add_datasource\u001b[0;34m(self, name, initialize, datasource, **kwargs)\u001b[0m\n\u001b[1;32m    754\u001b[0m     \u001b[38;5;28mself\u001b[39m\u001b[38;5;241m.\u001b[39m_add_fluent_datasource(\n\u001b[1;32m    755\u001b[0m         datasource\u001b[38;5;241m=\u001b[39mdatasource,\n\u001b[1;32m    756\u001b[0m     )\n\u001b[1;32m    757\u001b[0m \u001b[38;5;28;01melse\u001b[39;00m:\n\u001b[0;32m--> 758\u001b[0m     \u001b[38;5;28;01mraise\u001b[39;00m DataContextError(\u001b[38;5;124m\"\u001b[39m\u001b[38;5;124mDatasource is not a FluentDatasource\u001b[39m\u001b[38;5;124m\"\u001b[39m)  \u001b[38;5;66;03m# noqa: TRY003 # FIXME CoP\u001b[39;00m\n\u001b[1;32m    759\u001b[0m \u001b[38;5;28;01mreturn\u001b[39;00m datasource\n",
      "\u001b[0;31mDataContextError\u001b[0m: Datasource is not a FluentDatasource"
     ]
    }
   ],
   "source": [
    "# Install Great Expectations if needed\n",
    "# !pip install great_expectations\n",
    "\n",
    "import pandas as pd\n",
    "import great_expectations as ge\n",
    "from great_expectations.datasource.fluent import PandasDatasource\n",
    "\n",
    "# Sample data with missing values\n",
    "df = pd.DataFrame({\n",
    "    \"numeric_column\": [10, 20, None, 40, 50, None, 70]\n",
    "})\n",
    "\n",
    "# Create a Great Expectations DataContext (in-memory, no config files needed)\n",
    "context = ge.get_context()\n",
    "\n",
    "# Add a PandasDatasource using the Fluent API\n",
    "datasource = PandasDatasource(name=\"my_pandas_datasource\")\n",
    "context.add_datasource(datasource)\n",
    "\n",
    "# Create a batch from the pandas DataFrame\n",
    "batch = datasource.get_batch(batch_definition={\n",
    "    \"batch_identifiers\": {\"default_identifier\": \"default\"},\n",
    "    \"batch_data\": df\n",
    "})\n",
    "\n",
    "# Create a Validator to run expectations\n",
    "validator = context.get_validator(batch=batch)\n",
    "\n",
    "# Run expectation: no missing values in 'numeric_column'\n",
    "result = validator.expect_column_values_to_not_be_null(\"numeric_column\")\n",
    "\n",
    "# Print the result\n",
    "print(\"Expectation result:\")\n",
    "print(result)\n",
    "\n",
    "if result.success:\n",
    "    print(\"Data quality check passed: No missing values.\")\n",
    "else:\n",
    "    print(\"Data quality check failed: Missing values detected.\")\n"
   ]
  }
 ],
 "metadata": {
  "kernelspec": {
   "display_name": "Python 3",
   "language": "python",
   "name": "python3"
  },
  "language_info": {
   "codemirror_mode": {
    "name": "ipython",
    "version": 3
   },
   "file_extension": ".py",
   "mimetype": "text/x-python",
   "name": "python",
   "nbconvert_exporter": "python",
   "pygments_lexer": "ipython3",
   "version": "3.10.12"
  }
 },
 "nbformat": 4,
 "nbformat_minor": 2
}

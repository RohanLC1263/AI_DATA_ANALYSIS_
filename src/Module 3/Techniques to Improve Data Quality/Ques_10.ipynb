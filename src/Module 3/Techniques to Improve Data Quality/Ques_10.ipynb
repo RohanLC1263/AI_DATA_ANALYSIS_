{
 "cells": [
  {
   "cell_type": "code",
   "execution_count": null,
   "metadata": {},
   "outputs": [],
   "source": [
    "# Question: Advanced Deduplication Using Machine Learning\n",
    "# Description: Implement ML-based deduplication based on feature similarity.\n",
    "\n",
    "\n"
   ]
  },
  {
   "cell_type": "code",
   "execution_count": 2,
   "metadata": {},
   "outputs": [
    {
     "name": "stdout",
     "output_type": "stream",
     "text": [
      "              precision    recall  f1-score   support\n",
      "\n",
      "           0       0.94      1.00      0.97        30\n",
      "           1       1.00      0.97      0.99        75\n",
      "\n",
      "    accuracy                           0.98       105\n",
      "   macro avg       0.97      0.99      0.98       105\n",
      "weighted avg       0.98      0.98      0.98       105\n",
      "\n"
     ]
    }
   ],
   "source": [
    "import random\n",
    "import numpy as np\n",
    "import pandas as pd\n",
    "from sklearn.datasets import fetch_20newsgroups\n",
    "from sklearn.model_selection import train_test_split\n",
    "from sklearn.ensemble import RandomForestClassifier\n",
    "from sklearn.metrics import classification_report\n",
    "from sklearn.feature_extraction.text import TfidfVectorizer\n",
    "from sklearn.metrics.pairwise import cosine_similarity\n",
    "import re\n",
    "\n",
    "# Step 1: Load dataset\n",
    "data = fetch_20newsgroups(subset='train', remove=('headers', 'footers', 'quotes'))\n",
    "docs = data.data[:500]  # Use a subset for speed\n",
    "\n",
    "# Step 2: Simulate duplicates by modifying text\n",
    "def simulate_typo(text):\n",
    "    return re.sub(r'\\b(\\w+)\\b', lambda m: m.group(0)[:-1] if len(m.group(0)) > 3 and random.random() < 0.2 else m.group(0), text)\n",
    "\n",
    "original = docs[:250]\n",
    "duplicates = [simulate_typo(doc) for doc in original]\n",
    "\n",
    "# Positive class: duplicate pairs\n",
    "pos_pairs = list(zip(original, duplicates))\n",
    "pos_labels = [1] * len(pos_pairs)\n",
    "\n",
    "# Negative class: random unrelated pairs\n",
    "neg_pairs = [(original[i], original[j]) for i in range(100) for j in range(i+1, i+2)]\n",
    "neg_labels = [0] * len(neg_pairs)\n",
    "\n",
    "# Combine\n",
    "all_pairs = pos_pairs + neg_pairs\n",
    "all_labels = pos_labels + neg_labels\n",
    "\n",
    "# Step 3: Feature extraction using TF-IDF + Cosine Similarity\n",
    "texts1 = [a for a, b in all_pairs]\n",
    "texts2 = [b for a, b in all_pairs]\n",
    "\n",
    "vectorizer = TfidfVectorizer(stop_words='english', max_features=5000)\n",
    "tfidf_matrix = vectorizer.fit_transform(texts1 + texts2)\n",
    "\n",
    "tfidf_1 = tfidf_matrix[:len(texts1)]\n",
    "tfidf_2 = tfidf_matrix[len(texts1):]\n",
    "\n",
    "cosine_sims = [cosine_similarity(tfidf_1[i], tfidf_2[i])[0][0] for i in range(len(texts1))]\n",
    "features = pd.DataFrame({'cosine_sim': cosine_sims})\n",
    "\n",
    "# Step 4: Train-test split\n",
    "X_train, X_test, y_train, y_test = train_test_split(features, all_labels, test_size=0.3, random_state=42)\n",
    "\n",
    "# Step 5: Model training\n",
    "model = RandomForestClassifier(n_estimators=100, random_state=42)\n",
    "model.fit(X_train, y_train)\n",
    "\n",
    "# Step 6: Prediction & Evaluation\n",
    "y_pred = model.predict(X_test)\n",
    "print(classification_report(y_test, y_pred))\n"
   ]
  }
 ],
 "metadata": {
  "kernelspec": {
   "display_name": "Python 3",
   "language": "python",
   "name": "python3"
  },
  "language_info": {
   "codemirror_mode": {
    "name": "ipython",
    "version": 3
   },
   "file_extension": ".py",
   "mimetype": "text/x-python",
   "name": "python",
   "nbconvert_exporter": "python",
   "pygments_lexer": "ipython3",
   "version": "3.10.12"
  }
 },
 "nbformat": 4,
 "nbformat_minor": 2
}

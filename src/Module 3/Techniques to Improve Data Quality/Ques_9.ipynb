{
 "cells": [
  {
   "cell_type": "code",
   "execution_count": null,
   "metadata": {},
   "outputs": [],
   "source": [
    "# Question: Predictive Imputation Using Machine Learning\n",
    "# Description: Use a simple predictive model to impute missing values in a column.\n",
    "\n"
   ]
  },
  {
   "cell_type": "code",
   "execution_count": null,
   "metadata": {},
   "outputs": [],
   "source": [
    "import numpy as np\n",
    "import pandas as pd\n",
    "from sklearn.experimental import enable_iterative_imputer\n",
    "from sklearn.impute import IterativeImputer\n",
    "\n",
    "# Load data\n",
    "data = pd.read_csv('data.csv')\n",
    "\n",
    "# Mark missing values (e.g., zeros or NaNs)\n",
    "data.replace(0, np.nan, inplace=True)\n",
    "\n",
    "# Define the imputer\n",
    "imputer = IterativeImputer(random_state=0)\n",
    "\n",
    "# Fit and transform the data to impute missing values\n",
    "imputed_data = imputer.fit_transform(data)\n",
    "\n",
    "# Convert back to DataFrame if needed\n",
    "imputed_df = pd.DataFrame(imputed_data, columns=data.columns)\n"
   ]
  }
 ],
 "metadata": {
  "language_info": {
   "name": "python"
  }
 },
 "nbformat": 4,
 "nbformat_minor": 2
}

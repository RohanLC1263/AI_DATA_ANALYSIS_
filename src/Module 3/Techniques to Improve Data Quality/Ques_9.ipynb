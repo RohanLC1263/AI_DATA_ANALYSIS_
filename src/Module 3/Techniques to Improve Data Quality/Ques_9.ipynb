{
 "cells": [
  {
   "cell_type": "code",
   "execution_count": null,
   "metadata": {},
   "outputs": [],
   "source": [
    "# Question: Predictive Imputation Using Machine Learning\n",
    "# Description: Use a simple predictive model to impute missing values in a column.\n",
    "\n"
   ]
  },
  {
   "cell_type": "code",
   "execution_count": null,
   "metadata": {},
   "outputs": [],
   "source": [
    "import numpy as np\n",
    "import pandas as pd\n",
    "from sklearn.experimental import enable_iterative_imputer\n",
    "from sklearn.impute import IterativeImputer\n",
    "\n",
    "# Load data\n",
    "data = pd.read_csv('data.csv')\n",
    "\n",
    "# Mark missing values (e.g., zeros or NaNs)\n",
    "data.replace(0, np.nan, inplace=True)\n",
    "\n",
    "# Define the imputer\n",
    "imputer = IterativeImputer(random_state=0)\n",
    "\n",
    "# Fit and transform the data to impute missing values\n",
    "imputed_data = imputer.fit_transform(data)\n",
    "\n",
    "# Convert back to DataFrame if needed\n",
    "imputed_df = pd.DataFrame(imputed_data, columns=data.columns)\n"
   ]
  },
  {
   "cell_type": "code",
   "execution_count": 2,
   "metadata": {},
   "outputs": [
    {
     "name": "stdout",
     "output_type": "stream",
     "text": [
      "   MedInc  HouseAge  AveRooms  AveBedrms  Population  AveOccup   Latitude  \\\n",
      "0  8.3252      41.0  6.984127   1.023810       322.0  2.555556  37.880000   \n",
      "1  8.3014      21.0  6.238137   0.971880      2401.0  6.026754  34.959894   \n",
      "2  7.2574      52.0  8.288136   1.073446       496.0  2.802260  37.850000   \n",
      "3  5.6431      52.0  5.817352   1.073059       558.0  2.547945  37.850000   \n",
      "4  3.8462      52.0  6.281853   1.081081       565.0  2.181467  37.850000   \n",
      "\n",
      "    Longitude  MedHouseVal  \n",
      "0 -122.230000        4.526  \n",
      "1 -119.400788        3.585  \n",
      "2 -122.240000        3.521  \n",
      "3 -122.293794        3.413  \n",
      "4 -122.173675        3.422  \n"
     ]
    }
   ],
   "source": [
    "import numpy as np\n",
    "import pandas as pd\n",
    "from sklearn.experimental import enable_iterative_imputer\n",
    "from sklearn.impute import IterativeImputer\n",
    "from sklearn.datasets import fetch_california_housing  # Example dataset\n",
    "\n",
    "def impute_dataframe(data, missing_values_to_replace=None, impute_columns=None, random_state=0):\n",
    "    \"\"\"\n",
    "    Perform iterative imputation on a DataFrame.\n",
    "\n",
    "    Parameters:\n",
    "    - data: pandas DataFrame.\n",
    "    - missing_values_to_replace: list or set, values to treat as missing (default None).\n",
    "    - impute_columns: list, columns to impute (default None means all columns).\n",
    "    - random_state: int, seed for reproducibility.\n",
    "\n",
    "    Returns:\n",
    "    - imputed_df: DataFrame with imputed values.\n",
    "    \"\"\"\n",
    "\n",
    "    # Replace specified values with NaN\n",
    "    if missing_values_to_replace is not None:\n",
    "        for val in missing_values_to_replace:\n",
    "            data.replace(val, np.nan, inplace=True)\n",
    "\n",
    "    # Validate columns for imputation\n",
    "    if impute_columns is None:\n",
    "        impute_columns = data.columns[data.isnull().any()].tolist()\n",
    "\n",
    "    # Subset data for imputation\n",
    "    impute_data = data[impute_columns]\n",
    "\n",
    "    # Initialize IterativeImputer\n",
    "    imputer = IterativeImputer(random_state=random_state)\n",
    "\n",
    "    # Fit and transform imputation columns\n",
    "    imputed_array = imputer.fit_transform(impute_data)\n",
    "\n",
    "    # Replace imputed columns in original DataFrame\n",
    "    data.loc[:, impute_columns] = imputed_array\n",
    "\n",
    "    return data\n",
    "\n",
    "# Load dataset from sklearn\n",
    "california = fetch_california_housing(as_frame=True)\n",
    "df = california.frame\n",
    "\n",
    "# Introduce some missing values artificially for demonstration\n",
    "np.random.seed(0)\n",
    "missing_mask = np.random.rand(*df.shape) < 0.1  # 10% missingness randomly\n",
    "df_where_missing = df.mask(missing_mask)\n",
    "\n",
    "# Perform imputation\n",
    "imputed_df = impute_dataframe(df_where_missing)\n",
    "\n",
    "print(imputed_df.head())\n"
   ]
  }
 ],
 "metadata": {
  "kernelspec": {
   "display_name": "Python 3",
   "language": "python",
   "name": "python3"
  },
  "language_info": {
   "codemirror_mode": {
    "name": "ipython",
    "version": 3
   },
   "file_extension": ".py",
   "mimetype": "text/x-python",
   "name": "python",
   "nbconvert_exporter": "python",
   "pygments_lexer": "ipython3",
   "version": "3.10.12"
  }
 },
 "nbformat": 4,
 "nbformat_minor": 2
}

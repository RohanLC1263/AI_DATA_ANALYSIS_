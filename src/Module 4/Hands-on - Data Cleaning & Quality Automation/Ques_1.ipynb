{
 "cells": [
  {
   "cell_type": "code",
   "execution_count": null,
   "metadata": {},
   "outputs": [],
   "source": [
    "# Question 1: Handling Missing Values with Conditional Filling\n",
    "# Description: Fill missing values in a specific column based on a condition from another column.\n",
    "\n"
   ]
  },
  {
   "cell_type": "code",
   "execution_count": null,
   "metadata": {},
   "outputs": [],
   "source": [
    "# Question 2: Removing Outliers by Rescaling\n",
    "# Description: Remove outliers by standardizing a numerical column using z-scores.\n",
    "\n"
   ]
  },
  {
   "cell_type": "code",
   "execution_count": null,
   "metadata": {},
   "outputs": [],
   "source": [
    "# Question 3: Applying Data Type Conversion\n",
    "# Description: Convert the 'Age' column to integers after filling missing values.\n",
    "\n"
   ]
  },
  {
   "cell_type": "code",
   "execution_count": null,
   "metadata": {},
   "outputs": [],
   "source": [
    "# Question 4: Automating Data Cleaning with Functions\n",
    "# Description: Create a function that automates the process of filling missing values, removing duplicates, and standardizing column names.\n",
    "\n"
   ]
  },
  {
   "cell_type": "code",
   "execution_count": null,
   "metadata": {},
   "outputs": [],
   "source": [
    "# Question 5: Complex Data Normalization\n",
    "# Description: Normalize a numeric column to a range using min-max scaling.\n",
    "\n"
   ]
  },
  {
   "cell_type": "code",
   "execution_count": 1,
   "metadata": {},
   "outputs": [
    {
     "name": "stdout",
     "output_type": "stream",
     "text": [
      "After Conditional Filling:\n",
      "    ID    Age Group  Score\n",
      "0   1   25.0     A     55\n",
      "1   2   30.0     A     65\n",
      "2   3   35.0     B     85\n",
      "3   4   45.0     B     45\n",
      "4   5  300.0     B   1000\n",
      "5   6   22.0     A     70\n",
      "6   7    NaN     B     60\n",
      "\n",
      "After Removing Outliers:\n",
      "    ID    Age Group  Score\n",
      "0   1   25.0     A     55\n",
      "1   2   30.0     A     65\n",
      "2   3   35.0     B     85\n",
      "3   4   45.0     B     45\n",
      "4   5  300.0     B   1000\n",
      "5   6   22.0     A     70\n",
      "6   7    NaN     B     60\n",
      "\n",
      "After Age Conversion:\n",
      "    ID  Age Group  Score\n",
      "0   1   25     A     55\n",
      "1   2   30     A     65\n",
      "2   3   35     B     85\n",
      "3   4   45     B     45\n",
      "4   5  300     B   1000\n",
      "5   6   22     A     70\n",
      "6   7   76     B     60\n",
      "\n",
      "After Automated Cleaning:\n",
      "    id  age group  score\n",
      "0   1   25     A     55\n",
      "1   2   30     A     65\n",
      "2   3   35     B     85\n",
      "3   4   45     B     45\n",
      "4   5  300     B   1000\n",
      "5   6   22     A     70\n",
      "6   7   76     B     60\n",
      "\n",
      "After Min-Max Normalization:\n",
      "    id  age group  score  score_normalized\n",
      "0   1   25     A     55          0.010471\n",
      "1   2   30     A     65          0.020942\n",
      "2   3   35     B     85          0.041885\n",
      "3   4   45     B     45          0.000000\n",
      "4   5  300     B   1000          1.000000\n",
      "5   6   22     A     70          0.026178\n",
      "6   7   76     B     60          0.015707\n"
     ]
    }
   ],
   "source": [
    "import pandas as pd\n",
    "import numpy as np\n",
    "from scipy import stats\n",
    "\n",
    "# Sample DataFrame\n",
    "data = {\n",
    "    'ID': [1, 2, 3, 4, 5, 6, 7],\n",
    "    'Age': [25, np.nan, 35, 45, 300, 22, np.nan],\n",
    "    'Group': ['A', 'A', 'B', 'B', 'B', 'A', 'B'],\n",
    "    'Score': [55, 65, 85, 45, 1000, 70, 60]\n",
    "}\n",
    "df = pd.DataFrame(data)\n",
    "\n",
    "# Question 1: Handling Missing Values with Conditional Filling\n",
    "def fill_missing_by_condition(df, target_col, condition_col, condition_val, fill_value):\n",
    "    mask = (df[condition_col] == condition_val) & (df[target_col].isnull())\n",
    "    df.loc[mask, target_col] = fill_value\n",
    "    return df\n",
    "\n",
    "df = fill_missing_by_condition(df, target_col='Age', condition_col='Group', condition_val='A', fill_value=30)\n",
    "print(\"After Conditional Filling:\\n\", df)\n",
    "\n",
    "# Question 2: Removing Outliers by Rescaling using Z-score\n",
    "def remove_outliers_zscore(df, column, z_thresh=3):\n",
    "    z_scores = np.abs(stats.zscore(df[column].fillna(df[column].mean())))\n",
    "    df_clean = df[z_scores < z_thresh].copy()\n",
    "    return df_clean\n",
    "\n",
    "df = remove_outliers_zscore(df, 'Score')\n",
    "print(\"\\nAfter Removing Outliers:\\n\", df)\n",
    "\n",
    "# Question 3: Applying Data Type Conversion\n",
    "df['Age'] = df['Age'].fillna(df['Age'].mean())  # Fill remaining missing with mean\n",
    "df['Age'] = df['Age'].astype(int)\n",
    "print(\"\\nAfter Age Conversion:\\n\", df)\n",
    "\n",
    "# Question 4: Automating Data Cleaning with Functions\n",
    "def clean_data(df):\n",
    "    # Fill missing Age based on Group 'A' with 30 (example rule)\n",
    "    df = fill_missing_by_condition(df, 'Age', 'Group', 'A', 30)\n",
    "    # Remove duplicates\n",
    "    df = df.drop_duplicates()\n",
    "    # Standardize column names (lowercase and strip)\n",
    "    df.columns = df.columns.str.lower().str.strip()\n",
    "    return df\n",
    "\n",
    "df = clean_data(df)\n",
    "print(\"\\nAfter Automated Cleaning:\\n\", df)\n",
    "\n",
    "# Question 5: Complex Data Normalization (Min-Max Scaling)\n",
    "def min_max_normalize(series):\n",
    "    return (series - series.min()) / (series.max() - series.min())\n",
    "\n",
    "df['score_normalized'] = min_max_normalize(df['score'])\n",
    "print(\"\\nAfter Min-Max Normalization:\\n\", df)\n"
   ]
  },
  {
   "cell_type": "code",
   "execution_count": null,
   "metadata": {},
   "outputs": [
    {
     "name": "stdout",
     "output_type": "stream",
     "text": [
      "   id  age group  score  score_normalized\n",
      "0   1   25     A     55          0.010471\n",
      "1   2   30     A     65          0.020942\n",
      "2   3   35     B     85          0.041885\n",
      "3   4   45     B     45          0.000000\n",
      "4   5  300     B   1000          1.000000\n",
      "5   6   22     A     70          0.026178\n",
      "6   7   76     B     60          0.015707\n"
     ]
    }
   ],
   "source": []
  }
 ],
 "metadata": {
  "kernelspec": {
   "display_name": "Python 3",
   "language": "python",
   "name": "python3"
  },
  "language_info": {
   "codemirror_mode": {
    "name": "ipython",
    "version": 3
   },
   "file_extension": ".py",
   "mimetype": "text/x-python",
   "name": "python",
   "nbconvert_exporter": "python",
   "pygments_lexer": "ipython3",
   "version": "3.10.12"
  }
 },
 "nbformat": 4,
 "nbformat_minor": 2
}

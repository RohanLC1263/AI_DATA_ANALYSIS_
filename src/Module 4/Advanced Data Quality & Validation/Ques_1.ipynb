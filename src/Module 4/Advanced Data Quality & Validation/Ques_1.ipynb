{
 "cells": [
  {
   "cell_type": "code",
   "execution_count": null,
   "metadata": {},
   "outputs": [],
   "source": [
    "# Data Drift Impact on Model\n",
    "# Question: Use a simple linear regression model to demonstrate how data drift affects model predictions.\n",
    "\n",
    "# 1. Train a model on the original data:\n",
    "# 2. Evaluate on the drifted data:\n",
    "# 3. Compare errors:\n",
    "\n",
    "\n"
   ]
  },
  {
   "cell_type": "code",
   "execution_count": null,
   "metadata": {},
   "outputs": [],
   "source": [
    "# Monitoring Data Distribution Changes\n",
    "# Question: Use Python to monitor distribution changes in features to detect potential data drift.\n",
    "\n",
    "# 1. Calculate feature statistics (mean and standard deviation) for both original and drifted data:\n",
    "# 2. Compare statistics:\n",
    "# 3. Set thresholds to detect significant drift:\n",
    "\n",
    "\n"
   ]
  },
  {
   "cell_type": "code",
   "execution_count": null,
   "metadata": {},
   "outputs": [],
   "source": [
    "# Automating Data Quality Checks with Python\n",
    "# Question: Automate a basic data validation process using Python to ensure the dataset's\n",
    "# structural integrity.\n",
    "\n",
    "# 1. Define validation checks:\n",
    "# 2. Apply validation:\n",
    "\n",
    "\n"
   ]
  },
  {
   "cell_type": "code",
   "execution_count": null,
   "metadata": {},
   "outputs": [],
   "source": [
    "# Introducing Great Expectations for Data Validation\n",
    "# Question: Use Great Expectations to set up data validation checks for a dataset.\n",
    "\n",
    "# 1. Install Great Expectations:\n",
    "# 2. Create a new expectations suite:\n",
    "# 3. Load data and generate expectations:\n",
    "\n",
    "\n"
   ]
  },
  {
   "cell_type": "code",
   "execution_count": null,
   "metadata": {},
   "outputs": [],
   "source": [
    "# Automating Constraint Checks with Python\n",
    "# Question: Automate primary key and foreign key constraint checks using Python to ensure dataset compliance.\n",
    "\n",
    "\n",
    "# 1. Assuming datasets exist with primary and foreign key relationships in pandas dataframes employees_df and departments_df :\n",
    "\n",
    "\n"
   ]
  },
  {
   "cell_type": "code",
   "execution_count": null,
   "metadata": {},
   "outputs": [],
   "source": [
    "# Advanced Data Drift Detection using Statistical Tests\n",
    "# Question: Implement Kolmogorov-Smirnov test using Python to detect data drift at a more sophisticated level.\n",
    "\n",
    "# 1. Use SciPy to perform KS test:\n",
    "\n",
    "\n"
   ]
  },
  {
   "cell_type": "code",
   "execution_count": 1,
   "metadata": {},
   "outputs": [
    {
     "name": "stdout",
     "output_type": "stream",
     "text": [
      "MSE on original data: 0.234\n",
      "MSE on drifted data: 0.259\n"
     ]
    }
   ],
   "source": [
    "import numpy as np\n",
    "import pandas as pd\n",
    "from sklearn.linear_model import LinearRegression\n",
    "from sklearn.metrics import mean_squared_error\n",
    "\n",
    "# 1. Original data\n",
    "np.random.seed(0)\n",
    "X_orig = np.random.normal(loc=0, scale=1, size=(1000, 1))\n",
    "y_orig = 3 * X_orig.squeeze() + np.random.normal(loc=0, scale=0.5, size=1000)\n",
    "\n",
    "# Train model\n",
    "model = LinearRegression()\n",
    "model.fit(X_orig, y_orig)\n",
    "\n",
    "# Predictions on original data\n",
    "y_pred_orig = model.predict(X_orig)\n",
    "mse_orig = mean_squared_error(y_orig, y_pred_orig)\n",
    "\n",
    "# 2. Drifted data (shift mean of feature)\n",
    "X_drift = np.random.normal(loc=2, scale=1, size=(1000, 1))  # Mean shifted from 0 to 2\n",
    "y_drift = 3 * X_drift.squeeze() + np.random.normal(loc=0, scale=0.5, size=1000)\n",
    "\n",
    "# Predictions on drifted data\n",
    "y_pred_drift = model.predict(X_drift)\n",
    "mse_drift = mean_squared_error(y_drift, y_pred_drift)\n",
    "\n",
    "# 3. Compare errors\n",
    "print(f\"MSE on original data: {mse_orig:.3f}\")\n",
    "print(f\"MSE on drifted data: {mse_drift:.3f}\")\n"
   ]
  }
 ],
 "metadata": {
  "kernelspec": {
   "display_name": "Python 3",
   "language": "python",
   "name": "python3"
  },
  "language_info": {
   "codemirror_mode": {
    "name": "ipython",
    "version": 3
   },
   "file_extension": ".py",
   "mimetype": "text/x-python",
   "name": "python",
   "nbconvert_exporter": "python",
   "pygments_lexer": "ipython3",
   "version": "3.10.12"
  }
 },
 "nbformat": 4,
 "nbformat_minor": 2
}

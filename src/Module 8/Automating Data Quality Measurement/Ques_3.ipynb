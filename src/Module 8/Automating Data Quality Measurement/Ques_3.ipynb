{
 "cells": [
  {
   "cell_type": "markdown",
   "metadata": {},
   "source": [
    "## Using AI for Anomalies Detection in Data Quality\n",
    "**Description**: Implement an AI-based approach to detect anomalies in data quality.\n",
    "\n",
    "**Steps**:\n",
    "1. Use an Anomaly Detection Algorithm:\n",
    "    - Use sklearn's Isolation Forest for anomaly detection.\n",
    "\n",
    "**Example data:**\n",
    "\n",
    "data = np.array([[25, 50000], [30, 60000], [35, 75000], [40, None], [45, 100000]])\n",
    "\n",
    "2. Integrate with Great Expectations:\n",
    "    - Generate alerts if anomalies are detected:"
   ]
  },
  {
   "cell_type": "code",
   "execution_count": 1,
   "metadata": {},
   "outputs": [
    {
     "ename": "AttributeError",
     "evalue": "module 'great_expectations' has no attribute 'from_pandas'",
     "output_type": "error",
     "traceback": [
      "\u001b[0;31m---------------------------------------------------------------------------\u001b[0m",
      "\u001b[0;31mAttributeError\u001b[0m                            Traceback (most recent call last)",
      "Cell \u001b[0;32mIn[1], line 35\u001b[0m\n\u001b[1;32m     29\u001b[0m df[\u001b[38;5;124m'\u001b[39m\u001b[38;5;124mAnomaly\u001b[39m\u001b[38;5;124m'\u001b[39m] \u001b[38;5;241m=\u001b[39m model\u001b[38;5;241m.\u001b[39mfit_predict(data_imputed)  \u001b[38;5;66;03m# -1 = anomaly, 1 = normal\u001b[39;00m\n\u001b[1;32m     31\u001b[0m \u001b[38;5;66;03m# ------------------------\u001b[39;00m\n\u001b[1;32m     32\u001b[0m \u001b[38;5;66;03m# Step 3: Integration with Great Expectations\u001b[39;00m\n\u001b[1;32m     33\u001b[0m \u001b[38;5;66;03m# ------------------------\u001b[39;00m\n\u001b[1;32m     34\u001b[0m \u001b[38;5;66;03m# Convert to Great Expectations dataframe\u001b[39;00m\n\u001b[0;32m---> 35\u001b[0m ge_df \u001b[38;5;241m=\u001b[39m \u001b[43mge\u001b[49m\u001b[38;5;241;43m.\u001b[39;49m\u001b[43mfrom_pandas\u001b[49m(df)\n\u001b[1;32m     37\u001b[0m \u001b[38;5;66;03m# Custom expectation: Check that no value in 'Anomaly' column is -1\u001b[39;00m\n\u001b[1;32m     38\u001b[0m anomalies \u001b[38;5;241m=\u001b[39m df[df[\u001b[38;5;124m'\u001b[39m\u001b[38;5;124mAnomaly\u001b[39m\u001b[38;5;124m'\u001b[39m] \u001b[38;5;241m==\u001b[39m \u001b[38;5;241m-\u001b[39m\u001b[38;5;241m1\u001b[39m]\n",
      "\u001b[0;31mAttributeError\u001b[0m: module 'great_expectations' has no attribute 'from_pandas'"
     ]
    }
   ],
   "source": [
    "import numpy as np\n",
    "import pandas as pd\n",
    "from sklearn.ensemble import IsolationForest\n",
    "from sklearn.impute import SimpleImputer\n",
    "import great_expectations as ge\n",
    "\n",
    "# ------------------------\n",
    "# Step 1: Load & Preprocess Data\n",
    "# ------------------------\n",
    "# Example Data\n",
    "data = np.array([\n",
    "    [25, 50000],\n",
    "    [30, 60000],\n",
    "    [35, 75000],\n",
    "    [40, None],     # Missing value\n",
    "    [45, 100000]\n",
    "])\n",
    "columns = ['Age', 'Salary']\n",
    "df = pd.DataFrame(data, columns=columns)\n",
    "\n",
    "# Handle missing values with mean imputation\n",
    "imputer = SimpleImputer(strategy='mean')\n",
    "data_imputed = imputer.fit_transform(df)\n",
    "\n",
    "# ------------------------\n",
    "# Step 2: Anomaly Detection using Isolation Forest\n",
    "# ------------------------\n",
    "model = IsolationForest(contamination=0.2, random_state=42)\n",
    "df['Anomaly'] = model.fit_predict(data_imputed)  # -1 = anomaly, 1 = normal\n",
    "\n",
    "# ------------------------\n",
    "# Step 3: Integration with Great Expectations\n",
    "# ------------------------\n",
    "# Convert to Great Expectations dataframe\n",
    "ge_df = ge.from_pandas(df)\n",
    "\n",
    "# Custom expectation: Check that no value in 'Anomaly' column is -1\n",
    "anomalies = df[df['Anomaly'] == -1]\n",
    "\n",
    "# Print anomalies and raise alert\n",
    "if not anomalies.empty:\n",
    "    print(\"⚠️ ALERT: Anomalies detected in the data!\")\n",
    "    print(anomalies)\n",
    "else:\n",
    "    print(\"✅ No anomalies detected.\")\n",
    "\n",
    "# Optionally: Save anomalies or quality report\n",
    "# anomalies.to_csv(\"anomalies_detected.csv\", index=False)\n"
   ]
  }
 ],
 "metadata": {
  "kernelspec": {
   "display_name": "Python 3",
   "language": "python",
   "name": "python3"
  },
  "language_info": {
   "codemirror_mode": {
    "name": "ipython",
    "version": 3
   },
   "file_extension": ".py",
   "mimetype": "text/x-python",
   "name": "python",
   "nbconvert_exporter": "python",
   "pygments_lexer": "ipython3",
   "version": "3.10.12"
  }
 },
 "nbformat": 4,
 "nbformat_minor": 2
}

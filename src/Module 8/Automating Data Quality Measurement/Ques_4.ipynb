{
 "cells": [
  {
   "cell_type": "markdown",
   "metadata": {},
   "source": [
    "### Task 1: Automated Data Profiling\n",
    "\n",
    "**Steps**:\n",
    "1. Using Pandas-Profiling\n",
    "    - Generate a profile report for an existing CSV file.\n",
    "    - Customize the profile report to include correlations.\n",
    "    - Profile a specific subset of columns.\n",
    "2. Using Great Expectations\n",
    "    - Create a basic expectation suite for your data.\n",
    "    - Validate data against an expectation suite.\n",
    "    - Add multiple expectations to a suite."
   ]
  },
  {
   "cell_type": "code",
   "execution_count": 16,
   "metadata": {},
   "outputs": [
    {
     "name": "stderr",
     "output_type": "stream",
     "text": [
      " 50%|█████     | 3/6 [00:00<00:00, 110.93it/s]0<00:00, 27.15it/s, Describe variable: signup_date]    \n",
      "Summarize dataset:  45%|████▌     | 5/11 [00:00<00:00, 31.30it/s, Describe variable: signup_date]\n"
     ]
    },
    {
     "name": "stdout",
     "output_type": "stream",
     "text": [
      "Could not display profile inline due to: 'float' object has no attribute 'ndim'\n"
     ]
    },
    {
     "name": "stderr",
     "output_type": "stream",
     "text": [
      "100%|██████████| 6/6 [00:00<00:00, 53.10it/s]00<00:00, 26.09it/s, Describe variable: signup_date]    \n",
      "Summarize dataset: 100%|██████████| 25/25 [00:01<00:00, 15.62it/s, Completed]                               \n",
      "Generate report structure: 100%|██████████| 1/1 [00:02<00:00,  2.28s/it]\n",
      "Render HTML: 100%|██████████| 1/1 [00:00<00:00,  2.11it/s]\n",
      "Export report to file: 100%|██████████| 1/1 [00:00<00:00, 535.06it/s]"
     ]
    },
    {
     "name": "stdout",
     "output_type": "stream",
     "text": [
      "Profile saved to data_profile.html\n"
     ]
    },
    {
     "name": "stderr",
     "output_type": "stream",
     "text": [
      "\n"
     ]
    },
    {
     "ename": "AttributeError",
     "evalue": "module 'great_expectations.data_context' has no attribute 'DataContext'",
     "output_type": "error",
     "traceback": [
      "\u001b[0;31m---------------------------------------------------------------------------\u001b[0m",
      "\u001b[0;31mAttributeError\u001b[0m                            Traceback (most recent call last)",
      "Cell \u001b[0;32mIn[16], line 44\u001b[0m\n\u001b[1;32m     42\u001b[0m \u001b[38;5;66;03m# 4. Generate Expectation Suite automatically from profile report\u001b[39;00m\n\u001b[1;32m     43\u001b[0m expectation_suite_name \u001b[38;5;241m=\u001b[39m \u001b[38;5;124m\"\u001b[39m\u001b[38;5;124mauto_generated_suite\u001b[39m\u001b[38;5;124m\"\u001b[39m\n\u001b[0;32m---> 44\u001b[0m suite \u001b[38;5;241m=\u001b[39m \u001b[43mprofile\u001b[49m\u001b[38;5;241;43m.\u001b[39;49m\u001b[43mto_expectation_suite\u001b[49m\u001b[43m(\u001b[49m\u001b[43msuite_name\u001b[49m\u001b[38;5;241;43m=\u001b[39;49m\u001b[43mexpectation_suite_name\u001b[49m\u001b[43m)\u001b[49m\n\u001b[1;32m     46\u001b[0m \u001b[38;5;66;03m# 5. Save the suite to Great Expectations context\u001b[39;00m\n\u001b[1;32m     47\u001b[0m context\u001b[38;5;241m.\u001b[39msave_expectation_suite(suite, expectation_suite_name)\n",
      "File \u001b[0;32m~/.local/lib/python3.10/site-packages/ydata_profiling/expectations_report.py:80\u001b[0m, in \u001b[0;36mExpectationsReport.to_expectation_suite\u001b[0;34m(self, suite_name, data_context, save_suite, run_validation, build_data_docs, handler)\u001b[0m\n\u001b[1;32m     78\u001b[0m \u001b[38;5;66;03m# Obtain the ge context and create the expectation suite\u001b[39;00m\n\u001b[1;32m     79\u001b[0m \u001b[38;5;28;01mif\u001b[39;00m \u001b[38;5;129;01mnot\u001b[39;00m data_context:\n\u001b[0;32m---> 80\u001b[0m     data_context \u001b[38;5;241m=\u001b[39m \u001b[43mge\u001b[49m\u001b[38;5;241;43m.\u001b[39;49m\u001b[43mdata_context\u001b[49m\u001b[38;5;241;43m.\u001b[39;49m\u001b[43mDataContext\u001b[49m()\n\u001b[1;32m     82\u001b[0m suite \u001b[38;5;241m=\u001b[39m data_context\u001b[38;5;241m.\u001b[39madd_expectation_suite(suite_name)\n\u001b[1;32m     84\u001b[0m \u001b[38;5;66;03m# Instantiate an in-memory pandas dataset\u001b[39;00m\n",
      "\u001b[0;31mAttributeError\u001b[0m: module 'great_expectations.data_context' has no attribute 'DataContext'"
     ]
    }
   ],
   "source": [
    "\n",
    "import pandas as pd\n",
    "import numpy as np\n",
    "from ydata_profiling import ProfileReport\n",
    "import great_expectations as gx\n",
    "\n",
    "# 1. Generate sample dataset\n",
    "np.random.seed(42)\n",
    "data = {\n",
    "    'age': np.random.randint(18, 70, 100),\n",
    "    'income': np.random.normal(50000, 15000, 100).round(2),\n",
    "    'email': [f'user{i}@example.com' for i in range(100)],\n",
    "    'gender': np.random.choice(['Male', 'Female'], 100),\n",
    "    'purchase_amount': np.random.uniform(10, 500, 100).round(2),\n",
    "    'signup_date': pd.date_range(start='2023-01-01', periods=100, freq='D')\n",
    "}\n",
    "df = pd.DataFrame(data)\n",
    "\n",
    "# 2. Generate pandas-profiling report with correlations\n",
    "profile = ProfileReport(\n",
    "    df,\n",
    "    title=\"Data Profiling Report\",\n",
    "    correlations={\n",
    "        \"pearson\": {\"calculate\": True},\n",
    "        \"spearman\": {\"calculate\": False},  # disable spearman to avoid known issues\n",
    "        \"kendall\": {\"calculate\": False},\n",
    "        \"phi_k\": {\"calculate\": False},\n",
    "        \"cramers\": {\"calculate\": False}\n",
    "    }\n",
    ")\n",
    "\n",
    "# Display profile report inline (Jupyter) or save as fallback\n",
    "try:\n",
    "    profile.to_notebook_iframe()\n",
    "except Exception as e:\n",
    "    print(f\"Could not display profile inline due to: {e}\")\n",
    "    profile.to_file(\"data_profile.html\")\n",
    "    print(\"Profile saved to data_profile.html\")\n",
    "\n",
    "# 3. Initialize Great Expectations context\n",
    "context = gx.get_context()\n",
    "\n",
    "# 4. Generate Expectation Suite automatically from profile report\n",
    "expectation_suite_name = \"auto_generated_suite\"\n",
    "suite = profile.to_expectation_suite(suite_name=expectation_suite_name)\n",
    "\n",
    "# 5. Save the suite to Great Expectations context\n",
    "context.save_expectation_suite(suite, expectation_suite_name)\n",
    "\n",
    "# 6. Create Validator and validate the DataFrame against the generated suite\n",
    "validator = context.get_validator(\n",
    "    datasource_name=None,\n",
    "    data_asset_name=\"sample_data_asset\",\n",
    "    batch_data=df,\n",
    "    expectation_suite_name=expectation_suite_name,\n",
    ")\n",
    "\n",
    "validation_result = validator.validate()\n",
    "\n",
    "# 7. Print validation summary\n",
    "print(\"\\nGreat Expectations Validation Results:\")\n",
    "print(f\"Success: {validation_result['success']}\")\n",
    "for result in validation_result[\"results\"]:\n",
    "    exp_type = result[\"expectation_config\"][\"expectation_type\"]\n",
    "    column = result[\"expectation_config\"][\"kwargs\"].get(\"column\", \"\")\n",
    "    success = result[\"success\"]\n",
    "    print(f\" - {exp_type} on column '{column}': {'Passed' if success else 'Failed'}\")\n"
   ]
  },
  {
   "cell_type": "code",
   "execution_count": 17,
   "metadata": {},
   "outputs": [
    {
     "name": "stderr",
     "output_type": "stream",
     "text": [
      " 50%|█████     | 3/6 [00:00<00:00, 115.61it/s]0<00:00, 94.54it/s, Describe variable: signup_date]    \n",
      "Summarize dataset:  45%|████▌     | 5/11 [00:00<00:00, 90.66it/s, Describe variable: signup_date]\n"
     ]
    },
    {
     "name": "stdout",
     "output_type": "stream",
     "text": [
      "Could not display profile inline due to: 'float' object has no attribute 'ndim'\n"
     ]
    },
    {
     "name": "stderr",
     "output_type": "stream",
     "text": [
      "100%|██████████| 6/6 [00:00<00:00, 248.64it/s]0<00:00, 96.97it/s, Describe variable: signup_date]     \n",
      "Summarize dataset: 100%|██████████| 25/25 [00:01<00:00, 18.48it/s, Completed]                               \n",
      "Generate report structure: 100%|██████████| 1/1 [00:02<00:00,  2.24s/it]\n",
      "Render HTML: 100%|██████████| 1/1 [00:00<00:00,  3.05it/s]\n",
      "Export report to file: 100%|██████████| 1/1 [00:00<00:00, 407.49it/s]"
     ]
    },
    {
     "name": "stdout",
     "output_type": "stream",
     "text": [
      "Profile saved to data_profile.html\n"
     ]
    },
    {
     "name": "stderr",
     "output_type": "stream",
     "text": [
      "\n"
     ]
    },
    {
     "ename": "AttributeError",
     "evalue": "'EphemeralDataContext' object has no attribute 'get_expectation_suite'",
     "output_type": "error",
     "traceback": [
      "\u001b[0;31m---------------------------------------------------------------------------\u001b[0m",
      "\u001b[0;31mAttributeError\u001b[0m                            Traceback (most recent call last)",
      "Cell \u001b[0;32mIn[17], line 44\u001b[0m\n\u001b[1;32m     42\u001b[0m expectation_suite_name \u001b[38;5;241m=\u001b[39m \u001b[38;5;124m\"\u001b[39m\u001b[38;5;124mmanual_suite\u001b[39m\u001b[38;5;124m\"\u001b[39m\n\u001b[1;32m     43\u001b[0m \u001b[38;5;28;01mtry\u001b[39;00m:\n\u001b[0;32m---> 44\u001b[0m     suite \u001b[38;5;241m=\u001b[39m \u001b[43mcontext\u001b[49m\u001b[38;5;241;43m.\u001b[39;49m\u001b[43mget_expectation_suite\u001b[49m(expectation_suite_name)\n\u001b[1;32m     45\u001b[0m \u001b[38;5;28;01mexcept\u001b[39;00m gx\u001b[38;5;241m.\u001b[39mexceptions\u001b[38;5;241m.\u001b[39mDataContextError:\n\u001b[1;32m     46\u001b[0m     suite \u001b[38;5;241m=\u001b[39m context\u001b[38;5;241m.\u001b[39mcreate_expectation_suite(expectation_suite_name, overwrite_existing\u001b[38;5;241m=\u001b[39m\u001b[38;5;28;01mTrue\u001b[39;00m)\n",
      "\u001b[0;31mAttributeError\u001b[0m: 'EphemeralDataContext' object has no attribute 'get_expectation_suite'"
     ]
    }
   ],
   "source": [
    "import pandas as pd\n",
    "import numpy as np\n",
    "from ydata_profiling import ProfileReport\n",
    "import great_expectations as gx\n",
    "\n",
    "# 1. Generate sample dataset\n",
    "np.random.seed(42)\n",
    "data = {\n",
    "    'age': np.random.randint(18, 70, 100),\n",
    "    'income': np.random.normal(50000, 15000, 100).round(2),\n",
    "    'email': [f'user{i}@example.com' for i in range(100)],\n",
    "    'gender': np.random.choice(['Male', 'Female'], 100),\n",
    "    'purchase_amount': np.random.uniform(10, 500, 100).round(2),\n",
    "    'signup_date': pd.date_range(start='2023-01-01', periods=100, freq='D')\n",
    "}\n",
    "df = pd.DataFrame(data)\n",
    "\n",
    "# 2. Generate pandas-profiling report with correlations\n",
    "profile = ProfileReport(\n",
    "    df,\n",
    "    title=\"Data Profiling Report\",\n",
    "    correlations={\n",
    "        \"pearson\": {\"calculate\": True},\n",
    "        \"spearman\": {\"calculate\": False},\n",
    "        \"kendall\": {\"calculate\": False},\n",
    "        \"phi_k\": {\"calculate\": False},\n",
    "        \"cramers\": {\"calculate\": False}\n",
    "    }\n",
    ")\n",
    "\n",
    "try:\n",
    "    profile.to_notebook_iframe()\n",
    "except Exception as e:\n",
    "    print(f\"Could not display profile inline due to: {e}\")\n",
    "    profile.to_file(\"data_profile.html\")\n",
    "    print(\"Profile saved to data_profile.html\")\n",
    "\n",
    "# 3. Initialize Great Expectations context\n",
    "context = gx.get_context()\n",
    "\n",
    "# 4. Create or load expectation suite manually\n",
    "expectation_suite_name = \"manual_suite\"\n",
    "try:\n",
    "    suite = context.get_expectation_suite(expectation_suite_name)\n",
    "except gx.exceptions.DataContextError:\n",
    "    suite = context.create_expectation_suite(expectation_suite_name, overwrite_existing=True)\n",
    "\n",
    "# Clear existing expectations\n",
    "suite.expectations = []\n",
    "\n",
    "# 5. Add expectations manually based on profiling insights\n",
    "suite.add_expectation({\n",
    "    \"expectation_type\": \"expect_column_values_to_not_be_null\",\n",
    "    \"kwargs\": {\"column\": \"age\"}\n",
    "})\n",
    "suite.add_expectation({\n",
    "    \"expectation_type\": \"expect_column_values_to_be_unique\",\n",
    "    \"kwargs\": {\"column\": \"email\"}\n",
    "})\n",
    "suite.add_expectation({\n",
    "    \"expectation_type\": \"expect_column_values_to_be_between\",\n",
    "    \"kwargs\": {\"column\": \"age\", \"min_value\": 18, \"max_value\": 70}\n",
    "})\n",
    "suite.add_expectation({\n",
    "    \"expectation_type\": \"expect_column_values_to_match_regex\",\n",
    "    \"kwargs\": {\"column\": \"email\", \"regex\": r\"[^@]+@[^@]+\\.[^@]+\"}\n",
    "})\n",
    "\n",
    "context.save_expectation_suite(suite, expectation_suite_name)\n",
    "\n",
    "# 6. Create Validator and validate the DataFrame\n",
    "validator = context.get_validator(\n",
    "    datasource_name=None,\n",
    "    data_asset_name=\"sample_data_asset\",\n",
    "    batch_data=df,\n",
    "    expectation_suite_name=expectation_suite_name,\n",
    ")\n",
    "\n",
    "validation_result = validator.validate()\n",
    "\n",
    "print(\"\\nGreat Expectations Validation Results:\")\n",
    "print(f\"Success: {validation_result['success']}\")\n",
    "for result in validation_result[\"results\"]:\n",
    "    exp_type = result[\"expectation_config\"][\"expectation_type\"]\n",
    "    column = result[\"expectation_config\"][\"kwargs\"].get(\"column\", \"\")\n",
    "    success = result[\"success\"]\n",
    "    print(f\" - {exp_type} on column '{column}': {'Passed' if success else 'Failed'}\")\n"
   ]
  },
  {
   "cell_type": "markdown",
   "metadata": {},
   "source": [
    "### Task 2: Real-time Monitoring of Data Quality\n",
    "\n",
    "**Steps**:\n",
    "1. Setting up Alerts for Quality Drops\n",
    "    - Use the logging library to set up a basic alert on failed expectations.\n",
    "    - Implementing alerts using email notifications.\n",
    "    - Using a dashboard like Grafana for visual alerts.\n",
    "        - Note: Example assumes integration with a monitoring system\n",
    "        - Alert setup would involve creating a data source and alert rule in Grafana"
   ]
  },
  {
   "cell_type": "code",
   "execution_count": null,
   "metadata": {},
   "outputs": [],
   "source": [
    "# Write your code from here"
   ]
  },
  {
   "cell_type": "markdown",
   "metadata": {},
   "source": [
    "### Task 3: Using AI for Data Quality Monitoring\n",
    "**Steps**:\n",
    "1. Basic AI Models for Monitoring\n",
    "    - Train a simple anomaly detection model using Isolation Forest.\n",
    "    - Use a simple custom function based AI logic for outlier detection.\n",
    "    - Creating a monitoring function that utilizes a pre-trained machine learning model."
   ]
  }
 ],
 "metadata": {
  "kernelspec": {
   "display_name": "Python 3",
   "language": "python",
   "name": "python3"
  },
  "language_info": {
   "codemirror_mode": {
    "name": "ipython",
    "version": 3
   },
   "file_extension": ".py",
   "mimetype": "text/x-python",
   "name": "python",
   "nbconvert_exporter": "python",
   "pygments_lexer": "ipython3",
   "version": "3.10.12"
  }
 },
 "nbformat": 4,
 "nbformat_minor": 2
}

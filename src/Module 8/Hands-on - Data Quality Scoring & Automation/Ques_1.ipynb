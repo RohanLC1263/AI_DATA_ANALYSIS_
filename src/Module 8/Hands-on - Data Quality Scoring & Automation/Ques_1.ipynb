{
 "cells": [
  {
   "cell_type": "markdown",
   "metadata": {},
   "source": [
    "### Task 1: Understanding and Defining Data Quality Metrics\n",
    "**Description**: Learn how to define basic data quality metrics such as completeness, validity, and uniqueness for a simple dataset.\n",
    "\n",
    "**Steps**:\n",
    "1. Dataset: Use a CSV with columns like Name , Email , Age .\n",
    "2. Metric Definitions:\n",
    "    - Completeness: Percentage of non-null values.\n",
    "    - Validity: % of email fields containing @ .\n",
    "    - Uniqueness: Count distinct entries in the Email column."
   ]
  },
  {
   "cell_type": "code",
   "execution_count": null,
   "metadata": {},
   "outputs": [],
   "source": [
    "# Write your code from here"
   ]
  },
  {
   "cell_type": "markdown",
   "metadata": {},
   "source": [
    "### Task 2: Calculating Data Quality Score\n",
    "**Description**: Aggregate multiple metrics to calculate an overall data quality score.\n",
    "\n",
    "**Steps**:\n",
    "1. Formula: Simple average of all metrics defined in Task 1."
   ]
  },
  {
   "cell_type": "code",
   "execution_count": null,
   "metadata": {},
   "outputs": [],
   "source": [
    "# Write your code from here"
   ]
  },
  {
   "cell_type": "markdown",
   "metadata": {},
   "source": [
    "### Task 3: Creating Expectations for a CSV\n",
    "**Description**: Develop basic data quality expectations using Great Expectations.\n",
    "\n",
    "**Steps**:\n",
    "1. Expectation Suite\n",
    "2. Define Expectations for Completeness"
   ]
  },
  {
   "cell_type": "code",
   "execution_count": null,
   "metadata": {},
   "outputs": [],
   "source": [
    "# Write your code from here"
   ]
  },
  {
   "cell_type": "markdown",
   "metadata": {},
   "source": [
    "### Task 4: Running and Validating Expectations\n",
    "**Description**: Run the created expectations and generate an output report.\n",
    "\n",
    "**Steps**:\n",
    "1. Validate\n",
    "2. Generate HTML Report"
   ]
  },
  {
   "cell_type": "code",
   "execution_count": null,
   "metadata": {},
   "outputs": [],
   "source": [
    "# Write your code from here\n"
   ]
  },
  {
   "cell_type": "markdown",
   "metadata": {},
   "source": [
    "### Task 5: Automating Data Quality Score Calculation\n",
    "**Description**: Automate the data quality score via a script that integrates with Great\n",
    "Expectations."
   ]
  },
  {
   "cell_type": "code",
   "execution_count": 2,
   "metadata": {},
   "outputs": [
    {
     "name": "stdout",
     "output_type": "stream",
     "text": [
      "Found existing installation: great-expectations 1.4.4\n",
      "Uninstalling great-expectations-1.4.4:\n",
      "  Would remove:\n",
      "    /home/vscode/.local/lib/python3.10/site-packages/great_expectations-1.4.4.dist-info/*\n",
      "    /home/vscode/.local/lib/python3.10/site-packages/great_expectations/*\n",
      "Proceed (Y/n)? \u001b[31mERROR: Operation cancelled by user\u001b[0m\u001b[31m\n",
      "\u001b[0m^C\n",
      "Defaulting to user installation because normal site-packages is not writeable\n",
      "Requirement already satisfied: great_expectations<3.0 in /home/vscode/.local/lib/python3.10/site-packages (1.4.4)\n",
      "Requirement already satisfied: requests>=2.20 in /home/vscode/.local/lib/python3.10/site-packages (from great_expectations<3.0) (2.32.3)\n",
      "Requirement already satisfied: marshmallow<4.0.0,>=3.7.1 in /home/vscode/.local/lib/python3.10/site-packages (from great_expectations<3.0) (3.26.1)\n",
      "Requirement already satisfied: posthog<4,>3 in /home/vscode/.local/lib/python3.10/site-packages (from great_expectations<3.0) (3.25.0)\n",
      "Requirement already satisfied: tzlocal>=1.2 in /home/vscode/.local/lib/python3.10/site-packages (from great_expectations<3.0) (5.3.1)\n",
      "Requirement already satisfied: cryptography>=3.2 in /home/vscode/.local/lib/python3.10/site-packages (from great_expectations<3.0) (45.0.2)\n",
      "Requirement already satisfied: ruamel.yaml>=0.16 in /home/vscode/.local/lib/python3.10/site-packages (from great_expectations<3.0) (0.18.10)\n",
      "Requirement already satisfied: pandas<2.2,>=1.3.0 in /home/vscode/.local/lib/python3.10/site-packages (from great_expectations<3.0) (2.1.4)\n",
      "Requirement already satisfied: scipy>=1.6.0 in /home/vscode/.local/lib/python3.10/site-packages (from great_expectations<3.0) (1.15.3)\n",
      "Requirement already satisfied: packaging in /home/vscode/.local/lib/python3.10/site-packages (from great_expectations<3.0) (25.0)\n",
      "Requirement already satisfied: tqdm>=4.59.0 in /home/vscode/.local/lib/python3.10/site-packages (from great_expectations<3.0) (4.67.1)\n",
      "Requirement already satisfied: numpy>=1.22.4 in /home/vscode/.local/lib/python3.10/site-packages (from great_expectations<3.0) (1.26.4)\n",
      "Requirement already satisfied: pydantic>=1.10.7 in /home/vscode/.local/lib/python3.10/site-packages (from great_expectations<3.0) (2.11.4)\n",
      "Requirement already satisfied: jinja2>=3 in /home/vscode/.local/lib/python3.10/site-packages (from great_expectations<3.0) (3.1.6)\n",
      "Requirement already satisfied: jsonschema>=2.5.1 in /home/vscode/.local/lib/python3.10/site-packages (from great_expectations<3.0) (4.23.0)\n",
      "Requirement already satisfied: python-dateutil>=2.8.1 in /home/vscode/.local/lib/python3.10/site-packages (from great_expectations<3.0) (2.9.0.post0)\n",
      "Requirement already satisfied: typing-extensions>=4.1.0 in /home/vscode/.local/lib/python3.10/site-packages (from great_expectations<3.0) (4.13.2)\n",
      "Requirement already satisfied: pyparsing>=2.4 in /home/vscode/.local/lib/python3.10/site-packages (from great_expectations<3.0) (3.2.3)\n",
      "Requirement already satisfied: mistune>=0.8.4 in /home/vscode/.local/lib/python3.10/site-packages (from great_expectations<3.0) (3.1.3)\n",
      "Requirement already satisfied: altair<5.0.0,>=4.2.1 in /home/vscode/.local/lib/python3.10/site-packages (from great_expectations<3.0) (4.2.2)\n",
      "Requirement already satisfied: toolz in /home/vscode/.local/lib/python3.10/site-packages (from altair<5.0.0,>=4.2.1->great_expectations<3.0) (1.0.0)\n",
      "Requirement already satisfied: entrypoints in /home/vscode/.local/lib/python3.10/site-packages (from altair<5.0.0,>=4.2.1->great_expectations<3.0) (0.4)\n",
      "Requirement already satisfied: cffi>=1.14 in /home/vscode/.local/lib/python3.10/site-packages (from cryptography>=3.2->great_expectations<3.0) (1.17.1)\n",
      "Requirement already satisfied: MarkupSafe>=2.0 in /home/vscode/.local/lib/python3.10/site-packages (from jinja2>=3->great_expectations<3.0) (3.0.2)\n",
      "Requirement already satisfied: attrs>=22.2.0 in /home/vscode/.local/lib/python3.10/site-packages (from jsonschema>=2.5.1->great_expectations<3.0) (25.3.0)\n",
      "Requirement already satisfied: referencing>=0.28.4 in /home/vscode/.local/lib/python3.10/site-packages (from jsonschema>=2.5.1->great_expectations<3.0) (0.36.2)\n",
      "Requirement already satisfied: rpds-py>=0.7.1 in /home/vscode/.local/lib/python3.10/site-packages (from jsonschema>=2.5.1->great_expectations<3.0) (0.25.1)\n",
      "Requirement already satisfied: jsonschema-specifications>=2023.03.6 in /home/vscode/.local/lib/python3.10/site-packages (from jsonschema>=2.5.1->great_expectations<3.0) (2025.4.1)\n",
      "Requirement already satisfied: tzdata>=2022.1 in /home/vscode/.local/lib/python3.10/site-packages (from pandas<2.2,>=1.3.0->great_expectations<3.0) (2025.2)\n",
      "Requirement already satisfied: pytz>=2020.1 in /home/vscode/.local/lib/python3.10/site-packages (from pandas<2.2,>=1.3.0->great_expectations<3.0) (2025.2)\n",
      "Requirement already satisfied: backoff>=1.10.0 in /home/vscode/.local/lib/python3.10/site-packages (from posthog<4,>3->great_expectations<3.0) (2.2.1)\n",
      "Requirement already satisfied: monotonic>=1.5 in /home/vscode/.local/lib/python3.10/site-packages (from posthog<4,>3->great_expectations<3.0) (1.6)\n",
      "Requirement already satisfied: six>=1.5 in /home/vscode/.local/lib/python3.10/site-packages (from posthog<4,>3->great_expectations<3.0) (1.17.0)\n",
      "Requirement already satisfied: distro>=1.5.0 in /home/vscode/.local/lib/python3.10/site-packages (from posthog<4,>3->great_expectations<3.0) (1.9.0)\n",
      "Requirement already satisfied: annotated-types>=0.6.0 in /home/vscode/.local/lib/python3.10/site-packages (from pydantic>=1.10.7->great_expectations<3.0) (0.7.0)\n",
      "Requirement already satisfied: pydantic-core==2.33.2 in /home/vscode/.local/lib/python3.10/site-packages (from pydantic>=1.10.7->great_expectations<3.0) (2.33.2)\n",
      "Requirement already satisfied: typing-inspection>=0.4.0 in /home/vscode/.local/lib/python3.10/site-packages (from pydantic>=1.10.7->great_expectations<3.0) (0.4.0)\n",
      "Requirement already satisfied: charset-normalizer<4,>=2 in /home/vscode/.local/lib/python3.10/site-packages (from requests>=2.20->great_expectations<3.0) (3.4.2)\n",
      "Requirement already satisfied: certifi>=2017.4.17 in /home/vscode/.local/lib/python3.10/site-packages (from requests>=2.20->great_expectations<3.0) (2025.4.26)\n",
      "Requirement already satisfied: urllib3<3,>=1.21.1 in /home/vscode/.local/lib/python3.10/site-packages (from requests>=2.20->great_expectations<3.0) (2.4.0)\n",
      "Requirement already satisfied: idna<4,>=2.5 in /home/vscode/.local/lib/python3.10/site-packages (from requests>=2.20->great_expectations<3.0) (3.10)\n",
      "Requirement already satisfied: ruamel.yaml.clib>=0.2.7 in /home/vscode/.local/lib/python3.10/site-packages (from ruamel.yaml>=0.16->great_expectations<3.0) (0.2.12)\n",
      "Requirement already satisfied: pycparser in /home/vscode/.local/lib/python3.10/site-packages (from cffi>=1.14->cryptography>=3.2->great_expectations<3.0) (2.22)\n",
      "\n",
      "\u001b[1m[\u001b[0m\u001b[34;49mnotice\u001b[0m\u001b[1;39;49m]\u001b[0m\u001b[39;49m A new release of pip is available: \u001b[0m\u001b[31;49m23.0.1\u001b[0m\u001b[39;49m -> \u001b[0m\u001b[32;49m25.1.1\u001b[0m\n",
      "\u001b[1m[\u001b[0m\u001b[34;49mnotice\u001b[0m\u001b[1;39;49m]\u001b[0m\u001b[39;49m To update, run: \u001b[0m\u001b[32;49mpip install --upgrade pip\u001b[0m\n"
     ]
    }
   ],
   "source": [
    "# Write your code from here\n",
    "! pip uninstall great_expectations\n",
    "! pip install \"great_expectations<3.0\"\n"
   ]
  },
  {
   "cell_type": "markdown",
   "metadata": {},
   "source": [
    "### Task 6: Leveraging Data Quality Metrics for Automated Data Cleaning\n",
    "**Description**: Implement a system where if data quality metrics fall below a threshold,\n",
    "automated data cleaning scripts are triggered.\n",
    "\n",
    "**Steps**:\n",
    "1. Define Cleaning Logic\n",
    "2. Integrate with Great Expectations:\n",
    "    - Use an action within the Great Expectations action list that only triggers if quality score is below a threshold, automating the cleaning."
   ]
  },
  {
   "cell_type": "code",
   "execution_count": 5,
   "metadata": {},
   "outputs": [
    {
     "name": "stdout",
     "output_type": "stream",
     "text": [
      "Initial Dataset:\n",
      "      Name                Email   Age\n",
      "0    Alice    alice@example.com  25.0\n",
      "1      Bob          bob@example  30.0\n",
      "2  Charlie  charlie@example.com   NaN\n",
      "3     None     dave@example.com  22.0\n",
      "4      Eve                 None  28.0\n",
      "5    Frank    frank@example.com  35.0\n",
      "6    Grace    grace@example.com   NaN\n",
      "7    Heidi        heidi@example  40.0\n",
      "8     Ivan     ivan@example.com  29.0\n",
      "9     Judy     judy@example.com  31.0\n",
      "\n",
      "Data Quality Metrics (Before Cleaning):\n",
      "Completeness:\n",
      "Name     90.0\n",
      "Email    90.0\n",
      "Age      80.0\n",
      "dtype: float64\n",
      "Email Validity: 100.00%\n",
      "Email Uniqueness: 100.00%\n",
      "Overall Quality Score: 95.56%\n",
      "Data quality report generated: data_quality_report.html\n"
     ]
    }
   ],
   "source": [
    "# Write your code from here\n",
    "import pandas as pd\n",
    "import numpy as np\n",
    "import re\n",
    "\n",
    "# Step 1: Generate sample dataset\n",
    "def generate_sample_data():\n",
    "    data = {\n",
    "        \"Name\": [\"Alice\", \"Bob\", \"Charlie\", None, \"Eve\", \"Frank\", \"Grace\", \"Heidi\", \"Ivan\", \"Judy\"],\n",
    "        \"Email\": [\n",
    "            \"alice@example.com\", \"bob@example\", \"charlie@example.com\", \"dave@example.com\",\n",
    "            None, \"frank@example.com\", \"grace@example.com\", \"heidi@example\", \"ivan@example.com\", \"judy@example.com\"\n",
    "        ],\n",
    "        \"Age\": [25, 30, None, 22, 28, 35, None, 40, 29, 31]\n",
    "    }\n",
    "    df = pd.DataFrame(data)\n",
    "    return df\n",
    "\n",
    "# Step 2: Calculate completeness (% non-null per column)\n",
    "def completeness(df):\n",
    "    return df.notnull().mean() * 100\n",
    "\n",
    "# Step 3: Calculate validity (% of emails containing '@')\n",
    "def validity_email(df):\n",
    "    email_col = df['Email'].dropna()\n",
    "    valid_emails = email_col.apply(lambda x: '@' in x)\n",
    "    return valid_emails.mean() * 100\n",
    "\n",
    "# Step 4: Calculate uniqueness (% unique emails)\n",
    "def uniqueness_email(df):\n",
    "    email_col = df['Email'].dropna()\n",
    "    unique_count = email_col.nunique()\n",
    "    total_count = len(email_col)\n",
    "    return (unique_count / total_count) * 100 if total_count > 0 else 0\n",
    "\n",
    "# Step 5: Calculate overall data quality score (average of metrics)\n",
    "def calculate_quality_score(completeness_scores, validity_score, uniqueness_score):\n",
    "    avg_completeness = np.mean(completeness_scores)\n",
    "    overall = np.mean([avg_completeness, validity_score, uniqueness_score])\n",
    "    return overall\n",
    "\n",
    "# Step 6: Automated cleaning if quality is below threshold\n",
    "def clean_data(df):\n",
    "    # Fill missing names with 'Unknown'\n",
    "    df['Name'] = df['Name'].fillna('Unknown')\n",
    "    # Remove invalid emails (no '@')\n",
    "    df = df[df['Email'].apply(lambda x: isinstance(x, str) and '@' in x)]\n",
    "    # Fill missing ages with median age\n",
    "    median_age = df['Age'].median()\n",
    "    df['Age'] = df['Age'].fillna(median_age)\n",
    "    # Drop duplicate emails\n",
    "    df = df.drop_duplicates(subset=['Email'])\n",
    "    return df.reset_index(drop=True)\n",
    "\n",
    "# Step 7: Generate a simple HTML report\n",
    "def generate_html_report(metrics, overall_score, filename=\"data_quality_report.html\"):\n",
    "    html = f\"\"\"\n",
    "    <html>\n",
    "    <head><title>Data Quality Report</title></head>\n",
    "    <body>\n",
    "        <h1>Data Quality Metrics</h1>\n",
    "        <ul>\n",
    "            <li>Completeness per column:\n",
    "                <ul>\n",
    "                    <li>Name: {metrics['completeness']['Name']:.2f}%</li>\n",
    "                    <li>Email: {metrics['completeness']['Email']:.2f}%</li>\n",
    "                    <li>Age: {metrics['completeness']['Age']:.2f}%</li>\n",
    "                </ul>\n",
    "            </li>\n",
    "            <li>Email Validity: {metrics['validity']:.2f}%</li>\n",
    "            <li>Email Uniqueness: {metrics['uniqueness']:.2f}%</li>\n",
    "        </ul>\n",
    "        <h2>Overall Data Quality Score: {overall_score:.2f}%</h2>\n",
    "    </body>\n",
    "    </html>\n",
    "    \"\"\"\n",
    "    with open(filename, \"w\") as f:\n",
    "        f.write(html)\n",
    "    print(f\"Data quality report generated: {filename}\")\n",
    "\n",
    "# Main execution\n",
    "if __name__ == \"__main__\":\n",
    "    df = generate_sample_data()\n",
    "    print(\"Initial Dataset:\")\n",
    "    print(df)\n",
    "\n",
    "    # Calculate metrics\n",
    "    completeness_scores = completeness(df)\n",
    "    validity_score = validity_email(df)\n",
    "    uniqueness_score = uniqueness_email(df)\n",
    "    overall_score = calculate_quality_score(completeness_scores, validity_score, uniqueness_score)\n",
    "\n",
    "    print(\"\\nData Quality Metrics (Before Cleaning):\")\n",
    "    print(f\"Completeness:\\n{completeness_scores}\")\n",
    "    print(f\"Email Validity: {validity_score:.2f}%\")\n",
    "    print(f\"Email Uniqueness: {uniqueness_score:.2f}%\")\n",
    "    print(f\"Overall Quality Score: {overall_score:.2f}%\")\n",
    "\n",
    "    # Threshold for cleaning\n",
    "    threshold = 90.0\n",
    "    if overall_score < threshold:\n",
    "        print(\"\\nData quality below threshold. Running cleaning...\")\n",
    "        df_cleaned = clean_data(df)\n",
    "        # Recalculate metrics after cleaning\n",
    "        completeness_scores = completeness(df_cleaned)\n",
    "        validity_score = validity_email(df_cleaned)\n",
    "        uniqueness_score = uniqueness_email(df_cleaned)\n",
    "        overall_score = calculate_quality_score(completeness_scores, validity_score, uniqueness_score)\n",
    "\n",
    "        print(\"\\nData Quality Metrics (After Cleaning):\")\n",
    "        print(f\"Completeness:\\n{completeness_scores}\")\n",
    "        print(f\"Email Validity: {validity_score:.2f}%\")\n",
    "        print(f\"Email Uniqueness: {uniqueness_score:.2f}%\")\n",
    "        print(f\"Overall Quality Score: {overall_score:.2f}%\")\n",
    "    else:\n",
    "        df_cleaned = df\n",
    "\n",
    "    # Generate HTML report\n",
    "    metrics = {\n",
    "        \"completeness\": completeness_scores,\n",
    "        \"validity\": validity_score,\n",
    "        \"uniqueness\": uniqueness_score\n",
    "    }\n",
    "    generate_html_report(metrics, overall_score)\n"
   ]
  }
 ],
 "metadata": {
  "kernelspec": {
   "display_name": "Python 3",
   "language": "python",
   "name": "python3"
  },
  "language_info": {
   "codemirror_mode": {
    "name": "ipython",
    "version": 3
   },
   "file_extension": ".py",
   "mimetype": "text/x-python",
   "name": "python",
   "nbconvert_exporter": "python",
   "pygments_lexer": "ipython3",
   "version": "3.10.12"
  }
 },
 "nbformat": 4,
 "nbformat_minor": 2
}

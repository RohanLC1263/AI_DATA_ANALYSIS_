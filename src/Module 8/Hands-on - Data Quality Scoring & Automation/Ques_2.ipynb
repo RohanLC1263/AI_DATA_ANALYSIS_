{
 "cells": [
  {
   "cell_type": "markdown",
   "metadata": {},
   "source": [
    "## Calculate Data Quality Score\n",
    "**Introduction**: In this activity, you will calculate data quality scores for datasets using different metrics. You will explore examples where you assess completeness, accuracy, and consistency.\n",
    "\n",
    "### Task 1: Completeness Score\n",
    "1. Objective: Determine the percentage of non-missing values in a dataset.\n",
    "2. Steps:\n",
    "    - Load a sample dataset using Pandas.\n",
    "    - Identify the columns with missing values.\n",
    "    - Calculate the completeness score as the ratio of non-missing values to total values.\n",
    "    - E.g., a dataset with customer information."
   ]
  },
  {
   "cell_type": "code",
   "execution_count": null,
   "metadata": {},
   "outputs": [],
   "source": [
    "# Write your code from here"
   ]
  },
  {
   "cell_type": "markdown",
   "metadata": {},
   "source": [
    "### Task 2: Accuracy Score\n",
    "\n",
    "1. Objective: Measure the accuracy of a dataset by comparing it against a reference dataset.\n",
    "2. Steps:\n",
    "    - Load the main dataset and a reference dataset.\n",
    "    - Select key columns for accuracy check.\n",
    "    - Match values from both datasets and calculate the accuracy percentage.\n",
    "    - E.g., along existing dataset with sales information."
   ]
  },
  {
   "cell_type": "code",
   "execution_count": null,
   "metadata": {},
   "outputs": [],
   "source": [
    "# Write your code from here\n"
   ]
  },
  {
   "cell_type": "markdown",
   "metadata": {},
   "source": [
    "### Task 3: Consistency Score\n",
    "\n",
    "1. Objective: Evaluate the consistency within a dataset for specific columns.\n",
    "2. Steps:\n",
    "    - Choose a column expected to have consistent values.\n",
    "    - Use statistical or rule-based checks to identify inconsistencies.\n",
    "    - Calculate the consistency score by the ratio of consistent to total entries.\n",
    "    - E.g., validating phone number formats in a contact list."
   ]
  },
  {
   "cell_type": "code",
   "execution_count": 2,
   "metadata": {},
   "outputs": [
    {
     "name": "stdout",
     "output_type": "stream",
     "text": [
      "=== DATA QUALITY SCORES ===\n",
      "Completeness Score        : 84.00%\n",
      "Accuracy Score            : 80.00%\n",
      "Consistency Score (Phone) : 75.00%\n"
     ]
    }
   ],
   "source": [
    "\n",
    "import pandas as pd\n",
    "import numpy as np\n",
    "import re\n",
    "\n",
    "# ---------- STEP 1: Generate Sample Datasets ----------\n",
    "main_data = {\n",
    "    \"CustomerID\": [1, 2, 3, 4, 5],\n",
    "    \"Name\": [\"John Doe\", \"Jane Smith\", np.nan, \"Alice Green\", \"Tom Brown\"],\n",
    "    \"Email\": [\"john@example.com\", np.nan, \"dave@example.com\", \"alice@green.com\", \"tom.b@example.com\"],\n",
    "    \"Phone\": [\"123-456-7890\", \"123.456.7890\", \"123-456-7890\", np.nan, \"123-456-7890\"],\n",
    "    \"SalesAmount\": [250, 300, np.nan, 400, 500]\n",
    "}\n",
    "\n",
    "ref_data = {\n",
    "    \"CustomerID\": [1, 2, 3, 4, 5],\n",
    "    \"Name\": [\"John Doe\", \"Jane Smith\", \"David Lee\", \"Alice Green\", \"Tom Brown\"],\n",
    "    \"Email\": [\"john@example.com\", \"jane@smith.com\", \"dave@example.com\", \"alice@green.com\", \"tom.b@example.com\"],\n",
    "    \"Phone\": [\"123-456-7890\", \"123-456-7890\", \"123-456-7890\", \"123-456-7890\", \"123-456-7890\"],\n",
    "    \"SalesAmount\": [250, 300, 350, 400, 500]\n",
    "}\n",
    "\n",
    "# Save to CSV\n",
    "df_main = pd.DataFrame(main_data)\n",
    "df_ref = pd.DataFrame(ref_data)\n",
    "\n",
    "df_main.to_csv('customer_data.csv', index=False)\n",
    "df_ref.to_csv('reference_data.csv', index=False)\n",
    "\n",
    "# ---------- STEP 2: Load Datasets ----------\n",
    "main_df = pd.read_csv('customer_data.csv')\n",
    "ref_df = pd.read_csv('reference_data.csv')\n",
    "\n",
    "# Sort by CustomerID for alignment\n",
    "main_df.sort_values(by='CustomerID', inplace=True)\n",
    "ref_df.sort_values(by='CustomerID', inplace=True)\n",
    "\n",
    "# ---------- STEP 3: Completeness Score ----------\n",
    "total_cells = main_df.size\n",
    "non_missing_cells = main_df.count().sum()\n",
    "completeness_score = (non_missing_cells / total_cells) * 100\n",
    "\n",
    "# ---------- STEP 4: Accuracy Score ----------\n",
    "columns_to_check = ['Email', 'SalesAmount']\n",
    "matches = (main_df[columns_to_check] == ref_df[columns_to_check]).sum().sum()\n",
    "total_checks = main_df[columns_to_check].size\n",
    "accuracy_score = (matches / total_checks) * 100\n",
    "\n",
    "# ---------- STEP 5: Consistency Score ----------\n",
    "# Rule: Phone number must be in format XXX-XXX-XXXX\n",
    "pattern = re.compile(r'^\\d{3}-\\d{3}-\\d{4}$')\n",
    "\n",
    "valid_format = main_df['Phone'].apply(lambda x: bool(pattern.match(str(x))) if pd.notnull(x) else False)\n",
    "consistency_score = (valid_format.sum() / main_df['Phone'].notnull().sum()) * 100\n",
    "\n",
    "# ---------- STEP 6: Print Results ----------\n",
    "print(\"=== DATA QUALITY SCORES ===\")\n",
    "print(f\"Completeness Score        : {completeness_score:.2f}%\")\n",
    "print(f\"Accuracy Score            : {accuracy_score:.2f}%\")\n",
    "print(f\"Consistency Score (Phone) : {consistency_score:.2f}%\")\n"
   ]
  }
 ],
 "metadata": {
  "kernelspec": {
   "display_name": "Python 3",
   "language": "python",
   "name": "python3"
  },
  "language_info": {
   "codemirror_mode": {
    "name": "ipython",
    "version": 3
   },
   "file_extension": ".py",
   "mimetype": "text/x-python",
   "name": "python",
   "nbconvert_exporter": "python",
   "pygments_lexer": "ipython3",
   "version": "3.10.12"
  }
 },
 "nbformat": 4,
 "nbformat_minor": 2
}

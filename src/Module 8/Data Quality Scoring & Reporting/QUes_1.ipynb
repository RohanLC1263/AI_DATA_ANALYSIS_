{
 "cells": [
  {
   "cell_type": "markdown",
   "metadata": {},
   "source": [
    "## Read Data from CSV and Calculate DQI\n",
    "\n",
    "**Description**: Read data from a CSV file, identify errors as missing values, and calculate the DQI."
   ]
  },
  {
   "cell_type": "code",
   "execution_count": null,
   "metadata": {},
   "outputs": [],
   "source": []
  },
  {
   "cell_type": "code",
   "execution_count": null,
   "metadata": {},
   "outputs": [],
   "source": [
    "# Write your code from here"
   ]
  },
  {
   "cell_type": "markdown",
   "metadata": {},
   "source": [
    "### Visualize Basic DQI with Bar Plot\n",
    "\n",
    "**Description**: Create a bar plot for DQI and errors in a dataset."
   ]
  },
  {
   "cell_type": "code",
   "execution_count": null,
   "metadata": {},
   "outputs": [],
   "source": [
    "# Write your code from here"
   ]
  },
  {
   "cell_type": "code",
   "execution_count": 3,
   "metadata": {},
   "outputs": [
    {
     "name": "stdout",
     "output_type": "stream",
     "text": [
      "✅ 'sample_data.csv' created.\n"
     ]
    }
   ],
   "source": [
    "# Save the dataset if not already saved\n",
    "import pandas as pd\n",
    "\n",
    "data = {\n",
    "    'ID': [1, 2, 3, 4, 5, 6, 7, 5, 8, 9],\n",
    "    'Name': ['John Doe', 'Jane Smith', 'Bob Johnson', 'Alice White', 'Charlie Brown',\n",
    "             'David Lee', 'john doe', 'Eve Adams', 'Ann Marie', \"Tom O'Neil\"],\n",
    "    'Age': [20, 22, 19, 25, 21, None, 23, 121, 30, 19],\n",
    "    'Grade': [85, 90, 78, 88, 95, 80, 101, 70, 85, None],\n",
    "    'Email': ['johndoe@example.com', 'janesmith@example.com', 'bobjohnson@example.com',\n",
    "              'alicewhite@example.com', 'charliebrown@example.com', 'invalid-email',\n",
    "              'johndoe@domain', 'eveadams@example.com', 'annmarie@example.com', 'tomoneil@example.com']\n",
    "}\n",
    "\n",
    "df = pd.DataFrame(data)\n",
    "df.to_csv('sample_data.csv', index=False)\n",
    "print(\"✅ 'sample_data.csv' created.\")\n"
   ]
  },
  {
   "cell_type": "code",
   "execution_count": 4,
   "metadata": {},
   "outputs": [
    {
     "name": "stdout",
     "output_type": "stream",
     "text": [
      "✅ Data loaded successfully from sample_data.csv\n",
      "\n",
      "📊 DQI Score: 96.0%\n",
      "\n"
     ]
    },
    {
     "name": "stderr",
     "output_type": "stream",
     "text": [
      "/tmp/ipykernel_28682/4001003299.py:54: FutureWarning: \n",
      "\n",
      "Passing `palette` without assigning `hue` is deprecated and will be removed in v0.14.0. Assign the `x` variable to `hue` and set `legend=False` for the same effect.\n",
      "\n",
      "  sns.barplot(x=['Valid Data', 'Missing Data'], y=[valid_cells, missing_cells], palette=['#4CAF50', '#F44336'])\n"
     ]
    },
    {
     "data": {
      "image/png": "[encoded data removed]",
      "text/plain": [
       "<Figure size 600x400 with 1 Axes>"
      ]
     },
     "metadata": {},
     "output_type": "display_data"
    },
    {
     "name": "stderr",
     "output_type": "stream",
     "text": [
      "test_all_missing_data (__main__.TestDQICalculation)\n",
      "Test DQI when all values are missing. ... ok\n",
      "test_empty_dataframe (__main__.TestDQICalculation)\n",
      "Test DQI for an empty DataFrame. ... ok\n",
      "test_no_missing_data (__main__.TestDQICalculation)\n",
      "Test DQI when there are no missing values. ... ok\n",
      "test_partial_missing_data (__main__.TestDQICalculation)\n",
      "Test DQI for partial missing values. ... ok\n",
      "\n",
      "----------------------------------------------------------------------\n",
      "Ran 4 tests in 0.011s\n",
      "\n",
      "OK\n"
     ]
    }
   ],
   "source": [
    "import pandas as pd\n",
    "import matplotlib.pyplot as plt\n",
    "import seaborn as sns\n",
    "import unittest\n",
    "\n",
    "# --------------------------\n",
    "# Step 1: Read CSV Safely\n",
    "# --------------------------\n",
    "\n",
    "def read_csv_file(filepath):\n",
    "    \"\"\"Read CSV and handle potential encoding or format errors.\"\"\"\n",
    "    try:\n",
    "        df = pd.read_csv(filepath, encoding='utf-8')\n",
    "        print(f\"✅ Data loaded successfully from {filepath}\")\n",
    "        return df\n",
    "    except pd.errors.ParserError:\n",
    "        print(\"❌ Error: The CSV file is malformed.\")\n",
    "        return pd.DataFrame()\n",
    "    except UnicodeDecodeError:\n",
    "        print(\"❌ Error: Unsupported character encoding in the CSV file.\")\n",
    "        return pd.DataFrame()\n",
    "\n",
    "# --------------------------\n",
    "# Step 2: Calculate DQI\n",
    "# --------------------------\n",
    "\n",
    "def calculate_dqi(df):\n",
    "    \"\"\"\n",
    "    Calculate the Data Quality Index.\n",
    "    \n",
    "    DQI = % of non-missing values across the dataset.\n",
    "    \"\"\"\n",
    "    if df.empty:\n",
    "        return 0.0\n",
    "\n",
    "    total_cells = df.size\n",
    "    missing_cells = df.isnull().sum().sum()\n",
    "    dqi = round((1 - (missing_cells / total_cells)) * 100, 2)\n",
    "    return dqi\n",
    "\n",
    "# --------------------------\n",
    "# Step 3: Visualize DQI\n",
    "# --------------------------\n",
    "\n",
    "def plot_dqi_vs_errors(df):\n",
    "    \"\"\"Generate a bar plot comparing valid vs. missing data.\"\"\"\n",
    "    total_cells = df.size\n",
    "    missing_cells = df.isnull().sum().sum()\n",
    "    valid_cells = total_cells - missing_cells\n",
    "\n",
    "    # Plot\n",
    "    sns.set(style=\"whitegrid\")\n",
    "    plt.figure(figsize=(6, 4))\n",
    "    sns.barplot(x=['Valid Data', 'Missing Data'], y=[valid_cells, missing_cells], palette=['#4CAF50', '#F44336'])\n",
    "    plt.title(\"Data Quality Overview\")\n",
    "    plt.ylabel(\"Number of Cells\")\n",
    "    plt.tight_layout()\n",
    "    plt.show()\n",
    "\n",
    "# --------------------------\n",
    "# Step 4: Example Usage\n",
    "# --------------------------\n",
    "\n",
    "# ⚠️ Ensure this file exists or is generated with the earlier code\n",
    "csv_file = 'sample_data.csv'\n",
    "\n",
    "df = read_csv_file(csv_file)\n",
    "dqi_score = calculate_dqi(df)\n",
    "print(f\"\\n📊 DQI Score: {dqi_score}%\\n\")\n",
    "\n",
    "if not df.empty:\n",
    "    plot_dqi_vs_errors(df)\n",
    "\n",
    "# --------------------------\n",
    "# Step 5: Unit Tests\n",
    "# --------------------------\n",
    "\n",
    "class TestDQICalculation(unittest.TestCase):\n",
    "\n",
    "    def test_empty_dataframe(self):\n",
    "        \"\"\"Test DQI for an empty DataFrame.\"\"\"\n",
    "        empty_df = pd.DataFrame()\n",
    "        dqi = calculate_dqi(empty_df)\n",
    "        self.assertEqual(dqi, 0.0)\n",
    "\n",
    "    def test_all_missing_data(self):\n",
    "        \"\"\"Test DQI when all values are missing.\"\"\"\n",
    "        df = pd.DataFrame({\n",
    "            'a': [None, None],\n",
    "            'b': [None, None]\n",
    "        })\n",
    "        dqi = calculate_dqi(df)\n",
    "        self.assertEqual(dqi, 0.0)\n",
    "\n",
    "    def test_no_missing_data(self):\n",
    "        \"\"\"Test DQI when there are no missing values.\"\"\"\n",
    "        df = pd.DataFrame({\n",
    "            'a': [1, 2],\n",
    "            'b': [3, 4]\n",
    "        })\n",
    "        dqi = calculate_dqi(df)\n",
    "        self.assertEqual(dqi, 100.0)\n",
    "\n",
    "    def test_partial_missing_data(self):\n",
    "        \"\"\"Test DQI for partial missing values.\"\"\"\n",
    "        df = pd.DataFrame({\n",
    "            'a': [1, None],\n",
    "            'b': [3, 4]\n",
    "        })\n",
    "        dqi = calculate_dqi(df)\n",
    "        self.assertEqual(dqi, 75.0)\n",
    "\n",
    "if __name__ == '__main__':\n",
    "    unittest.main(argv=[''], exit=False, verbosity=2)\n"
   ]
  }
 ],
 "metadata": {
  "kernelspec": {
   "display_name": "Python 3",
   "language": "python",
   "name": "python3"
  },
  "language_info": {
   "codemirror_mode": {
    "name": "ipython",
    "version": 3
   },
   "file_extension": ".py",
   "mimetype": "text/x-python",
   "name": "python",
   "nbconvert_exporter": "python",
   "pygments_lexer": "ipython3",
   "version": "3.10.12"
  }
 },
 "nbformat": 4,
 "nbformat_minor": 2
}

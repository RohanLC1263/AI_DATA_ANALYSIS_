{
 "cells": [
  {
   "cell_type": "code",
   "execution_count": null,
   "metadata": {},
   "outputs": [],
   "source": [
    "# Title: Basic NumPy Operations\n",
    "# Description: Perform basic operations such as calculating the mean of the dataset."
   ]
  },
  {
   "cell_type": "code",
   "execution_count": null,
   "metadata": {},
   "outputs": [],
   "source": [
    "import numpy as np\n",
    "\n",
    "# Sample dataset: 1D NumPy array\n",
    "data = np.array([10, 20, 30, 40, 50])\n",
    "\n",
    "# Calculate mean\n",
    "mean_value = np.mean(data)\n",
    "\n",
    "print(\"Data:\", data)\n",
    "print(\"Mean of the dataset:\", mean_value)\n"
   ]
  }
 ],
 "metadata": {
  "language_info": {
   "name": "python"
  }
 },
 "nbformat": 4,
 "nbformat_minor": 2
}

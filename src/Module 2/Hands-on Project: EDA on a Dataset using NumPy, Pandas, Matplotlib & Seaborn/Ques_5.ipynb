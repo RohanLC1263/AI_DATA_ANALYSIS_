{
 "cells": [
  {
   "cell_type": "code",
   "execution_count": null,
   "metadata": {},
   "outputs": [],
   "source": [
    "# Title: Data Cleaning using Pandas\n",
    "# Description: Check for missing values and handle them by imputing the median."
   ]
  },
  {
   "cell_type": "code",
   "execution_count": 1,
   "metadata": {},
   "outputs": [
    {
     "name": "stdout",
     "output_type": "stream",
     "text": [
      "Original DataFrame with missing values:\n",
      "     A     B   C\n",
      "0  1.0   5.0  10\n",
      "1  2.0   NaN  20\n",
      "2  NaN   NaN  30\n",
      "3  4.0   8.0  40\n",
      "4  5.0  10.0  50\n",
      "\n",
      "Missing values per column:\n",
      "A    1\n",
      "B    2\n",
      "C    0\n",
      "dtype: int64\n",
      "\n",
      "DataFrame after imputing missing values with median:\n",
      "     A     B   C\n",
      "0  1.0   5.0  10\n",
      "1  2.0   8.0  20\n",
      "2  3.0   8.0  30\n",
      "3  4.0   8.0  40\n",
      "4  5.0  10.0  50\n"
     ]
    }
   ],
   "source": [
    "import pandas as pd\n",
    "import numpy as np\n",
    "\n",
    "# Sample DataFrame with missing values\n",
    "data = {\n",
    "    'A': [1, 2, np.nan, 4, 5],\n",
    "    'B': [5, np.nan, np.nan, 8, 10],\n",
    "    'C': [10, 20, 30, 40, 50]\n",
    "}\n",
    "df = pd.DataFrame(data)\n",
    "\n",
    "print(\"Original DataFrame with missing values:\")\n",
    "print(df)\n",
    "\n",
    "# Check for missing values\n",
    "missing_counts = df.isnull().sum()\n",
    "print(\"\\nMissing values per column:\")\n",
    "print(missing_counts)\n",
    "\n",
    "# Impute missing values with median of each column\n",
    "df_imputed = df.fillna(df.median())\n",
    "\n",
    "print(\"\\nDataFrame after imputing missing values with median:\")\n",
    "print(df_imputed)\n"
   ]
  }
 ],
 "metadata": {
  "kernelspec": {
   "display_name": "Python 3",
   "language": "python",
   "name": "python3"
  },
  "language_info": {
   "codemirror_mode": {
    "name": "ipython",
    "version": 3
   },
   "file_extension": ".py",
   "mimetype": "text/x-python",
   "name": "python",
   "nbconvert_exporter": "python",
   "pygments_lexer": "ipython3",
   "version": "3.10.12"
  }
 },
 "nbformat": 4,
 "nbformat_minor": 2
}

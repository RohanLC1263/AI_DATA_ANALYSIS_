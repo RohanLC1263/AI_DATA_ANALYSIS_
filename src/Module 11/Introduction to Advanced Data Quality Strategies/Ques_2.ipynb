{
 "cells": [
  {
   "cell_type": "markdown",
   "metadata": {},
   "source": [
    "### Handling Unstructured Data with Python\n",
    "**Description**: Extract structured data from unstructured text using Python.\n",
    "\n",
    "**Steps**:\n",
    "1. Load and analyze an unstructured text document.\n",
    "2. Extract information using regex."
   ]
  },
  {
   "cell_type": "code",
   "execution_count": 2,
   "metadata": {},
   "outputs": [
    {
     "name": "stderr",
     "output_type": "stream",
     "text": [
      "..F\n",
      "======================================================================\n",
      "FAIL: test_phone_numbers (__main__.TestExtractor)\n",
      "----------------------------------------------------------------------\n",
      "Traceback (most recent call last):\n",
      "  File \"/tmp/ipykernel_24146/2875875444.py\", line 67, in test_phone_numbers\n",
      "    self.assertTrue(any(\"222-3333\" in r or \"555-6666\" in r for r in result))\n",
      "AssertionError: False is not true\n",
      "\n",
      "----------------------------------------------------------------------\n",
      "Ran 3 tests in 0.002s\n",
      "\n",
      "FAILED (failures=1)\n"
     ]
    },
    {
     "name": "stdout",
     "output_type": "stream",
     "text": [
      "=== Extracted Information ===\n",
      "Emails: ['support@example.com', 'info@company.co.in']\n",
      "Phone Numbers: ['', '+91 ']\n",
      "Dates: ['2025-06-15', '06/20/2025']\n",
      "\n",
      "Running Unit Tests...\n",
      "\n"
     ]
    }
   ],
   "source": [
    "import re\n",
    "import unittest\n",
    "\n",
    "# ----------------------------\n",
    "# Extraction Functions\n",
    "# ----------------------------\n",
    "\n",
    "def extract_emails(text):\n",
    "    try:\n",
    "        return re.findall(r'[a-zA-Z0-9._%+-]+@[a-zA-Z0-9.-]+\\.[a-zA-Z]{2,}', text)\n",
    "    except Exception as e:\n",
    "        print(\"Error extracting emails:\", e)\n",
    "        return []\n",
    "\n",
    "def extract_phone_numbers(text):\n",
    "    try:\n",
    "        return re.findall(r'(\\+?\\d{1,2}[-\\s]?)?\\(?\\d{3}\\)?[-.\\s]?\\d{3}[-.\\s]?\\d{4}', text)\n",
    "    except Exception as e:\n",
    "        print(\"Error extracting phone numbers:\", e)\n",
    "        return []\n",
    "\n",
    "def extract_dates(text):\n",
    "    try:\n",
    "        return re.findall(r'\\b(?:\\d{4}-\\d{2}-\\d{2}|\\d{2}/\\d{2}/\\d{4})\\b', text)\n",
    "    except Exception as e:\n",
    "        print(\"Error extracting dates:\", e)\n",
    "        return []\n",
    "\n",
    "# ----------------------------\n",
    "# Example Use Case\n",
    "# ----------------------------\n",
    "\n",
    "if __name__ == \"__main__\":\n",
    "    sample_text = \"\"\"\n",
    "    Contact us at support@example.com or (123) 456-7890.\n",
    "    Alternate contact: info@company.co.in or +91 987-654-3210.\n",
    "    Your interview is scheduled for 2025-06-15. Backup date: 06/20/2025.\n",
    "    \"\"\"\n",
    "\n",
    "    print(\"=== Extracted Information ===\")\n",
    "    print(\"Emails:\", extract_emails(sample_text))\n",
    "    print(\"Phone Numbers:\", extract_phone_numbers(sample_text))\n",
    "    print(\"Dates:\", extract_dates(sample_text))\n",
    "\n",
    "    print(\"\\nRunning Unit Tests...\\n\")\n",
    "\n",
    "    # ----------------------------\n",
    "    # Embedded Unit Tests\n",
    "    # ----------------------------\n",
    "\n",
    "    class TestExtractor(unittest.TestCase):\n",
    "\n",
    "        def setUp(self):\n",
    "            self.test_text = \"\"\"\n",
    "            Reach out at john.doe@gmail.com, jane-doe@org.io, or (111) 222-3333.\n",
    "            Emergency contact: +1-444-555-6666. Event on 2024-11-30 or 12/01/2024.\n",
    "            \"\"\"\n",
    "\n",
    "        def test_emails(self):\n",
    "            result = extract_emails(self.test_text)\n",
    "            expected = ['john.doe@gmail.com', 'jane-doe@org.io']\n",
    "            for email in expected:\n",
    "                self.assertIn(email, result)\n",
    "\n",
    "        def test_phone_numbers(self):\n",
    "            result = extract_phone_numbers(self.test_text)\n",
    "            self.assertTrue(any(\"222-3333\" in r or \"555-6666\" in r for r in result))\n",
    "\n",
    "        def test_dates(self):\n",
    "            result = extract_dates(self.test_text)\n",
    "            self.assertIn('2024-11-30', result)\n",
    "            self.assertIn('12/01/2024', result)\n",
    "\n",
    "    unittest.main(argv=['first-arg-is-ignored'], exit=False)\n"
   ]
  }
 ],
 "metadata": {
  "kernelspec": {
   "display_name": "Python 3",
   "language": "python",
   "name": "python3"
  },
  "language_info": {
   "codemirror_mode": {
    "name": "ipython",
    "version": 3
   },
   "file_extension": ".py",
   "mimetype": "text/x-python",
   "name": "python",
   "nbconvert_exporter": "python",
   "pygments_lexer": "ipython3",
   "version": "3.10.12"
  }
 },
 "nbformat": 4,
 "nbformat_minor": 2
}

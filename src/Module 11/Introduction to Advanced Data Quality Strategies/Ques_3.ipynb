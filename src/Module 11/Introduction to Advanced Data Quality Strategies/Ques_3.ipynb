{
 "cells": [
  {
   "cell_type": "markdown",
   "metadata": {},
   "source": [
    "### Machine Learning for Data Quality Prediction\n",
    "**Description**: Use a machine learning model to predict data quality issues.\n",
    "\n",
    "**Steps**:\n",
    "1. Create a mock dataset with features and label (quality issue/label: 0: good, 1: issue).\n",
    "2. Train a machine learning model.\n",
    "3. Evaluate the model performance."
   ]
  },
  {
   "cell_type": "code",
   "execution_count": 1,
   "metadata": {},
   "outputs": [
    {
     "name": "stdout",
     "output_type": "stream",
     "text": [
      "Sample Data:\n",
      "    missing_values  outlier_score  inconsistent_format  duplicates  \\\n",
      "0               3       0.505252                    0           0   \n",
      "1               4       0.826457                    0           0   \n",
      "2               2       0.320050                    1           1   \n",
      "3               4       0.895523                    0           1   \n",
      "4               4       0.389202                    1           0   \n",
      "\n",
      "   quality_label  \n",
      "0              0  \n",
      "1              1  \n",
      "2              0  \n",
      "3              0  \n",
      "4              1  \n",
      "\n",
      "--- Model Evaluation ---\n",
      "Accuracy: 0.68\n",
      "\n",
      "Classification Report:\n",
      "               precision    recall  f1-score   support\n",
      "\n",
      "           0       0.78      0.82      0.79        76\n",
      "           1       0.30      0.25      0.27        24\n",
      "\n",
      "    accuracy                           0.68       100\n",
      "   macro avg       0.54      0.53      0.53       100\n",
      "weighted avg       0.66      0.68      0.67       100\n",
      "\n"
     ]
    },
    {
     "data": {
      "image/png": "[encoded data removed]",
      "text/plain": [
       "<Figure size 640x480 with 2 Axes>"
      ]
     },
     "metadata": {},
     "output_type": "display_data"
    }
   ],
   "source": [
    "import pandas as pd\n",
    "import numpy as np\n",
    "from sklearn.ensemble import RandomForestClassifier\n",
    "from sklearn.model_selection import train_test_split\n",
    "from sklearn.metrics import classification_report, confusion_matrix, accuracy_score\n",
    "import seaborn as sns\n",
    "import matplotlib.pyplot as plt\n",
    "\n",
    "# ----------------------------\n",
    "# Step 1: Create Mock Dataset\n",
    "# ----------------------------\n",
    "np.random.seed(42)\n",
    "n_samples = 500\n",
    "\n",
    "# Simulate some features\n",
    "data = pd.DataFrame({\n",
    "    'missing_values': np.random.randint(0, 5, n_samples),\n",
    "    'outlier_score': np.random.rand(n_samples),\n",
    "    'inconsistent_format': np.random.randint(0, 2, n_samples),\n",
    "    'duplicates': np.random.randint(0, 2, n_samples),\n",
    "    'quality_label': np.random.choice([0, 1], n_samples, p=[0.7, 0.3])  # 0 = good, 1 = issue\n",
    "})\n",
    "\n",
    "print(\"Sample Data:\\n\", data.head())\n",
    "\n",
    "# ----------------------------\n",
    "# Step 2: Train ML Model\n",
    "# ----------------------------\n",
    "X = data.drop('quality_label', axis=1)\n",
    "y = data['quality_label']\n",
    "\n",
    "X_train, X_test, y_train, y_test = train_test_split(X, y, test_size=0.2, random_state=42)\n",
    "\n",
    "model = RandomForestClassifier(n_estimators=100, random_state=42)\n",
    "model.fit(X_train, y_train)\n",
    "\n",
    "# ----------------------------\n",
    "# Step 3: Evaluate the Model\n",
    "# ----------------------------\n",
    "y_pred = model.predict(X_test)\n",
    "\n",
    "print(\"\\n--- Model Evaluation ---\")\n",
    "print(\"Accuracy:\", accuracy_score(y_test, y_pred))\n",
    "print(\"\\nClassification Report:\\n\", classification_report(y_test, y_pred))\n",
    "\n",
    "# Confusion Matrix Plot\n",
    "conf_matrix = confusion_matrix(y_test, y_pred)\n",
    "sns.heatmap(conf_matrix, annot=True, fmt='d', cmap='Blues',\n",
    "            xticklabels=['Good', 'Issue'],\n",
    "            yticklabels=['Good', 'Issue'])\n",
    "plt.title(\"Confusion Matrix\")\n",
    "plt.xlabel(\"Predicted Label\")\n",
    "plt.ylabel(\"True Label\")\n",
    "plt.show()\n"
   ]
  }
 ],
 "metadata": {
  "kernelspec": {
   "display_name": "Python 3",
   "language": "python",
   "name": "python3"
  },
  "language_info": {
   "codemirror_mode": {
    "name": "ipython",
    "version": 3
   },
   "file_extension": ".py",
   "mimetype": "text/x-python",
   "name": "python",
   "nbconvert_exporter": "python",
   "pygments_lexer": "ipython3",
   "version": "3.10.12"
  }
 },
 "nbformat": 4,
 "nbformat_minor": 2
}

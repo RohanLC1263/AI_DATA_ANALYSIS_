{
 "cells": [
  {
   "cell_type": "markdown",
   "metadata": {},
   "source": [
    "### Machine Learning for Data Quality Prediction\n",
    "**Description**: Use a machine learning model to predict data quality issues.\n",
    "\n",
    "**Steps**:\n",
    "1. Create a mock dataset with features and label (quality issue/label: 0: good, 1: issue).\n",
    "2. Train a machine learning model.\n",
    "3. Evaluate the model performance."
   ]
  },
  {
   "cell_type": "code",
   "execution_count": 2,
   "metadata": {},
   "outputs": [
    {
     "name": "stdout",
     "output_type": "stream",
     "text": [
      "Sample Data:\n",
      "    missing_values  outlier_score  inconsistent_format  duplicates  \\\n",
      "0               3       0.505252                    0           0   \n",
      "1               4       0.826457                    0           0   \n",
      "2               2       0.320050                    1           1   \n",
      "3               4       0.895523                    0           1   \n",
      "4               4       0.389202                    1           0   \n",
      "\n",
      "   quality_label  \n",
      "0              0  \n",
      "1              1  \n",
      "2              0  \n",
      "3              0  \n",
      "4              1  \n"
     ]
    },
    {
     "name": "stdout",
     "output_type": "stream",
     "text": [
      "\n",
      "--- Model Evaluation ---\n",
      "Best Parameters: {'max_depth': 10, 'min_samples_split': 5, 'n_estimators': 100}\n",
      "Accuracy: 0.73\n",
      "\n",
      "Classification Report:\n",
      "               precision    recall  f1-score   support\n",
      "\n",
      "           0       0.78      0.89      0.83        76\n",
      "           1       0.38      0.21      0.27        24\n",
      "\n",
      "    accuracy                           0.73       100\n",
      "   macro avg       0.58      0.55      0.55       100\n",
      "weighted avg       0.69      0.73      0.70       100\n",
      "\n"
     ]
    },
    {
     "data": {
      "image/png": "[encoded data removed]",
      "text/plain": [
       "<Figure size 640x480 with 2 Axes>"
      ]
     },
     "metadata": {},
     "output_type": "display_data"
    }
   ],
   "source": [
    "import pandas as pd\n",
    "import numpy as np\n",
    "from sklearn.ensemble import RandomForestClassifier\n",
    "from sklearn.model_selection import train_test_split, GridSearchCV\n",
    "from sklearn.metrics import classification_report, confusion_matrix, accuracy_score\n",
    "import seaborn as sns\n",
    "import matplotlib.pyplot as plt\n",
    "\n",
    "# -----------------------------------\n",
    "# Step 1: Create Mock Dataset Safely\n",
    "# -----------------------------------\n",
    "def generate_mock_data(n_samples=500, random_seed=42):\n",
    "    np.random.seed(random_seed)\n",
    "    try:\n",
    "        data = pd.DataFrame({\n",
    "            'missing_values': np.random.randint(0, 5, n_samples),\n",
    "            'outlier_score': np.random.rand(n_samples),\n",
    "            'inconsistent_format': np.random.randint(0, 2, n_samples),\n",
    "            'duplicates': np.random.randint(0, 2, n_samples),\n",
    "            'quality_label': np.random.choice([0, 1], n_samples, p=[0.7, 0.3])\n",
    "        })\n",
    "        # Ensure no NaNs and correct types\n",
    "        if data.isnull().values.any():\n",
    "            raise ValueError(\"Generated dataset contains NaN values.\")\n",
    "        if not all(np.issubdtype(data[col].dtype, np.number) for col in data.columns):\n",
    "            raise TypeError(\"Dataset contains non-numeric values.\")\n",
    "        return data\n",
    "    except Exception as e:\n",
    "        print(\"Error generating dataset:\", e)\n",
    "        return pd.DataFrame()\n",
    "\n",
    "data = generate_mock_data()\n",
    "if data.empty:\n",
    "    raise SystemExit(\"Failed to generate a valid dataset.\")\n",
    "\n",
    "print(\"Sample Data:\\n\", data.head())\n",
    "\n",
    "# --------------------------\n",
    "# Step 2: Train ML Model\n",
    "# --------------------------\n",
    "X = data.drop('quality_label', axis=1)\n",
    "y = data['quality_label']\n",
    "\n",
    "try:\n",
    "    X_train, X_test, y_train, y_test = train_test_split(\n",
    "        X, y, test_size=0.2, random_state=42\n",
    "    )\n",
    "except Exception as e:\n",
    "    print(\"Error during train/test split:\", e)\n",
    "    raise\n",
    "\n",
    "# Optional: Hyperparameter tuning\n",
    "param_grid = {\n",
    "    'n_estimators': [50, 100],\n",
    "    'max_depth': [None, 10, 20],\n",
    "    'min_samples_split': [2, 5]\n",
    "}\n",
    "\n",
    "grid_search = GridSearchCV(RandomForestClassifier(random_state=42),\n",
    "                           param_grid,\n",
    "                           cv=3,\n",
    "                           scoring='accuracy',\n",
    "                           n_jobs=-1)\n",
    "\n",
    "grid_search.fit(X_train, y_train)\n",
    "best_model = grid_search.best_estimator_\n",
    "\n",
    "# --------------------------\n",
    "# Step 3: Evaluate the Model\n",
    "# --------------------------\n",
    "y_pred = best_model.predict(X_test)\n",
    "\n",
    "print(\"\\n--- Model Evaluation ---\")\n",
    "print(\"Best Parameters:\", grid_search.best_params_)\n",
    "print(\"Accuracy:\", accuracy_score(y_test, y_pred))\n",
    "print(\"\\nClassification Report:\\n\", classification_report(y_test, y_pred))\n",
    "\n",
    "# Confusion Matrix Plot\n",
    "conf_matrix = confusion_matrix(y_test, y_pred)\n",
    "sns.heatmap(conf_matrix, annot=True, fmt='d', cmap='Blues',\n",
    "            xticklabels=['Good', 'Issue'],\n",
    "            yticklabels=['Good', 'Issue'])\n",
    "plt.title(\"Confusion Matrix\")\n",
    "plt.xlabel(\"Predicted Label\")\n",
    "plt.ylabel(\"True Label\")\n",
    "plt.show()\n"
   ]
  }
 ],
 "metadata": {
  "kernelspec": {
   "display_name": "Python 3",
   "language": "python",
   "name": "python3"
  },
  "language_info": {
   "codemirror_mode": {
    "name": "ipython",
    "version": 3
   },
   "file_extension": ".py",
   "mimetype": "text/x-python",
   "name": "python",
   "nbconvert_exporter": "python",
   "pygments_lexer": "ipython3",
   "version": "3.10.12"
  }
 },
 "nbformat": 4,
 "nbformat_minor": 2
}

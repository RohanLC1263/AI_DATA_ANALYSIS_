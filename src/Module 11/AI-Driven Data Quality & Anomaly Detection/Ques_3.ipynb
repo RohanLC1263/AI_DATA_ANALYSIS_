{
 "cells": [
  {
   "cell_type": "markdown",
   "metadata": {},
   "source": [
    "# Automated Anomaly Detection\n",
    "**Objective**: Understand and practice automated anomaly detection using various techniques.\n",
    "\n",
    "**Task**: Autoencoders for Anomaly Detection\n",
    "\n",
    "**Steps**:\n",
    "1. Data Set: Download a dataset of electricity consumption data.\n",
    "2. Build an Autoencoder: Construct a simple autoencoder using a neural network for the\n",
    "normal consumption data.\n",
    "3. Identify Anomalies: Use the trained model to reconstruct the data and identify anomalies based on reconstruction error.\n",
    "4. Visualize: Plot both the actual and reconstructed data to highlight anomalies."
   ]
  },
  {
   "cell_type": "code",
   "execution_count": 5,
   "metadata": {},
   "outputs": [
    {
     "name": "stderr",
     "output_type": "stream",
     "text": [
      "test_build_autoencoder (__main__.TestAnomalyDetection) ... ok\n",
      "test_detect_anomalies_with_autoencoder (__main__.TestAnomalyDetection) ... "
     ]
    },
    {
     "name": "stdout",
     "output_type": "stream",
     "text": [
      "\u001b[1m32/32\u001b[0m \u001b[32m━━━━━━━━━━━━━━━━━━━━\u001b[0m\u001b[37m\u001b[0m \u001b[1m0s\u001b[0m 2ms/step \n"
     ]
    },
    {
     "name": "stderr",
     "output_type": "stream",
     "text": [
      "ok\n",
      "test_generate_data (__main__.TestAnomalyDetection) ... ok\n",
      "\n",
      "----------------------------------------------------------------------\n",
      "Ran 3 tests in 4.989s\n",
      "\n",
      "OK\n"
     ]
    }
   ],
   "source": [
    "# write your code from here\n",
    "import unittest\n",
    "import numpy as np\n",
    "\n",
    "class TestAnomalyDetection(unittest.TestCase):\n",
    "\n",
    "    def test_generate_data(self):\n",
    "        df = generate_data()\n",
    "        self.assertEqual(len(df), 1010)  # 1000 normal + 10 anomalies\n",
    "        self.assertFalse(df['consumption'].isnull().any())\n",
    "\n",
    "    def test_build_autoencoder(self):\n",
    "        model = build_autoencoder(1)\n",
    "        self.assertIsNotNone(model)\n",
    "        self.assertEqual(model.input_shape, (None, 1))\n",
    "\n",
    "    def test_detect_anomalies_with_autoencoder(self):\n",
    "        df = generate_data()\n",
    "        df, threshold = detect_anomalies_with_autoencoder(df)\n",
    "        self.assertIn('reconstruction_error', df.columns)\n",
    "        self.assertIn('is_anomaly', df.columns)\n",
    "        self.assertTrue(df['is_anomaly'].dtype == bool or df['is_anomaly'].dtype == np.bool_)\n",
    "\n",
    "if __name__ == \"__main__\":\n",
    "    unittest.main(argv=[''], verbosity=2, exit=False)\n"
   ]
  }
 ],
 "metadata": {
  "kernelspec": {
   "display_name": "Python 3",
   "language": "python",
   "name": "python3"
  },
  "language_info": {
   "codemirror_mode": {
    "name": "ipython",
    "version": 3
   },
   "file_extension": ".py",
   "mimetype": "text/x-python",
   "name": "python",
   "nbconvert_exporter": "python",
   "pygments_lexer": "ipython3",
   "version": "3.10.12"
  }
 },
 "nbformat": 4,
 "nbformat_minor": 2
}

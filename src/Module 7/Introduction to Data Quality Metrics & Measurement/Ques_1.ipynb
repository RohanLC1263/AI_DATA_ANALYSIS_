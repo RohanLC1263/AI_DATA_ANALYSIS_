{
 "cells": [
  {
   "cell_type": "markdown",
   "metadata": {},
   "source": [
    "## Data Quality Dashboard in Python\n",
    "\n",
    "**Description**: Create a basic dashboard using a Python library (e.g., Plotly Dash) to visualize data quality metrics for a given dataset."
   ]
  },
  {
   "cell_type": "code",
   "execution_count": 1,
   "metadata": {},
   "outputs": [
    {
     "name": "stdout",
     "output_type": "stream",
     "text": [
      "Defaulting to user installation because normal site-packages is not writeable\n",
      "Collecting dash\n",
      "  Downloading dash-3.0.4-py3-none-any.whl (7.9 MB)\n",
      "\u001b[2K     \u001b[90m━━━━━━━━━━━━━━━━━━━━━━━━━━━━━━━━━━━━━━━━\u001b[0m \u001b[32m7.9/7.9 MB\u001b[0m \u001b[31m15.8 MB/s\u001b[0m eta \u001b[36m0:00:00\u001b[0m00:01\u001b[0m00:01\u001b[0m\n",
      "\u001b[?25hRequirement already satisfied: pandas in /home/vscode/.local/lib/python3.10/site-packages (2.1.4)\n",
      "Requirement already satisfied: requests in /home/vscode/.local/lib/python3.10/site-packages (from dash) (2.32.3)\n",
      "Requirement already satisfied: typing-extensions>=4.1.1 in /home/vscode/.local/lib/python3.10/site-packages (from dash) (4.13.2)\n",
      "Collecting importlib-metadata\n",
      "  Downloading importlib_metadata-8.7.0-py3-none-any.whl (27 kB)\n",
      "Collecting Werkzeug<3.1\n",
      "  Downloading werkzeug-3.0.6-py3-none-any.whl (227 kB)\n",
      "\u001b[2K     \u001b[90m━━━━━━━━━━━━━━━━━━━━━━━━━━━━━━━━━━━━━━\u001b[0m \u001b[32m228.0/228.0 kB\u001b[0m \u001b[31m27.8 MB/s\u001b[0m eta \u001b[36m0:00:00\u001b[0m\n",
      "\u001b[?25hRequirement already satisfied: setuptools in /usr/local/lib/python3.10/site-packages (from dash) (67.8.0)\n",
      "Requirement already satisfied: plotly>=5.0.0 in /home/vscode/.local/lib/python3.10/site-packages (from dash) (6.1.1)\n",
      "Collecting retrying\n",
      "  Downloading retrying-1.3.4-py3-none-any.whl (11 kB)\n",
      "Requirement already satisfied: nest-asyncio in /home/vscode/.local/lib/python3.10/site-packages (from dash) (1.6.0)\n",
      "Collecting Flask<3.1,>=1.0.4\n",
      "  Downloading flask-3.0.3-py3-none-any.whl (101 kB)\n",
      "\u001b[2K     \u001b[90m━━━━━━━━━━━━━━━━━━━━━━━━━━━━━━━━━━━━━━\u001b[0m \u001b[32m101.7/101.7 kB\u001b[0m \u001b[31m22.5 MB/s\u001b[0m eta \u001b[36m0:00:00\u001b[0m\n",
      "\u001b[?25hRequirement already satisfied: tzdata>=2022.1 in /home/vscode/.local/lib/python3.10/site-packages (from pandas) (2025.2)\n",
      "Requirement already satisfied: python-dateutil>=2.8.2 in /home/vscode/.local/lib/python3.10/site-packages (from pandas) (2.9.0.post0)\n",
      "Requirement already satisfied: numpy<2,>=1.22.4 in /home/vscode/.local/lib/python3.10/site-packages (from pandas) (1.26.4)\n",
      "Requirement already satisfied: pytz>=2020.1 in /home/vscode/.local/lib/python3.10/site-packages (from pandas) (2025.2)\n",
      "Requirement already satisfied: Jinja2>=3.1.2 in /home/vscode/.local/lib/python3.10/site-packages (from Flask<3.1,>=1.0.4->dash) (3.1.6)\n",
      "Collecting itsdangerous>=2.1.2\n",
      "  Downloading itsdangerous-2.2.0-py3-none-any.whl (16 kB)\n",
      "Collecting click>=8.1.3\n",
      "  Downloading click-8.2.1-py3-none-any.whl (102 kB)\n",
      "\u001b[2K     \u001b[90m━━━━━━━━━━━━━━━━━━━━━━━━━━━━━━━━━━━━━━\u001b[0m \u001b[32m102.2/102.2 kB\u001b[0m \u001b[31m22.2 MB/s\u001b[0m eta \u001b[36m0:00:00\u001b[0m\n",
      "\u001b[?25hCollecting blinker>=1.6.2\n",
      "  Downloading blinker-1.9.0-py3-none-any.whl (8.5 kB)\n",
      "Requirement already satisfied: narwhals>=1.15.1 in /home/vscode/.local/lib/python3.10/site-packages (from plotly>=5.0.0->dash) (1.40.0)\n",
      "Requirement already satisfied: packaging in /home/vscode/.local/lib/python3.10/site-packages (from plotly>=5.0.0->dash) (25.0)\n",
      "Requirement already satisfied: six>=1.5 in /home/vscode/.local/lib/python3.10/site-packages (from python-dateutil>=2.8.2->pandas) (1.17.0)\n",
      "Requirement already satisfied: MarkupSafe>=2.1.1 in /home/vscode/.local/lib/python3.10/site-packages (from Werkzeug<3.1->dash) (3.0.2)\n",
      "Collecting zipp>=3.20\n",
      "  Downloading zipp-3.21.0-py3-none-any.whl (9.6 kB)\n",
      "Requirement already satisfied: certifi>=2017.4.17 in /home/vscode/.local/lib/python3.10/site-packages (from requests->dash) (2025.4.26)\n",
      "Requirement already satisfied: urllib3<3,>=1.21.1 in /home/vscode/.local/lib/python3.10/site-packages (from requests->dash) (2.4.0)\n",
      "Requirement already satisfied: idna<4,>=2.5 in /home/vscode/.local/lib/python3.10/site-packages (from requests->dash) (3.10)\n",
      "Requirement already satisfied: charset-normalizer<4,>=2 in /home/vscode/.local/lib/python3.10/site-packages (from requests->dash) (3.4.2)\n",
      "Installing collected packages: zipp, Werkzeug, retrying, itsdangerous, click, blinker, importlib-metadata, Flask, dash\n",
      "Successfully installed Flask-3.0.3 Werkzeug-3.0.6 blinker-1.9.0 click-8.2.1 dash-3.0.4 importlib-metadata-8.7.0 itsdangerous-2.2.0 retrying-1.3.4 zipp-3.21.0\n",
      "\n",
      "\u001b[1m[\u001b[0m\u001b[34;49mnotice\u001b[0m\u001b[1;39;49m]\u001b[0m\u001b[39;49m A new release of pip is available: \u001b[0m\u001b[31;49m23.0.1\u001b[0m\u001b[39;49m -> \u001b[0m\u001b[32;49m25.1.1\u001b[0m\n",
      "\u001b[1m[\u001b[0m\u001b[34;49mnotice\u001b[0m\u001b[1;39;49m]\u001b[0m\u001b[39;49m To update, run: \u001b[0m\u001b[32;49mpip install --upgrade pip\u001b[0m\n"
     ]
    }
   ],
   "source": [
    "# Write your code from here\n",
    "!pip install dash pandas\n"
   ]
  },
  {
   "cell_type": "code",
   "execution_count": 3,
   "metadata": {},
   "outputs": [
    {
     "data": {
      "text/html": [
       "\n",
       "        <iframe\n",
       "            width=\"100%\"\n",
       "            height=\"650\"\n",
       "            src=\"http://127.0.0.1:8050/\"\n",
       "            frameborder=\"0\"\n",
       "            allowfullscreen\n",
       "            \n",
       "        ></iframe>\n",
       "        "
      ],
      "text/plain": [
       "<IPython.lib.display.IFrame at 0x7e8cff19ca30>"
      ]
     },
     "metadata": {},
     "output_type": "display_data"
    }
   ],
   "source": [
    "import dash\n",
    "from dash import dcc, html\n",
    "from dash.dependencies import Input, Output\n",
    "import pandas as pd\n",
    "import plotly.express as px\n",
    "\n",
    "# Sample dataset: Replace this with loading your own dataset\n",
    "df = pd.DataFrame({\n",
    "    'Age': [25, 30, None, 45, 22],\n",
    "    'Salary': [50000, 60000, 55000, None, 48000],\n",
    "    'Department': ['HR', 'IT', 'IT', 'Finance', None]\n",
    "})\n",
    "\n",
    "# Calculate missing values per column\n",
    "missing_data = df.isnull().sum().reset_index()\n",
    "missing_data.columns = ['Column', 'Missing Values']\n",
    "\n",
    "# Data types per column\n",
    "data_types = pd.DataFrame(df.dtypes).reset_index()\n",
    "data_types.columns = ['Column', 'Data Type']\n",
    "\n",
    "# Summary statistics for numeric columns\n",
    "summary_stats = df.describe().reset_index()\n",
    "\n",
    "# Initialize Dash app\n",
    "app = dash.Dash(__name__)\n",
    "\n",
    "app.layout = html.Div([\n",
    "    html.H1(\"Data Quality Dashboard\", style={'textAlign': 'center'}),\n",
    "    \n",
    "    html.H2(\"Missing Values by Column\"),\n",
    "    dcc.Graph(\n",
    "        id='missing-values-bar',\n",
    "        figure=px.bar(missing_data, x='Column', y='Missing Values', \n",
    "                      title=\"Missing Values per Column\",\n",
    "                      text='Missing Values')\n",
    "    ),\n",
    "    \n",
    "    html.H2(\"Data Types\"),\n",
    "    html.Table([\n",
    "        html.Thead([\n",
    "            html.Tr([html.Th(col) for col in data_types.columns])\n",
    "        ]),\n",
    "        html.Tbody([\n",
    "            html.Tr([\n",
    "                html.Td(data_types.iloc[i][col]) for col in data_types.columns\n",
    "            ]) for i in range(len(data_types))\n",
    "        ])\n",
    "    ], style={'width': '50%', 'margin': 'auto', 'border': '1px solid black', 'borderCollapse': 'collapse'}),\n",
    "    \n",
    "    html.H2(\"Summary Statistics (Numerical Columns)\"),\n",
    "    html.Table([\n",
    "        html.Thead([\n",
    "            html.Tr([html.Th(col) for col in summary_stats.columns])\n",
    "        ]),\n",
    "        html.Tbody([\n",
    "            html.Tr([\n",
    "                html.Td(summary_stats.iloc[i][col]) for col in summary_stats.columns\n",
    "            ]) for i in range(len(summary_stats))\n",
    "        ])\n",
    "    ], style={'width': '80%', 'margin': 'auto', 'border': '1px solid black', 'borderCollapse': 'collapse'})\n",
    "])\n",
    "\n",
    "if __name__ == '__main__':\n",
    "    app.run(debug=True)\n"
   ]
  }
 ],
 "metadata": {
  "kernelspec": {
   "display_name": "Python 3",
   "language": "python",
   "name": "python3"
  },
  "language_info": {
   "codemirror_mode": {
    "name": "ipython",
    "version": 3
   },
   "file_extension": ".py",
   "mimetype": "text/x-python",
   "name": "python",
   "nbconvert_exporter": "python",
   "pygments_lexer": "ipython3",
   "version": "3.10.12"
  }
 },
 "nbformat": 4,
 "nbformat_minor": 2
}

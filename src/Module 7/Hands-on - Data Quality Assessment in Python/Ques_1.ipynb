{
 "cells": [
  {
   "cell_type": "markdown",
   "metadata": {},
   "source": [
    "**Task 1**: Checking Null Values for Completeness\n",
    "\n",
    "**Description**: Verify if there are any null values in a dataset, which indicate incomplete data."
   ]
  },
  {
   "cell_type": "code",
   "execution_count": 11,
   "metadata": {},
   "outputs": [
    {
     "name": "stdout",
     "output_type": "stream",
     "text": [
      "Null Values: {'name': 1, 'age': 1, 'email': 1}\n"
     ]
    }
   ],
   "source": [
    "import pandas as pd\n",
    "\n",
    "def check_null_values(df):\n",
    "    \"\"\"\n",
    "    Returns columns with their respective count of null values.\n",
    "    \n",
    "    Parameters:\n",
    "    - df: pandas DataFrame\n",
    "\n",
    "    Returns:\n",
    "    - Dictionary of column names with the number of nulls\n",
    "    \"\"\"\n",
    "    null_counts = df.isnull().sum()\n",
    "    return null_counts[null_counts > 0].to_dict()\n",
    "\n",
    "\n",
    "# Example usage\n",
    "data = {\n",
    "    'name': ['Alice', 'Bob', None],\n",
    "    'age': [25, None, 30],\n",
    "    'email': ['a@example.com', 'b@example.com', None]\n",
    "}\n",
    "df = pd.DataFrame(data)\n",
    "nulls = check_null_values(df)\n",
    "print(\"Null Values:\", nulls)"
   ]
  },
  {
   "cell_type": "markdown",
   "metadata": {},
   "source": [
    "**Task 2**: Checking Data Type Validity\n",
    "\n",
    "**Description**: Ensure that columns contain data of expected types, e.g., ages are integers."
   ]
  },
  {
   "cell_type": "code",
   "execution_count": 12,
   "metadata": {},
   "outputs": [
    {
     "name": "stdout",
     "output_type": "stream",
     "text": [
      "Type Mismatches: {'age': 3, 'name': 1}\n"
     ]
    }
   ],
   "source": [
    "# Write your code from here\n",
    "def check_data_types(df, expected_types):\n",
    "    \"\"\"\n",
    "    Checks if the columns in df match the expected data types.\n",
    "\n",
    "    Parameters:\n",
    "    - df: pandas DataFrame\n",
    "    - expected_types: dictionary with column names and expected types (e.g., {'age': int})\n",
    "\n",
    "    Returns:\n",
    "    - Dictionary with columns that don't match the expected type\n",
    "    \"\"\"\n",
    "    mismatches = {}\n",
    "\n",
    "    for col, expected_type in expected_types.items():\n",
    "        if col in df.columns:\n",
    "            # Use apply to check type of each entry\n",
    "            invalid_entries = df[~df[col].apply(lambda x: isinstance(x, expected_type))]\n",
    "            if not invalid_entries.empty:\n",
    "                mismatches[col] = len(invalid_entries)\n",
    "\n",
    "    return mismatches\n",
    "\n",
    "\n",
    "# Example usage\n",
    "expected_types = {'age': int, 'name': str}\n",
    "type_issues = check_data_types(df, expected_types)\n",
    "print(\"Type Mismatches:\", type_issues)"
   ]
  },
  {
   "cell_type": "markdown",
   "metadata": {},
   "source": [
    "**Task 3**: Verify Uniqueness of Identifiers\n",
    "\n",
    "**Description**: Check if a dataset has unique identifiers (e.g., emails)."
   ]
  },
  {
   "cell_type": "code",
   "execution_count": 13,
   "metadata": {},
   "outputs": [
    {
     "name": "stdout",
     "output_type": "stream",
     "text": [
      "Are emails unique? False\n",
      "Duplicate Emails: ['a@example.com', 'a@example.com']\n"
     ]
    }
   ],
   "source": [
    "# Write your code from here\n",
    "import pandas as pd\n",
    "\n",
    "def check_unique_identifiers(df, id_column):\n",
    "    \"\"\"\n",
    "    Check if the values in the specified identifier column are unique.\n",
    "\n",
    "    Parameters:\n",
    "    - df: pandas DataFrame\n",
    "    - id_column: name of the column to check for uniqueness\n",
    "\n",
    "    Returns:\n",
    "    - Boolean indicating if identifiers are unique\n",
    "    - List of duplicate values (if any)\n",
    "    \"\"\"\n",
    "    duplicates = df[df.duplicated(subset=id_column, keep=False)]\n",
    "    return duplicates.empty, duplicates[id_column].tolist()\n",
    "\n",
    "\n",
    "# Example usage\n",
    "data = {\n",
    "    'email': ['a@example.com', 'b@example.com', 'a@example.com'],\n",
    "    'name': ['Alice', 'Bob', 'Alice']\n",
    "}\n",
    "df = pd.DataFrame(data)\n",
    "is_unique, duplicates = check_unique_identifiers(df, 'email')\n",
    "print(\"Are emails unique?\", is_unique)\n",
    "print(\"Duplicate Emails:\", duplicates)"
   ]
  },
  {
   "cell_type": "markdown",
   "metadata": {},
   "source": [
    "Task 4: Validate Email Format Using Regex\n",
    "\n",
    "Description: Validate if email addresses in a dataset have the correct format."
   ]
  },
  {
   "cell_type": "code",
   "execution_count": 14,
   "metadata": {},
   "outputs": [
    {
     "name": "stdout",
     "output_type": "stream",
     "text": [
      "Invalid Emails: []\n"
     ]
    }
   ],
   "source": [
    "# Write your code from here\n",
    "import re\n",
    "\n",
    "def validate_email_format(df, email_column):\n",
    "    \"\"\"\n",
    "    Validates email format using regex.\n",
    "\n",
    "    Parameters:\n",
    "    - df: pandas DataFrame\n",
    "    - email_column: column name containing email addresses\n",
    "\n",
    "    Returns:\n",
    "    - List of invalid emails\n",
    "    \"\"\"\n",
    "    email_pattern = r'^[a-zA-Z0-9._%+-]+@[a-zA-Z0-9.-]+\\.[a-zA-Z]{2,}$'\n",
    "    \n",
    "    invalid_emails = df[~df[email_column].astype(str).str.match(email_pattern)]\n",
    "    return invalid_emails[email_column].tolist()\n",
    "\n",
    "\n",
    "# Example usage\n",
    "invalids = validate_email_format(df, 'email')\n",
    "print(\"Invalid Emails:\", invalids)"
   ]
  },
  {
   "cell_type": "markdown",
   "metadata": {},
   "source": [
    "Task 5: Check for Logical Age Validity\n",
    "\n",
    "Description: Ensure ages are within a reasonable human range (e.g., 0-120)."
   ]
  },
  {
   "cell_type": "code",
   "execution_count": 15,
   "metadata": {},
   "outputs": [
    {
     "name": "stdout",
     "output_type": "stream",
     "text": [
      "Invalid Ages: [135, -5]\n"
     ]
    }
   ],
   "source": [
    "# Write your code from here\n",
    "def check_logical_age_range(df, age_column, min_age=0, max_age=120):\n",
    "    \"\"\"\n",
    "    Check if ages fall within a reasonable human range.\n",
    "\n",
    "    Parameters:\n",
    "    - df: pandas DataFrame\n",
    "    - age_column: column name for age\n",
    "    - min_age: minimum valid age\n",
    "    - max_age: maximum valid age\n",
    "\n",
    "    Returns:\n",
    "    - List of invalid age entries\n",
    "    \"\"\"\n",
    "    invalid_ages = df[(df[age_column] < min_age) | (df[age_column] > max_age)]\n",
    "    return invalid_ages[age_column].tolist()\n",
    "\n",
    "\n",
    "# Example usage\n",
    "import pandas as pd\n",
    "\n",
    "data = {\n",
    "    'name': ['Alice', 'Bob', 'Charlie'],\n",
    "    'age': [25, 135, -5]\n",
    "}\n",
    "df = pd.DataFrame(data)\n",
    "\n",
    "invalid_ages = check_logical_age_range(df, 'age')\n",
    "print(\"Invalid Ages:\", invalid_ages)"
   ]
  },
  {
   "cell_type": "markdown",
   "metadata": {},
   "source": [
    "Task 6: Identify and Handle Missing Data\n",
    "\n",
    "Description: Identify missing values in a dataset and impute them using a simple strategy (e.g., mean)."
   ]
  },
  {
   "cell_type": "code",
   "execution_count": 16,
   "metadata": {},
   "outputs": [
    {
     "name": "stdout",
     "output_type": "stream",
     "text": [
      "Before Imputation:\n",
      "       name   age\n",
      "0    Alice  25.0\n",
      "1      Bob   NaN\n",
      "2  Charlie  40.0\n",
      "After Imputation:\n",
      "       name   age\n",
      "0    Alice  25.0\n",
      "1      Bob  32.5\n",
      "2  Charlie  40.0\n"
     ]
    }
   ],
   "source": [
    "\n",
    "def impute_missing_with_mean(df, column_name):\n",
    "    \"\"\"\n",
    "    Imputes missing values in a specified column using the mean.\n",
    "\n",
    "    Parameters:\n",
    "    - df: pandas DataFrame\n",
    "    - column_name: name of the column to impute\n",
    "\n",
    "    Returns:\n",
    "    - Updated DataFrame with imputed values\n",
    "    \"\"\"\n",
    "    if df[column_name].isnull().any():\n",
    "        mean_value = df[column_name].mean()\n",
    "        df[column_name].fillna(mean_value, inplace=True)\n",
    "    return df\n",
    "\n",
    "\n",
    "# Example usage\n",
    "df_with_nan = pd.DataFrame({\n",
    "    'name': ['Alice', 'Bob', 'Charlie'],\n",
    "    'age': [25, None, 40]\n",
    "})\n",
    "\n",
    "print(\"Before Imputation:\\n\", df_with_nan)\n",
    "df_imputed = impute_missing_with_mean(df_with_nan, 'age')\n",
    "print(\"After Imputation:\\n\", df_imputed)"
   ]
  },
  {
   "cell_type": "markdown",
   "metadata": {},
   "source": [
    "Task 7: Detect Duplicates\n",
    "\n",
    "Description: Detect duplicate rows in the dataset."
   ]
  },
  {
   "cell_type": "code",
   "execution_count": 17,
   "metadata": {},
   "outputs": [
    {
     "name": "stdout",
     "output_type": "stream",
     "text": [
      "Duplicate Rows:\n",
      "     name  age\n",
      "0  Alice   25\n",
      "2  Alice   25\n"
     ]
    }
   ],
   "source": [
    "# Write your code from here\n",
    "import pandas as pd\n",
    "\n",
    "def detect_duplicates(df):\n",
    "    \"\"\"\n",
    "    Detects duplicate rows in the DataFrame.\n",
    "\n",
    "    Parameters:\n",
    "    - df: pandas DataFrame\n",
    "\n",
    "    Returns:\n",
    "    - DataFrame containing duplicate rows (if any)\n",
    "    \"\"\"\n",
    "    duplicates = df[df.duplicated(keep=False)]\n",
    "    return duplicates\n",
    "\n",
    "\n",
    "# Example usage\n",
    "data = {\n",
    "    'name': ['Alice', 'Bob', 'Alice'],\n",
    "    'age': [25, 30, 25]\n",
    "}\n",
    "df = pd.DataFrame(data)\n",
    "\n",
    "duplicate_rows = detect_duplicates(df)\n",
    "print(\"Duplicate Rows:\\n\", duplicate_rows)"
   ]
  },
  {
   "cell_type": "markdown",
   "metadata": {},
   "source": [
    "Task 8: Validate Correctness of Numerical Values\n",
    "\n",
    "Description: Ensure numerical columns are within a specified range."
   ]
  },
  {
   "cell_type": "code",
   "execution_count": 18,
   "metadata": {},
   "outputs": [
    {
     "name": "stdout",
     "output_type": "stream",
     "text": [
      "Invalid Numerical Values: [105, -3]\n"
     ]
    }
   ],
   "source": [
    "# Write your code from here\n",
    "def validate_numerical_range(df, column, min_value, max_value):\n",
    "    \"\"\"\n",
    "    Checks if numerical values fall within a specified range.\n",
    "\n",
    "    Parameters:\n",
    "    - df: pandas DataFrame\n",
    "    - column: column name to validate\n",
    "    - min_value: minimum valid value\n",
    "    - max_value: maximum valid value\n",
    "\n",
    "    Returns:\n",
    "    - List of out-of-range values\n",
    "    \"\"\"\n",
    "    out_of_range = df[(df[column] < min_value) | (df[column] > max_value)]\n",
    "    return out_of_range[column].tolist()\n",
    "\n",
    "\n",
    "# Example usage\n",
    "df = pd.DataFrame({\n",
    "    'temperature': [22, 105, -3, 37]\n",
    "})\n",
    "\n",
    "invalid_values = validate_numerical_range(df, 'temperature', 0, 100)\n",
    "print(\"Invalid Numerical Values:\", invalid_values)"
   ]
  },
  {
   "cell_type": "markdown",
   "metadata": {},
   "source": [
    "Task 9: Custom Completeness Rule Violation Report\n",
    "\n",
    "Description: Create a report showing which rows violate specific completeness rules, such as mandatory fields being empty."
   ]
  },
  {
   "cell_type": "code",
   "execution_count": 19,
   "metadata": {},
   "outputs": [
    {
     "name": "stdout",
     "output_type": "stream",
     "text": [
      "Completeness Violations:\n",
      "    name          email   age\n",
      "1   Bob           None  30.0\n",
      "2  None  c@example.com   NaN\n"
     ]
    }
   ],
   "source": [
    "# Write your code from here\n",
    "import pandas as pd\n",
    "\n",
    "def completeness_violation_report(df, mandatory_fields):\n",
    "    \"\"\"\n",
    "    Generate a report of rows violating completeness rules (i.e., missing mandatory fields).\n",
    "\n",
    "    Parameters:\n",
    "    - df: pandas DataFrame\n",
    "    - mandatory_fields: list of field names that must not be null or empty\n",
    "\n",
    "    Returns:\n",
    "    - DataFrame containing rows with missing mandatory field values\n",
    "    \"\"\"\n",
    "    violations = df[df[mandatory_fields].isnull().any(axis=1)]\n",
    "    return violations\n",
    "\n",
    "\n",
    "# Example usage\n",
    "data = {\n",
    "    'name': ['Alice', 'Bob', None],\n",
    "    'email': ['a@example.com', None, 'c@example.com'],\n",
    "    'age': [25, 30, None]\n",
    "}\n",
    "df = pd.DataFrame(data)\n",
    "\n",
    "mandatory_fields = ['name', 'email']\n",
    "violation_df = completeness_violation_report(df, mandatory_fields)\n",
    "print(\"Completeness Violations:\\n\", violation_df)"
   ]
  },
  {
   "cell_type": "markdown",
   "metadata": {},
   "source": [
    "Task 10: Advanced Regex for Data Validity Check\n",
    "\n",
    "Description: Check for validity with advanced regex patterns, such as validating complex fields with multi-level rules."
   ]
  },
  {
   "cell_type": "code",
   "execution_count": 20,
   "metadata": {},
   "outputs": [
    {
     "name": "stdout",
     "output_type": "stream",
     "text": [
      "Invalid Passwords: ['abc123', '12345678', 'weakPass']\n"
     ]
    }
   ],
   "source": [
    "# Write your code from here\n",
    "import re\n",
    "\n",
    "def validate_advanced_regex(df, column, pattern):\n",
    "    \"\"\"\n",
    "    Validate entries in a column using an advanced regex pattern.\n",
    "\n",
    "    Parameters:\n",
    "    - df: pandas DataFrame\n",
    "    - column: column to validate\n",
    "    - pattern: regex pattern string\n",
    "\n",
    "    Returns:\n",
    "    - List of invalid values\n",
    "    \"\"\"\n",
    "    invalid_entries = df[~df[column].astype(str).str.match(pattern, na=False)]\n",
    "    return invalid_entries[column].tolist()\n",
    "\n",
    "\n",
    "# Example usage: Validate strong password format (at least 1 uppercase, 1 lowercase, 1 number, 8+ characters)\n",
    "df = pd.DataFrame({\n",
    "    'password': ['abc123', 'Secure1Password', '12345678', 'weakPass', 'Strong@2024']\n",
    "})\n",
    "\n",
    "regex_pattern = r'^(?=.*[a-z])(?=.*[A-Z])(?=.*\\d).{8,}$'\n",
    "invalid_passwords = validate_advanced_regex(df, 'password', regex_pattern)\n",
    "print(\"Invalid Passwords:\", invalid_passwords)"
   ]
  },
  {
   "cell_type": "code",
   "execution_count": 25,
   "metadata": {},
   "outputs": [
    {
     "name": "stdout",
     "output_type": "stream",
     "text": [
      "   user_id     name    age              email     password         income\n",
      "0      101    Alice   25.0  alice@example.com  Password123        55000.0\n",
      "1      102      Bob   17.0    bob#example.com         pass  not available\n",
      "2      103  Charlie  130.0   charlie@mail.com     Secret12        72000.5\n",
      "3      104     None   45.0        dave@domain     12345678        48000.0\n",
      "4      105      Eve    NaN    eve@example.com         None        51000.0\n",
      "5      103  Charlie  130.0   charlie@mail.com     Secret12        72000.5\n"
     ]
    }
   ],
   "source": [
    "import pandas as pd\n",
    "\n",
    "# Create sample dataset\n",
    "data = {\n",
    "    'user_id': [101, 102, 103, 104, 105, 103],  # 103 is duplicated\n",
    "    'name': ['Alice', 'Bob', 'Charlie', None, 'Eve', 'Charlie'],  # Missing name\n",
    "    'age': [25, 17, 130, 45, None, 130],  # 130 is out of range, None is missing\n",
    "    'email': ['alice@example.com', 'bob#example.com', 'charlie@mail.com',\n",
    "              'dave@domain', 'eve@example.com', 'charlie@mail.com'],  # Invalid emails\n",
    "    'password': ['Password123', 'pass', 'Secret12', '12345678', None, 'Secret12'],  # Invalid/missing passwords\n",
    "    'income': [55000.0, 'not available', 72000.5, 48000.0, 51000.0, 72000.5]  # Data type issue\n",
    "}\n",
    "\n",
    "sample_df = pd.DataFrame(data)\n",
    "\n",
    "# Show the DataFrame\n",
    "print(sample_df)\n"
   ]
  },
  {
   "cell_type": "code",
   "execution_count": 26,
   "metadata": {},
   "outputs": [
    {
     "name": "stdout",
     "output_type": "stream",
     "text": [
      "1. Null Values: {'name': 1, 'age': 1}\n",
      "2. Data Type Mismatches: {'age': 3, 'name': 1}\n",
      "3. Unique Emails Check: (True, [])\n",
      "4. Invalid Emails: ['bademail@']\n",
      "5. Illogical Ages: [135.0]\n",
      "6. Imputed Age Column:\n",
      "     name    age          email         password\n",
      "0  Alice   25.0  a@example.com           abc123\n",
      "1    Bob   80.0  b@example.com  Secure1Password\n",
      "2   None  135.0      bademail@         12345678\n",
      "7. Duplicate Rows:\n",
      " Empty DataFrame\n",
      "Columns: [name, age, email, password]\n",
      "Index: []\n",
      "8. Out-of-Range Ages: [135.0]\n",
      "9. Completeness Violations:\n",
      "    name    age      email  password\n",
      "2  None  135.0  bademail@  12345678\n",
      "10. Invalid Passwords: ['abc123', '12345678']\n"
     ]
    }
   ],
   "source": [
    "import pandas as pd\n",
    "import re\n",
    "\n",
    "class DataValidator:\n",
    "    def __init__(self, df):\n",
    "        if not isinstance(df, pd.DataFrame):\n",
    "            raise ValueError(\"Input must be a pandas DataFrame.\")\n",
    "        self.df = df\n",
    "\n",
    "    def check_null_values(self):\n",
    "        \"\"\"Task 1: Returns dictionary of columns with count of null values.\"\"\"\n",
    "        null_counts = self.df.isnull().sum()\n",
    "        return null_counts[null_counts > 0].to_dict()\n",
    "\n",
    "    def check_data_types(self, expected_types):\n",
    "        \"\"\"Task 2: Returns columns that don't match expected data types.\"\"\"\n",
    "        mismatches = {}\n",
    "        for col, expected_type in expected_types.items():\n",
    "            if col in self.df.columns:\n",
    "                invalid_entries = self.df[~self.df[col].apply(lambda x: isinstance(x, expected_type))]\n",
    "                if not invalid_entries.empty:\n",
    "                    mismatches[col] = len(invalid_entries)\n",
    "        return mismatches\n",
    "\n",
    "    def check_unique_identifiers(self, id_column):\n",
    "        \"\"\"Task 3: Returns (is_unique, list of duplicates) for an ID column.\"\"\"\n",
    "        if id_column not in self.df.columns:\n",
    "            raise KeyError(f\"'{id_column}' not found in DataFrame\")\n",
    "        duplicates = self.df[self.df.duplicated(subset=id_column, keep=False)]\n",
    "        return duplicates.empty, duplicates[id_column].tolist()\n",
    "\n",
    "    def validate_email_format(self, email_column):\n",
    "        \"\"\"Task 4: Returns list of invalid email addresses.\"\"\"\n",
    "        if email_column not in self.df.columns:\n",
    "            raise KeyError(f\"'{email_column}' not found in DataFrame\")\n",
    "        email_pattern = r'^[a-zA-Z0-9._%+-]+@[a-zA-Z0-9.-]+\\.[a-zA-Z]{2,}$'\n",
    "        invalids = self.df[~self.df[email_column].astype(str).str.match(email_pattern, na=False)]\n",
    "        return invalids[email_column].tolist()\n",
    "\n",
    "    def check_logical_age_range(self, age_column, min_age=0, max_age=120):\n",
    "        \"\"\"Task 5: Returns list of ages not in logical range (0–120).\"\"\"\n",
    "        if age_column not in self.df.columns:\n",
    "            raise KeyError(f\"'{age_column}' not found in DataFrame\")\n",
    "        invalid = self.df[(self.df[age_column] < min_age) | (self.df[age_column] > max_age)]\n",
    "        return invalid[age_column].tolist()\n",
    "\n",
    "    def impute_missing_with_mean(self, column_name):\n",
    "        \"\"\"Task 6: Fills missing values in a numeric column with the mean.\"\"\"\n",
    "        if column_name not in self.df.columns:\n",
    "            raise KeyError(f\"'{column_name}' not found in DataFrame\")\n",
    "        if self.df[column_name].isnull().any():\n",
    "            mean_val = self.df[column_name].mean()\n",
    "            self.df[column_name].fillna(mean_val, inplace=True)\n",
    "        return self.df\n",
    "\n",
    "    def detect_duplicates(self):\n",
    "        \"\"\"Task 7: Returns DataFrame of duplicate rows.\"\"\"\n",
    "        return self.df[self.df.duplicated(keep=False)]\n",
    "\n",
    "    def validate_numerical_range(self, column, min_value, max_value):\n",
    "        \"\"\"Task 8: Returns list of numerical values outside given range.\"\"\"\n",
    "        if column not in self.df.columns:\n",
    "            raise KeyError(f\"'{column}' not found in DataFrame\")\n",
    "        invalid = self.df[(self.df[column] < min_value) | (self.df[column] > max_value)]\n",
    "        return invalid[column].tolist()\n",
    "\n",
    "    def completeness_violation_report(self, mandatory_fields):\n",
    "        \"\"\"Task 9: Returns rows with nulls in any of the mandatory fields.\"\"\"\n",
    "        missing_fields = [f for f in mandatory_fields if f not in self.df.columns]\n",
    "        if missing_fields:\n",
    "            raise KeyError(f\"Missing columns in DataFrame: {missing_fields}\")\n",
    "        return self.df[self.df[mandatory_fields].isnull().any(axis=1)]\n",
    "\n",
    "    def validate_advanced_regex(self, column, pattern):\n",
    "        \"\"\"Task 10: Returns list of values not matching an advanced regex pattern.\"\"\"\n",
    "        if column not in self.df.columns:\n",
    "            raise KeyError(f\"'{column}' not found in DataFrame\")\n",
    "        invalid = self.df[~self.df[column].astype(str).str.match(pattern, na=False)]\n",
    "        return invalid[column].tolist()\n",
    "\n",
    "# =============================\n",
    "# 📌 Example usage and testing\n",
    "# =============================\n",
    "\n",
    "if __name__ == \"__main__\":\n",
    "    # Sample DataFrame\n",
    "    data = {\n",
    "        'name': ['Alice', 'Bob', None],\n",
    "        'age': [25, None, 135],\n",
    "        'email': ['a@example.com', 'b@example.com', 'bademail@'],\n",
    "        'password': ['abc123', 'Secure1Password', '12345678']\n",
    "    }\n",
    "    df = pd.DataFrame(data)\n",
    "\n",
    "    # Initialize validator\n",
    "    validator = DataValidator(df)\n",
    "\n",
    "    # Task-wise example outputs\n",
    "    print(\"1. Null Values:\", validator.check_null_values())\n",
    "    print(\"2. Data Type Mismatches:\", validator.check_data_types({'age': int, 'name': str}))\n",
    "    print(\"3. Unique Emails Check:\", validator.check_unique_identifiers('email'))\n",
    "    print(\"4. Invalid Emails:\", validator.validate_email_format('email'))\n",
    "    print(\"5. Illogical Ages:\", validator.check_logical_age_range('age'))\n",
    "    print(\"6. Imputed Age Column:\\n\", validator.impute_missing_with_mean('age'))\n",
    "    print(\"7. Duplicate Rows:\\n\", validator.detect_duplicates())\n",
    "    print(\"8. Out-of-Range Ages:\", validator.validate_numerical_range('age', 0, 120))\n",
    "    print(\"9. Completeness Violations:\\n\", validator.completeness_violation_report(['name', 'email']))\n",
    "    print(\"10. Invalid Passwords:\", validator.validate_advanced_regex(\n",
    "        'password', r'^(?=.*[a-z])(?=.*[A-Z])(?=.*\\d).{8,}$'\n",
    "    ))\n"
   ]
  }
 ],
 "metadata": {
  "kernelspec": {
   "display_name": "Python 3",
   "language": "python",
   "name": "python3"
  },
  "language_info": {
   "codemirror_mode": {
    "name": "ipython",
    "version": 3
   },
   "file_extension": ".py",
   "mimetype": "text/x-python",
   "name": "python",
   "nbconvert_exporter": "python",
   "pygments_lexer": "ipython3",
   "version": "3.10.12"
  }
 },
 "nbformat": 4,
 "nbformat_minor": 2
}

{
 "cells": [
  {
   "cell_type": "markdown",
   "metadata": {},
   "source": [
    "## Architecture to Monitor Data Quality Over Time\n",
    "\n",
    "**Description**: Design a monitoring system in Python that checks and logs data quality metrics (accuracy, completeness) for a dataset over time.\n",
    "\n",
    "**Steps to follow:**\n",
    "1. Implement a Scheduled Script:\n",
    "    - Use schedule library to periodically run a script.\n",
    "2. Script to Calculate Metrics:\n",
    "    - For simplicity, use a function calculate_quality_metrics() that calculates and logs metrics such as missing rate or mismatch rate.\n",
    "3. Store Logs:\n",
    "    - Use Python's logging library to save these metrics over time."
   ]
  },
  {
   "cell_type": "code",
   "execution_count": 1,
   "metadata": {},
   "outputs": [
    {
     "name": "stdout",
     "output_type": "stream",
     "text": [
      "Defaulting to user installation because normal site-packages is not writeable\n",
      "Collecting schedule\n",
      "  Downloading schedule-1.2.2-py3-none-any.whl (12 kB)\n",
      "Installing collected packages: schedule\n",
      "Successfully installed schedule-1.2.2\n",
      "\n",
      "\u001b[1m[\u001b[0m\u001b[34;49mnotice\u001b[0m\u001b[1;39;49m]\u001b[0m\u001b[39;49m A new release of pip is available: \u001b[0m\u001b[31;49m23.0.1\u001b[0m\u001b[39;49m -> \u001b[0m\u001b[32;49m25.1.1\u001b[0m\n",
      "\u001b[1m[\u001b[0m\u001b[34;49mnotice\u001b[0m\u001b[1;39;49m]\u001b[0m\u001b[39;49m To update, run: \u001b[0m\u001b[32;49mpip install --upgrade pip\u001b[0m\n"
     ]
    }
   ],
   "source": [
    "# Write your code from here\n",
    "! pip install schedule\n"
   ]
  },
  {
   "cell_type": "code",
   "execution_count": null,
   "metadata": {},
   "outputs": [
    {
     "name": "stdout",
     "output_type": "stream",
     "text": [
      "📊 Starting data quality monitor... (press Ctrl+C to stop)\n",
      "[16:16:07] ✅ Data quality metrics logged.\n",
      "[16:17:07] ✅ Data quality metrics logged.\n",
      "[16:18:07] ✅ Data quality metrics logged.\n"
     ]
    }
   ],
   "source": [
    "import pandas as pd\n",
    "import numpy as np\n",
    "import logging\n",
    "import schedule\n",
    "import time\n",
    "from datetime import datetime\n",
    "\n",
    "# Step 1: Setup Logging\n",
    "logging.basicConfig(\n",
    "    filename=\"data_quality_monitor.log\",\n",
    "    level=logging.INFO,\n",
    "    format=\"%(asctime)s - %(levelname)s - %(message)s\"\n",
    ")\n",
    "\n",
    "# Step 2: Simulated Dataset Loader\n",
    "def load_data():\n",
    "    # Simulate changing dataset (for demonstration purposes)\n",
    "    data = {\n",
    "        \"transaction_id\": [f\"T{i}\" if i % 7 != 0 else np.nan for i in range(1, 21)],\n",
    "        \"amount\": [np.random.uniform(10, 500) if i % 8 != 0 else np.nan for i in range(1, 21)],\n",
    "        \"date\": [f\"2024-09-{(i % 30) + 1:02d}\" if i % 6 != 0 else np.nan for i in range(1, 21)],\n",
    "        \"price_verified\": [True if i % 4 != 0 else False for i in range(1, 21)],\n",
    "    }\n",
    "    return pd.DataFrame(data)\n",
    "\n",
    "# Step 3: Quality Metrics Calculator\n",
    "def calculate_quality_metrics():\n",
    "    df = load_data()\n",
    "\n",
    "    total_rows = len(df)\n",
    "    missing_transaction_id = df['transaction_id'].isnull().sum()\n",
    "    missing_amount = df['amount'].isnull().sum()\n",
    "    missing_date = df['date'].isnull().sum()\n",
    "\n",
    "    completeness_transaction_id = 100 * (1 - missing_transaction_id / total_rows)\n",
    "    completeness_amount = 100 * (1 - missing_amount / total_rows)\n",
    "    completeness_date = 100 * (1 - missing_date / total_rows)\n",
    "\n",
    "    accuracy_verified = df['price_verified'].mean() * 100\n",
    "\n",
    "    log_message = (\n",
    "        f\"Completeness - Transaction ID: {completeness_transaction_id:.2f}%, \"\n",
    "        f\"Amount: {completeness_amount:.2f}%, Date: {completeness_date:.2f}%. \"\n",
    "        f\"Accuracy - Price Verified: {accuracy_verified:.2f}%\"\n",
    "    )\n",
    "\n",
    "    logging.info(log_message)\n",
    "    print(f\"[{datetime.now().strftime('%H:%M:%S')}] ✅ Data quality metrics logged.\")\n",
    "\n",
    "# Step 4: Schedule to Run Every 1 Minute (adjustable)\n",
    "schedule.every(1).minutes.do(calculate_quality_metrics)\n",
    "\n",
    "# Step 5: Run the Scheduler\n",
    "print(\"📊 Starting data quality monitor... (press Ctrl+C to stop)\")\n",
    "try:\n",
    "    while True:\n",
    "        schedule.run_pending()\n",
    "        time.sleep(1)\n",
    "except KeyboardInterrupt:\n",
    "    print(\"\\n🛑 Stopped monitoring.\")\n"
   ]
  }
 ],
 "metadata": {
  "kernelspec": {
   "display_name": "Python 3",
   "language": "python",
   "name": "python3"
  },
  "language_info": {
   "codemirror_mode": {
    "name": "ipython",
    "version": 3
   },
   "file_extension": ".py",
   "mimetype": "text/x-python",
   "name": "python",
   "nbconvert_exporter": "python",
   "pygments_lexer": "ipython3",
   "version": "3.10.12"
  }
 },
 "nbformat": 4,
 "nbformat_minor": 2
}

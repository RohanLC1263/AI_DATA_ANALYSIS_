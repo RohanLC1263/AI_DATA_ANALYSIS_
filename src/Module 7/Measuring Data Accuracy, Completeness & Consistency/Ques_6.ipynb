{
 "cells": [
  {
   "cell_type": "markdown",
   "metadata": {},
   "source": [
    "## Architecture to Monitor Data Quality Over Time\n",
    "\n",
    "**Description**: Design a monitoring system in Python that checks and logs data quality metrics (accuracy, completeness) for a dataset over time.\n",
    "\n",
    "**Steps to follow:**\n",
    "1. Implement a Scheduled Script:\n",
    "    - Use schedule library to periodically run a script.\n",
    "2. Script to Calculate Metrics:\n",
    "    - For simplicity, use a function calculate_quality_metrics() that calculates and logs metrics such as missing rate or mismatch rate.\n",
    "3. Store Logs:\n",
    "    - Use Python's logging library to save these metrics over time."
   ]
  },
  {
   "cell_type": "code",
   "execution_count": 1,
   "metadata": {},
   "outputs": [
    {
     "name": "stdout",
     "output_type": "stream",
     "text": [
      "Defaulting to user installation because normal site-packages is not writeable\n",
      "Collecting schedule\n",
      "  Downloading schedule-1.2.2-py3-none-any.whl (12 kB)\n",
      "Installing collected packages: schedule\n",
      "Successfully installed schedule-1.2.2\n",
      "\n",
      "\u001b[1m[\u001b[0m\u001b[34;49mnotice\u001b[0m\u001b[1;39;49m]\u001b[0m\u001b[39;49m A new release of pip is available: \u001b[0m\u001b[31;49m23.0.1\u001b[0m\u001b[39;49m -> \u001b[0m\u001b[32;49m25.1.1\u001b[0m\n",
      "\u001b[1m[\u001b[0m\u001b[34;49mnotice\u001b[0m\u001b[1;39;49m]\u001b[0m\u001b[39;49m To update, run: \u001b[0m\u001b[32;49mpip install --upgrade pip\u001b[0m\n"
     ]
    }
   ],
   "source": [
    "# Write your code from here\n",
    "! pip install schedule\n"
   ]
  },
  {
   "cell_type": "code",
   "execution_count": null,
   "metadata": {},
   "outputs": [
    {
     "name": "stdout",
     "output_type": "stream",
     "text": [
      "Logged metrics: {'missing_rate': 0.5}\n"
     ]
    }
   ],
   "source": [
    "import schedule\n",
    "import time\n",
    "import threading\n",
    "import logging\n",
    "\n",
    "# Setup logging to file with timestamp and message\n",
    "logging.basicConfig(\n",
    "    filename='data_quality.log',\n",
    "    level=logging.INFO,\n",
    "    format='%(asctime)s - %(message)s'\n",
    ")\n",
    "\n",
    "# Sample dataset (replace with real data source)\n",
    "sample_data = [\n",
    "    {'id': 1, 'value': 10},\n",
    "    {'id': 2, 'value': None},\n",
    "    {'id': 3, 'value': 15},\n",
    "    {'id': 4, 'value': None},\n",
    "]\n",
    "\n",
    "def calculate_quality_metrics(data):\n",
    "    \"\"\"\n",
    "    Calculate data quality metrics such as missing rate for 'value' field.\n",
    "    Returns a dictionary of metrics.\n",
    "    \"\"\"\n",
    "    total = len(data)\n",
    "    missing = sum(1 for d in data if d['value'] is None)\n",
    "    missing_rate = missing / total if total > 0 else 0\n",
    "    \n",
    "    # Log the metrics\n",
    "    logging.info(f\"Missing rate: {missing_rate:.2f}\")\n",
    "    \n",
    "    return {'missing_rate': missing_rate}\n",
    "\n",
    "def job():\n",
    "    \"\"\"\n",
    "    Job to run periodically: calculate and log data quality metrics.\n",
    "    \"\"\"\n",
    "    metrics = calculate_quality_metrics(sample_data)\n",
    "    print(f\"Logged metrics: {metrics}\")\n",
    "\n",
    "# Schedule the job every 10 seconds\n",
    "schedule.every(10).seconds.do(job)\n",
    "\n",
    "def run_scheduler():\n",
    "    \"\"\"\n",
    "    Run the scheduler in a loop to execute pending jobs.\n",
    "    \"\"\"\n",
    "    while True:\n",
    "        schedule.run_pending()\n",
    "        time.sleep(1)\n",
    "\n",
    "# Start scheduler in a background thread so it doesn't block main thread\n",
    "scheduler_thread = threading.Thread(target=run_scheduler, daemon=True)\n",
    "scheduler_thread.start()\n",
    "\n",
    "# For demonstration: run the scheduler for 30 seconds and then exit\n",
    "if __name__ == \"__main__\":\n",
    "    for _ in range(3):\n",
    "        time.sleep(10)\n"
   ]
  }
 ],
 "metadata": {
  "kernelspec": {
   "display_name": "Python 3",
   "language": "python",
   "name": "python3"
  },
  "language_info": {
   "codemirror_mode": {
    "name": "ipython",
    "version": 3
   },
   "file_extension": ".py",
   "mimetype": "text/x-python",
   "name": "python",
   "nbconvert_exporter": "python",
   "pygments_lexer": "ipython3",
   "version": "3.10.12"
  }
 },
 "nbformat": 4,
 "nbformat_minor": 2
}

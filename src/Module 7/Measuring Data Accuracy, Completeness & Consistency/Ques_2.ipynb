{
 "cells": [
  {
   "cell_type": "markdown",
   "metadata": {},
   "source": [
    "## Find Conflicting Values Across Datasets\n",
    "\n",
    "**Description**: You have two datasets: `crm_customers.csv` and `erp_customers.csv` . Find customers with conflicting \"email\" information."
   ]
  },
  {
   "cell_type": "code",
   "execution_count": 1,
   "metadata": {},
   "outputs": [
    {
     "name": "stdout",
     "output_type": "stream",
     "text": [
      "Customers with conflicting email information:\n",
      "   customer_id         email_crm           email_erp\n",
      "1            2   bob@example.com  robert@example.com\n",
      "3            4  dave@example.com   david@example.com\n"
     ]
    }
   ],
   "source": [
    "# Write your code from here\n",
    "import pandas as pd\n",
    "\n",
    "# Sample CRM customers dataset\n",
    "crm_customers = pd.DataFrame({\n",
    "    'customer_id': [1, 2, 3, 4],\n",
    "    'email': ['alice@example.com', 'bob@example.com', 'carol@example.com', 'dave@example.com']\n",
    "})\n",
    "\n",
    "# Sample ERP customers dataset\n",
    "erp_customers = pd.DataFrame({\n",
    "    'customer_id': [1, 2, 3, 4],\n",
    "    'email': ['alice@example.com', 'robert@example.com', 'carol@example.com', 'david@example.com']\n",
    "})\n",
    "\n",
    "# Merge datasets on customer_id to compare emails\n",
    "merged = crm_customers.merge(erp_customers, on='customer_id', suffixes=('_crm', '_erp'))\n",
    "\n",
    "# Find rows where emails do not match\n",
    "conflicts = merged[merged['email_crm'] != merged['email_erp']]\n",
    "\n",
    "print(\"Customers with conflicting email information:\")\n",
    "print(conflicts[['customer_id', 'email_crm', 'email_erp']])\n"
   ]
  }
 ],
 "metadata": {
  "kernelspec": {
   "display_name": "Python 3",
   "language": "python",
   "name": "python3"
  },
  "language_info": {
   "codemirror_mode": {
    "name": "ipython",
    "version": 3
   },
   "file_extension": ".py",
   "mimetype": "text/x-python",
   "name": "python",
   "nbconvert_exporter": "python",
   "pygments_lexer": "ipython3",
   "version": "3.10.12"
  }
 },
 "nbformat": 4,
 "nbformat_minor": 2
}

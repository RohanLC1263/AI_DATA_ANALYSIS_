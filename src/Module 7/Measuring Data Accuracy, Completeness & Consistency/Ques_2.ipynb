{
 "cells": [
  {
   "cell_type": "markdown",
   "metadata": {},
   "source": [
    "## Find Conflicting Values Across Datasets\n",
    "\n",
    "**Description**: You have two datasets: `crm_customers.csv` and `erp_customers.csv` . Find customers with conflicting \"email\" information."
   ]
  },
  {
   "cell_type": "code",
   "execution_count": 2,
   "metadata": {},
   "outputs": [
    {
     "name": "stdout",
     "output_type": "stream",
     "text": [
      "Error: [Errno 2] No such file or directory: 'crm_customers.csv'\n"
     ]
    }
   ],
   "source": [
    "# Write your code from here\n",
    "import pandas as pd\n",
    "\n",
    "def load_and_validate_data(crm_path, erp_path):\n",
    "    # Load datasets\n",
    "    crm = pd.read_csv(crm_path)\n",
    "    erp = pd.read_csv(erp_path)\n",
    "\n",
    "    # Basic checks\n",
    "    for df, name in [(crm, 'CRM'), (erp, 'ERP')]:\n",
    "        # Check if required columns exist\n",
    "        required_cols = {'customer_id', 'email'}\n",
    "        if not required_cols.issubset(df.columns):\n",
    "            raise ValueError(f\"{name} dataset missing required columns: {required_cols - set(df.columns)}\")\n",
    "\n",
    "        # Check for nulls in key columns\n",
    "        if df['customer_id'].isnull().any() or df['email'].isnull().any():\n",
    "            raise ValueError(f\"{name} dataset contains nulls in 'customer_id' or 'email' columns\")\n",
    "\n",
    "        # Check data types\n",
    "        if not pd.api.types.is_numeric_dtype(df['customer_id']):\n",
    "            raise TypeError(f\"'customer_id' in {name} dataset must be numeric\")\n",
    "        if not pd.api.types.is_string_dtype(df['email']):\n",
    "            raise TypeError(f\"'email' in {name} dataset must be string\")\n",
    "\n",
    "        # Check uniqueness of customer_id\n",
    "        if df['customer_id'].duplicated().any():\n",
    "            raise ValueError(f\"'customer_id' is not unique in {name} dataset\")\n",
    "\n",
    "    return crm, erp\n",
    "\n",
    "def find_email_conflicts(crm, erp):\n",
    "    # Merge on customer_id\n",
    "    merged = crm.merge(erp, on='customer_id', suffixes=('_crm', '_erp'))\n",
    "\n",
    "    # Identify conflicts where emails differ\n",
    "    conflicts = merged[merged['email_crm'] != merged['email_erp']]\n",
    "\n",
    "    return conflicts[['customer_id', 'email_crm', 'email_erp']]\n",
    "\n",
    "def main():\n",
    "    try:\n",
    "        crm_data, erp_data = load_and_validate_data('crm_customers.csv', 'erp_customers.csv')\n",
    "        conflicts = find_email_conflicts(crm_data, erp_data)\n",
    "\n",
    "        if conflicts.empty:\n",
    "            print(\"No conflicting emails found.\")\n",
    "        else:\n",
    "            print(\"Conflicting emails found:\")\n",
    "            print(conflicts)\n",
    "    except Exception as e:\n",
    "        print(f\"Error: {e}\")\n",
    "\n",
    "if __name__ == \"__main__\":\n",
    "    main()\n"
   ]
  }
 ],
 "metadata": {
  "kernelspec": {
   "display_name": "Python 3",
   "language": "python",
   "name": "python3"
  },
  "language_info": {
   "codemirror_mode": {
    "name": "ipython",
    "version": 3
   },
   "file_extension": ".py",
   "mimetype": "text/x-python",
   "name": "python",
   "nbconvert_exporter": "python",
   "pygments_lexer": "ipython3",
   "version": "3.10.12"
  }
 },
 "nbformat": 4,
 "nbformat_minor": 2
}

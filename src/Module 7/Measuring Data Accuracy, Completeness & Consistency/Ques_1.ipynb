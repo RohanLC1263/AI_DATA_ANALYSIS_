{
 "cells": [
  {
   "cell_type": "markdown",
   "metadata": {},
   "source": [
    "### Task 1: Measure Data Accuracy using a Trusted Source\n",
    "\n",
    "**Description**: You have two datasets of product prices: `company_prices.csv` and\n",
    "`trusted_prices.csv` . Check if the prices in `company_prices.csv` match the prices in\n",
    "`trusted_prices.csv` . Assume both files have a \"product_id\" and \"price\" column."
   ]
  },
  {
   "cell_type": "code",
   "execution_count": 1,
   "metadata": {},
   "outputs": [
    {
     "name": "stdout",
     "output_type": "stream",
     "text": [
      "Price comparison:\n",
      "   product_id  price_company  price_trusted  price_match\n",
      "0         101           20.0           20.0         True\n",
      "1         102           35.5           35.0        False\n",
      "2         103           15.0           15.0         True\n",
      "3         104           40.0           40.0         True\n",
      "\n",
      "Number of price mismatches: 1\n",
      "   product_id  price_company  price_trusted  price_match\n",
      "1         102           35.5           35.0        False\n"
     ]
    }
   ],
   "source": [
    "# Write your code from here\n",
    "import pandas as pd\n",
    "\n",
    "# Sample data creation\n",
    "company_prices = pd.DataFrame({\n",
    "    'product_id': [101, 102, 103, 104],\n",
    "    'price': [20.0, 35.5, 15.0, 40.0]\n",
    "})\n",
    "\n",
    "trusted_prices = pd.DataFrame({\n",
    "    'product_id': [101, 102, 103, 104],\n",
    "    'price': [20.0, 35.0, 15.0, 40.0]\n",
    "})\n",
    "\n",
    "# Merge on product_id to compare prices\n",
    "merged = company_prices.merge(trusted_prices, on='product_id', suffixes=('_company', '_trusted'))\n",
    "\n",
    "# Check if prices match\n",
    "merged['price_match'] = merged['price_company'] == merged['price_trusted']\n",
    "\n",
    "print(\"Price comparison:\")\n",
    "print(merged[['product_id', 'price_company', 'price_trusted', 'price_match']])\n",
    "\n",
    "# Summary of mismatches\n",
    "mismatches = merged[~merged['price_match']]\n",
    "print(f\"\\nNumber of price mismatches: {len(mismatches)}\")\n",
    "print(mismatches)\n"
   ]
  },
  {
   "cell_type": "markdown",
   "metadata": {},
   "source": [
    "### Task 2: Detect Incorrect Values\n",
    "\n",
    "**Description**: In `company_prices.csv` , detect any negative price values which are incorrect values for prices."
   ]
  },
  {
   "cell_type": "code",
   "execution_count": 2,
   "metadata": {},
   "outputs": [
    {
     "name": "stdout",
     "output_type": "stream",
     "text": [
      "Negative prices found:\n",
      "Empty DataFrame\n",
      "Columns: [product_id, price]\n",
      "Index: []\n"
     ]
    }
   ],
   "source": [
    "# Write your code from here\n",
    "# Detect negative prices\n",
    "negative_prices = company_prices[company_prices['price'] < 0]\n",
    "\n",
    "print(\"Negative prices found:\")\n",
    "print(negative_prices)\n"
   ]
  },
  {
   "cell_type": "markdown",
   "metadata": {},
   "source": [
    "### Task 3: Check Missing Data Rates\n",
    "\n",
    "**Description**: Calculate the percentage of missing values in `customer_data.csv` ."
   ]
  },
  {
   "cell_type": "code",
   "execution_count": 3,
   "metadata": {},
   "outputs": [
    {
     "name": "stdout",
     "output_type": "stream",
     "text": [
      "Percentage of missing values per column:\n",
      "customer_id      0.0\n",
      "email           25.0\n",
      "phone_number    25.0\n",
      "age             25.0\n",
      "dtype: float64\n"
     ]
    }
   ],
   "source": [
    "# Write your code from here\n",
    "# Sample customer_data with some missing values\n",
    "customer_data = pd.DataFrame({\n",
    "    'customer_id': [1, 2, 3, 4],\n",
    "    'email': ['a@example.com', None, 'c@example.com', 'd@example.com'],\n",
    "    'phone_number': ['123-456', '234-567', None, '456-789'],\n",
    "    'age': [25, 30, None, 22]\n",
    "})\n",
    "\n",
    "missing_percent = customer_data.isnull().mean() * 100\n",
    "\n",
    "print(\"Percentage of missing values per column:\")\n",
    "print(missing_percent)\n"
   ]
  },
  {
   "cell_type": "markdown",
   "metadata": {},
   "source": [
    "### Task 4: Handling Partially Available Records\n",
    "\n",
    "**Description**: In `customer_data.csv` , identify records with missing \"email\" or \"phone number\" and decide whether to drop or fill them."
   ]
  },
  {
   "cell_type": "code",
   "execution_count": 4,
   "metadata": {},
   "outputs": [
    {
     "name": "stdout",
     "output_type": "stream",
     "text": [
      "Records missing email or phone number:\n",
      "   customer_id          email phone_number   age\n",
      "1            2           None      234-567  30.0\n",
      "2            3  c@example.com         None   NaN\n",
      "\n",
      "Cleaned customer data:\n",
      "   customer_id                          email  phone_number   age\n",
      "0            1                  a@example.com       123-456  25.0\n",
      "1            2  no_email_provided@example.com       234-567  30.0\n",
      "2            3                  c@example.com  000-000-0000   NaN\n",
      "3            4                  d@example.com       456-789  22.0\n"
     ]
    }
   ],
   "source": [
    "# Find rows missing email or phone_number\n",
    "missing_contact = customer_data[customer_data['email'].isnull() | customer_data['phone_number'].isnull()]\n",
    "\n",
    "print(\"Records missing email or phone number:\")\n",
    "print(missing_contact)\n",
    "\n",
    "# Decide: for example, drop rows missing both, fill others\n",
    "# Drop rows missing both email and phone_number\n",
    "drop_condition = customer_data['email'].isnull() & customer_data['phone_number'].isnull()\n",
    "cleaned_data = customer_data[~drop_condition].copy()\n",
    "\n",
    "# Fill missing emails or phones with a placeholder\n",
    "cleaned_data['email'].fillna('no_email_provided@example.com', inplace=True)\n",
    "cleaned_data['phone_number'].fillna('000-000-0000', inplace=True)\n",
    "\n",
    "print(\"\\nCleaned customer data:\")\n",
    "print(cleaned_data)\n"
   ]
  },
  {
   "cell_type": "code",
   "execution_count": null,
   "metadata": {},
   "outputs": [],
   "source": [
    "# Write your code from here"
   ]
  }
 ],
 "metadata": {
  "kernelspec": {
   "display_name": "Python 3",
   "language": "python",
   "name": "python3"
  },
  "language_info": {
   "codemirror_mode": {
    "name": "ipython",
    "version": 3
   },
   "file_extension": ".py",
   "mimetype": "text/x-python",
   "name": "python",
   "nbconvert_exporter": "python",
   "pygments_lexer": "ipython3",
   "version": "3.10.12"
  }
 },
 "nbformat": 4,
 "nbformat_minor": 2
}

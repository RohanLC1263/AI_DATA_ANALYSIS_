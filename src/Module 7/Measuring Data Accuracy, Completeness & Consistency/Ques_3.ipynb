{
 "cells": [
  {
   "cell_type": "markdown",
   "metadata": {},
   "source": [
    "## Compare Data Completeness Over Time\n",
    "\n",
    "**Description**: Analyze the trend of missing data in `\"sales_data.csv\"` over several months stored in a \"date\" column. Visualize missing data rates by month."
   ]
  },
  {
   "cell_type": "code",
   "execution_count": 2,
   "metadata": {},
   "outputs": [
    {
     "name": "stdout",
     "output_type": "stream",
     "text": [
      "Sample sales_data.csv generated with shape: (182, 5)\n",
      "        date  Monthly_Sales Region Product_Category  Customer_Visits\n",
      "0 2024-01-01         4174.0  North                B             72.0\n",
      "1 2024-01-02         4507.0  South                C            176.0\n",
      "2 2024-01-03         1860.0   East                C            186.0\n",
      "3 2024-01-04         2294.0   East              NaN            189.0\n",
      "4 2024-01-05         2130.0  South                A            178.0\n"
     ]
    }
   ],
   "source": [
    "# Write your code from here\n",
    "import pandas as pd\n",
    "import numpy as np\n",
    "\n",
    "# Seed for reproducibility\n",
    "np.random.seed(42)\n",
    "\n",
    "# Generate date range for 6 months (e.g., Jan to June 2024)\n",
    "dates = pd.date_range(start='2024-01-01', end='2024-06-30', freq='D')\n",
    "\n",
    "# Number of rows (daily)\n",
    "n = len(dates)\n",
    "\n",
    "# Create synthetic sales data with some randomness\n",
    "data = {\n",
    "    'date': dates,\n",
    "    'Monthly_Sales': np.random.randint(1000, 5000, size=n),\n",
    "    'Region': np.random.choice(['North', 'South', 'East', 'West'], size=n),\n",
    "    'Product_Category': np.random.choice(['A', 'B', 'C'], size=n),\n",
    "    'Customer_Visits': np.random.randint(50, 200, size=n)\n",
    "}\n",
    "\n",
    "df = pd.DataFrame(data)\n",
    "\n",
    "# Introduce missing values (~5%)\n",
    "for col in ['Monthly_Sales', 'Region', 'Product_Category', 'Customer_Visits']:\n",
    "    df.loc[df.sample(frac=0.05).index, col] = np.nan\n",
    "\n",
    "# Save to CSV\n",
    "df.to_csv('sales_data.csv', index=False)\n",
    "\n",
    "print(\"Sample sales_data.csv generated with shape:\", df.shape)\n",
    "print(df.head())\n"
   ]
  }
 ],
 "metadata": {
  "kernelspec": {
   "display_name": "Python 3",
   "language": "python",
   "name": "python3"
  },
  "language_info": {
   "codemirror_mode": {
    "name": "ipython",
    "version": 3
   },
   "file_extension": ".py",
   "mimetype": "text/x-python",
   "name": "python",
   "nbconvert_exporter": "python",
   "pygments_lexer": "ipython3",
   "version": "3.10.12"
  }
 },
 "nbformat": 4,
 "nbformat_minor": 2
}

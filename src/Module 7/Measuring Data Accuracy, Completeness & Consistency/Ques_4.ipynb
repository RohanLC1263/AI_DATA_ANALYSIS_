{
 "cells": [
  {
   "cell_type": "markdown",
   "metadata": {},
   "source": [
    "## Ensuring Consistency in Multi-source Data Integration\n",
    "\n",
    "**Description**: Validate the integration of two datasets `products_A.csv` and `products_B.csv` . Ensure consistency in product \"category\" information."
   ]
  },
  {
   "cell_type": "code",
   "execution_count": 1,
   "metadata": {},
   "outputs": [
    {
     "name": "stdout",
     "output_type": "stream",
     "text": [
      "Inconsistent Categories Between Sources:\n",
      "\n",
      "   product_id product_name_a   category_a   category_b\n",
      "1         102          Mouse  Accessories  Peripherals\n"
     ]
    }
   ],
   "source": [
    "# Write your code from here\n",
    "import pandas as pd\n",
    "\n",
    "# Create products_A.csv\n",
    "data_a = {\n",
    "    'product_id': [101, 102, 103, 104, 105],\n",
    "    'product_name': ['Laptop', 'Mouse', 'Keyboard', 'Monitor', 'Webcam'],\n",
    "    'category': ['Electronics', 'Accessories', 'Accessories', 'Electronics', 'Accessories']\n",
    "}\n",
    "df_a = pd.DataFrame(data_a)\n",
    "df_a.to_csv('products_A.csv', index=False)\n",
    "\n",
    "# Create products_B.csv\n",
    "data_b = {\n",
    "    'product_id': [101, 102, 103, 104, 105],\n",
    "    'product_name': ['Laptop', 'Mouse', 'Keyboard', 'Monitor', 'Webcam'],\n",
    "    'category': ['Electronics', 'Peripherals', 'Accessories', 'Electronics', 'Accessories']\n",
    "}\n",
    "df_b = pd.DataFrame(data_b)\n",
    "df_b.to_csv('products_B.csv', index=False)\n",
    "\n",
    "# Load datasets\n",
    "products_a = pd.read_csv('products_A.csv')\n",
    "products_b = pd.read_csv('products_B.csv')\n",
    "\n",
    "# Merge on product_id\n",
    "merged = pd.merge(products_a, products_b, on='product_id', suffixes=('_a', '_b'))\n",
    "\n",
    "# Find inconsistent category values\n",
    "inconsistent = merged[merged['category_a'] != merged['category_b']]\n",
    "\n",
    "# Display results\n",
    "print(\"Inconsistent Categories Between Sources:\\n\")\n",
    "print(inconsistent[['product_id', 'product_name_a', 'category_a', 'category_b']])\n"
   ]
  }
 ],
 "metadata": {
  "kernelspec": {
   "display_name": "Python 3",
   "language": "python",
   "name": "python3"
  },
  "language_info": {
   "codemirror_mode": {
    "name": "ipython",
    "version": 3
   },
   "file_extension": ".py",
   "mimetype": "text/x-python",
   "name": "python",
   "nbconvert_exporter": "python",
   "pygments_lexer": "ipython3",
   "version": "3.10.12"
  }
 },
 "nbformat": 4,
 "nbformat_minor": 2
}

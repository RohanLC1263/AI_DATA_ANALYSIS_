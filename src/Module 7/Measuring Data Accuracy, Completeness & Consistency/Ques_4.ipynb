{
 "cells": [
  {
   "cell_type": "markdown",
   "metadata": {},
   "source": [
    "## Ensuring Consistency in Multi-source Data Integration\n",
    "\n",
    "**Description**: Validate the integration of two datasets `products_A.csv` and `products_B.csv` . Ensure consistency in product \"category\" information."
   ]
  },
  {
   "cell_type": "code",
   "execution_count": 4,
   "metadata": {},
   "outputs": [
    {
     "name": "stdout",
     "output_type": "stream",
     "text": [
      "⚠️ Category inconsistencies found:\n",
      "\n",
      "   product_id product_name_a   category_a   category_b\n",
      "1         102          Mouse  Accessories  Peripherals\n"
     ]
    }
   ],
   "source": [
    "# Write your code from here\n",
    "import pandas as pd\n",
    "import os\n",
    "\n",
    "def load_csv_with_validation(filepath, required_columns):\n",
    "    \"\"\"\n",
    "    Load CSV with validation for file existence, format, and required columns.\n",
    "    \"\"\"\n",
    "    if not os.path.exists(filepath):\n",
    "        raise FileNotFoundError(f\"File '{filepath}' does not exist.\")\n",
    "    \n",
    "    try:\n",
    "        df = pd.read_csv(filepath)\n",
    "    except Exception as e:\n",
    "        raise ValueError(f\"Error reading '{filepath}': {e}\")\n",
    "    \n",
    "    if not required_columns.issubset(df.columns):\n",
    "        raise ValueError(f\"Missing columns in '{filepath}'. Required: {required_columns}, Found: {df.columns}\")\n",
    "    \n",
    "    # Optional: Validate data types for 'product_id' and 'category'\n",
    "    if not pd.api.types.is_numeric_dtype(df['product_id']):\n",
    "        raise TypeError(\"Column 'product_id' must be numeric.\")\n",
    "    if not pd.api.types.is_string_dtype(df['category']):\n",
    "        raise TypeError(\"Column 'category' must be of string/object type.\")\n",
    "    \n",
    "    return df\n",
    "\n",
    "\n",
    "def check_category_consistency(df1, df2):\n",
    "    \"\"\"\n",
    "    Compare 'category' values for matching 'product_id' in two dataframes.\n",
    "    \"\"\"\n",
    "    merged = pd.merge(df1, df2, on='product_id', suffixes=('_a', '_b'))\n",
    "    inconsistent = merged[merged['category_a'] != merged['category_b']]\n",
    "    return inconsistent[['product_id', 'product_name_a', 'category_a', 'category_b']]\n",
    "\n",
    "\n",
    "# --- Main Execution ---\n",
    "if __name__ == \"__main__\":\n",
    "    required_cols = {'product_id', 'product_name', 'category'}\n",
    "    try:\n",
    "        df_a = load_csv_with_validation(\"products_A.csv\", required_cols)\n",
    "        df_b = load_csv_with_validation(\"products_B.csv\", required_cols)\n",
    "\n",
    "        inconsistencies = check_category_consistency(df_a, df_b)\n",
    "        if inconsistencies.empty:\n",
    "            print(\"✅ All categories match between the two datasets.\")\n",
    "        else:\n",
    "            print(\"⚠️ Category inconsistencies found:\\n\")\n",
    "            print(inconsistencies)\n",
    "\n",
    "    except Exception as err:\n",
    "        print(f\"❌ Error: {err}\")\n"
   ]
  }
 ],
 "metadata": {
  "kernelspec": {
   "display_name": "Python 3",
   "language": "python",
   "name": "python3"
  },
  "language_info": {
   "codemirror_mode": {
    "name": "ipython",
    "version": 3
   },
   "file_extension": ".py",
   "mimetype": "text/x-python",
   "name": "python",
   "nbconvert_exporter": "python",
   "pygments_lexer": "ipython3",
   "version": "3.10.12"
  }
 },
 "nbformat": 4,
 "nbformat_minor": 2
}

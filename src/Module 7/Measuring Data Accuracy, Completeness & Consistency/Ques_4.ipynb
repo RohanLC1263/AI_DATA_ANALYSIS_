{
 "cells": [
  {
   "cell_type": "markdown",
   "metadata": {},
   "source": [
    "## Ensuring Consistency in Multi-source Data Integration\n",
    "\n",
    "**Description**: Validate the integration of two datasets `products_A.csv` and `products_B.csv` . Ensure consistency in product \"category\" information."
   ]
  },
  {
   "cell_type": "code",
   "execution_count": 3,
   "metadata": {},
   "outputs": [
    {
     "name": "stdout",
     "output_type": "stream",
     "text": [
      "⚠️ Inconsistent category information found:\n",
      "\n",
      "   product_id product_name_a   category_a   category_b\n",
      "1         102          Mouse  Accessories  Peripherals\n"
     ]
    }
   ],
   "source": [
    "# Write your code from here\n",
    "import pandas as pd\n",
    "import os\n",
    "\n",
    "def load_csv(file_path):\n",
    "    \"\"\"\n",
    "    Loads a CSV file and validates the presence of required columns.\n",
    "    \"\"\"\n",
    "    if not os.path.exists(file_path):\n",
    "        raise FileNotFoundError(f\"File not found: {file_path}\")\n",
    "        \n",
    "    df = pd.read_csv(file_path)\n",
    "    \n",
    "    required_columns = {'product_id', 'product_name', 'category'}\n",
    "    if not required_columns.issubset(df.columns):\n",
    "        raise ValueError(f\"Missing required columns in {file_path}. Found columns: {df.columns}\")\n",
    "    \n",
    "    return df\n",
    "\n",
    "\n",
    "def find_category_inconsistencies(df_a, df_b):\n",
    "    \"\"\"\n",
    "    Finds inconsistencies in the 'category' column between two datasets.\n",
    "    \"\"\"\n",
    "    merged = pd.merge(df_a, df_b, on='product_id', suffixes=('_a', '_b'))\n",
    "    \n",
    "    inconsistent = merged[merged['category_a'] != merged['category_b']]\n",
    "    return inconsistent[['product_id', 'product_name_a', 'category_a', 'category_b']]\n",
    "\n",
    "\n",
    "# --- Main Execution Block ---\n",
    "try:\n",
    "    products_a = load_csv('products_A.csv')\n",
    "    products_b = load_csv('products_B.csv')\n",
    "    \n",
    "    inconsistencies = find_category_inconsistencies(products_a, products_b)\n",
    "    \n",
    "    if inconsistencies.empty:\n",
    "        print(\"✅ No inconsistencies found in 'category' information.\")\n",
    "    else:\n",
    "        print(\"⚠️ Inconsistent category information found:\\n\")\n",
    "        print(inconsistencies)\n",
    "\n",
    "except Exception as e:\n",
    "    print(f\"❌ Error: {e}\")\n"
   ]
  }
 ],
 "metadata": {
  "kernelspec": {
   "display_name": "Python 3",
   "language": "python",
   "name": "python3"
  },
  "language_info": {
   "codemirror_mode": {
    "name": "ipython",
    "version": 3
   },
   "file_extension": ".py",
   "mimetype": "text/x-python",
   "name": "python",
   "nbconvert_exporter": "python",
   "pygments_lexer": "ipython3",
   "version": "3.10.12"
  }
 },
 "nbformat": 4,
 "nbformat_minor": 2
}
